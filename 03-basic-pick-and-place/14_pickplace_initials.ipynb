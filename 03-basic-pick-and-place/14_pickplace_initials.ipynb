{
 "cells": [
  {
   "cell_type": "markdown",
   "metadata": {
    "cell_id": "463b8856a0d743369405f6e78b76754b",
    "colab_type": "text",
    "deepnote_cell_type": "markdown",
    "id": "EgiF12Hf1Dhs"
   },
   "source": [
    "# Manipulating Assets\n",
    "\n",
    "In this notebook you will program the robot to spell out your initials!. You will have to specify the start and goal poses of the gripper such that the letters in your initials are grasped and placed appropriately. You will also have to write a Jacobian-based velocity controller and connect it to the `HardwareStation` in your simulation diagram.\n",
    "\n",
    "\n",
    "**Learning Objectives:**\n",
    "1. Perform the necessary spatial algebra for designing grasp and placement poses\n",
    "2. Use Differential IK to write a gripper controller\n",
    "3. Understand the diagram structure for an actively controlled IIWA wrapped in a `HardwareStation`\n",
    "\n",
    "**What you'll build:** A simulation of the IIWA manipulating your initials such that they get placed in front of the robot. \n",
    "\n",
    "**Reference:** The structure is quite similar to the [Pick and Place Demo in Chapter 3](https://manipulation.csail.mit.edu/pick.html#example13) of Robotic Manipulation. <u> Take a moment to make sure that notebook makes sense to you.</u>\n",
    "\n",
    "Let's start by getting our imports out of the way and launching Meshcat. "
   ]
  },
  {
   "cell_type": "code",
   "execution_count": 1,
   "metadata": {
    "cell_id": "6a368781385a4542bfb5f79bc5f15692",
    "colab": {},
    "colab_type": "code",
    "deepnote_cell_type": "code",
    "execution_context_id": "a17f6360-8d20-48d6-aee8-0047d51353d9",
    "execution_millis": 0,
    "execution_start": 1758227569415,
    "id": "eeMrMI0-1Dhu",
    "source_hash": "e7b84bc3"
   },
   "outputs": [
    {
     "name": "stderr",
     "output_type": "stream",
     "text": [
      "/usr/local/lib/python3.12/dist-packages/matplotlib/projections/__init__.py:63: UserWarning: Unable to import Axes3D. This may be due to multiple versions of Matplotlib being installed (e.g. as a system package and as a pip package). As a result, the 3D projection is not available.\n",
      "  warnings.warn(\"Unable to import Axes3D. This may be due to multiple versions of \"\n"
     ]
    }
   ],
   "source": [
    "from pathlib import Path\n",
    "\n",
    "import mpld3\n",
    "import numpy as np\n",
    "from pydrake.all import (\n",
    "    AddFrameTriadIllustration,\n",
    "    BasicVector,\n",
    "    Context,\n",
    "    DiagramBuilder,\n",
    "    Integrator,\n",
    "    JacobianWrtVariable,\n",
    "    LeafSystem,\n",
    "    ModelInstanceIndex,\n",
    "    MultibodyPlant,\n",
    "    PiecewisePolynomial,\n",
    "    PiecewisePose,\n",
    "    RigidTransform,\n",
    "    RotationMatrix,\n",
    "    Simulator,\n",
    "    StartMeshcat,\n",
    "    Trajectory,\n",
    "    TrajectorySource,\n",
    ")\n",
    "\n",
    "from manipulation import running_as_notebook\n",
    "from manipulation.exercises.grader import Grader\n",
    "from manipulation.exercises.pick.test_pickplace_initials import TestPickPlacePoses\n",
    "from manipulation.letter_generation import create_sdf_asset_from_letter\n",
    "from manipulation.station import LoadScenario, MakeHardwareStation\n",
    "\n",
    "if running_as_notebook:\n",
    "    mpld3.enable_notebook()"
   ]
  },
  {
   "cell_type": "code",
   "execution_count": 2,
   "metadata": {
    "cell_id": "03d661517f15488491c3587d6d0f1d70",
    "deepnote_cell_type": "code",
    "execution_context_id": "a17f6360-8d20-48d6-aee8-0047d51353d9",
    "execution_millis": 1,
    "execution_start": 1758227569465,
    "source_hash": "6d42057f"
   },
   "outputs": [
    {
     "name": "stderr",
     "output_type": "stream",
     "text": [
      "INFO:drake:Meshcat listening for connections at http://localhost:7000\n"
     ]
    }
   ],
   "source": [
    "# Start the visualizer.\n",
    "meshcat = StartMeshcat()"
   ]
  },
  {
   "cell_type": "markdown",
   "metadata": {
    "cell_id": "400f85cd3d3f49e9918e0e64af723192",
    "deepnote_cell_type": "markdown"
   },
   "source": [
    "# Design Grasp Pose\n",
    "\n",
    "The grasp pose is commonly defined in the object frame so that the grasp pose ${^OX^G}$ is independent of the pose of the object. The grasp pose in the world frame can be computed by \n",
    "\n",
    "$${{^WX^G} = {}{^W}X^{O}} {^OX^G},$$\n",
    "\n",
    "\n",
    "where $W$ stands for the world frame and $G$ denotes the grasp frame, following the convention in the textbook.\n",
    "\n",
    "\n",
    "You should notice from the visualization below that the gripper frame is different from the world frame. In particular, the +y axis of the gripper frame points vertically downward, and the +z axis of the gripper points backward. This is an important observation for this exercise.\n",
    "\n",
    "Simply commanding the gripper to the grasp pose does not ensure a collision-free path. To address this, we define a \"pre-pick\" pose—a nearby position with enough clearance to let the robot move into the grasp pose without collisions."
   ]
  },
  {
   "cell_type": "markdown",
   "metadata": {
    "cell_id": "42132589d1994046896a5dae45c7d81a",
    "deepnote_cell_type": "markdown"
   },
   "source": [
    "**Use the gripper and object's orientation from the image to design a grasp pose such that the gripper is 0.17 meters above the object frame.**\n",
    "\n",
    "**Given the object pose X_WO, we will need both X_OG, the grasp pose in the object frame, and X_WG, the grasp pose in the world frame.**\n",
    "\n",
    "**Remember that the X-axis is shown in red, Y-axis is in green, and Z-axis in blue.**"
   ]
  },
  {
   "cell_type": "markdown",
   "metadata": {
    "cell_id": "d7ed56eff4de420bae003c0a9ac88296",
    "deepnote_cell_type": "markdown"
   },
   "source": [
    "![ps2_fig.png](https://raw.githubusercontent.com/RussTedrake/manipulation/master/book/figures/exercises/grasp_letter.png)"
   ]
  },
  {
   "cell_type": "code",
   "execution_count": 3,
   "metadata": {
    "cell_id": "f03cf28b14f8410dbf16636d869de730",
    "deepnote_cell_type": "code",
    "execution_context_id": "a17f6360-8d20-48d6-aee8-0047d51353d9",
    "execution_millis": 0,
    "execution_start": 1758231611435,
    "source_hash": "f64d6d7b"
   },
   "outputs": [],
   "source": [
    "def design_grasp_pose(X_WO: RigidTransform) -> tuple[RigidTransform, RigidTransform]:\n",
    "    \"\"\"\n",
    "    fill in our code below\n",
    "    \"\"\"\n",
    "    p_OG = [0, 0.17, 0]\n",
    "    # rotation: rotate around x by 180, then rotate around y by -90\n",
    "    R_OG = RotationMatrix.MakeYRotation(-np.pi/2) @ RotationMatrix.MakeXRotation(np.pi)\n",
    "    # R_OG = RotationMatrix.MakeXRotation(np.pi/2)\n",
    "    X_OG = RigidTransform(R_OG, p_OG)\n",
    "\n",
    "    X_WG = X_WO @ X_OG\n",
    "    return X_OG, X_WG"
   ]
  },
  {
   "cell_type": "code",
   "execution_count": 4,
   "metadata": {
    "cell_id": "78b7b89e48c6457fb343b4f9103b6683",
    "deepnote_cell_type": "code",
    "execution_context_id": "a17f6360-8d20-48d6-aee8-0047d51353d9",
    "execution_millis": 0,
    "execution_start": 1758231611485,
    "source_hash": "d15eb0db"
   },
   "outputs": [
    {
     "data": {
      "text/plain": [
       "(RigidTransform(\n",
       "   R=RotationMatrix([\n",
       "     [6.123233995736766e-17, -1.2246467991473532e-16, 1.0],\n",
       "     [0.0, -1.0, -1.2246467991473532e-16],\n",
       "     [1.0, 7.498798913309288e-33, -6.123233995736766e-17],\n",
       "   ]),\n",
       "   p=[0.0, 0.17, 0.0],\n",
       " ),\n",
       " RigidTransform(\n",
       "   R=RotationMatrix([\n",
       "     [6.123233995736766e-17, -1.2246467991473532e-16, 1.0],\n",
       "     [0.0, -1.0, -1.2246467991473532e-16],\n",
       "     [1.0, 7.498798913309288e-33, -6.123233995736766e-17],\n",
       "   ]),\n",
       "   p=[0.0, 0.17, 0.0],\n",
       " ))"
      ]
     },
     "execution_count": 4,
     "metadata": {},
     "output_type": "execute_result"
    }
   ],
   "source": [
    "design_grasp_pose(RigidTransform())"
   ]
  },
  {
   "cell_type": "markdown",
   "metadata": {
    "cell_id": "5e6381187d7f41dcbd3b33056a975592",
    "deepnote_cell_type": "markdown"
   },
   "source": [
    "# Design Goal Pose\n",
    "We've figured out where the robot gripper needs to move given the initial pose of the objects. Now we need to decide where the gripper needs to go to place the object. \n",
    "\n",
    "You'll notice in the figure that the first initial (\"S\") is facing the right direction but is offset translationally (it is behind the robot). You will design a placement pose for that first initial such that it is 0.4 meters left (-x in the world frame) of the second initial. \n",
    "\n",
    "The second initial (\"C\") is located at the right pose, but is rotated so that it is facing perpendicular to the robot. We want it to have the same orientation as the first initial. In other words, you will design a placement pose for the second initial so that its y-axis point up in the world frame and its z-axis point along the world -y axis.\n",
    "\n",
    "**Write a function that takes the pose of your first initial and second initial and computes corrected poses for each. Then, given the grasp pose, find the correct gripper poses in the world frame to achieve these poses.**"
   ]
  },
  {
   "cell_type": "markdown",
   "metadata": {
    "cell_id": "0bef33c1bd2247a086d6b140dc233ad5",
    "deepnote_cell_type": "markdown"
   },
   "source": [
    "![ps2_2.png](https://raw.githubusercontent.com/RussTedrake/manipulation/master/book/figures/exercises/place_letter.png)"
   ]
  },
  {
   "cell_type": "code",
   "execution_count": 5,
   "metadata": {
    "cell_id": "e6c49cf4e04743d8b087b1ed6b24276d",
    "deepnote_cell_type": "code",
    "execution_context_id": "a17f6360-8d20-48d6-aee8-0047d51353d9",
    "execution_millis": 1,
    "execution_start": 1758232144525,
    "source_hash": "3183278b"
   },
   "outputs": [
    {
     "name": "stdout",
     "output_type": "stream",
     "text": [
      "Hello world\n"
     ]
    }
   ],
   "source": [
    "def design_goal_poses(\n",
    "    X_WO1: RigidTransform, X_WO2: RigidTransform, X_OG: RigidTransform\n",
    ") -> tuple[RigidTransform, RigidTransform]:\n",
    "    \"\"\"\n",
    "    fill in our code below. We are designing poses for two objects, so we define\n",
    "    O1 as a frame centered on the first initial provided and O2 as a frame centered on the\n",
    "    second initial provided.\n",
    "    \"\"\"\n",
    "    X_WO2goal = X_WO2 @ RigidTransform(R=RotationMatrix.MakeYRotation(-np.pi/2))\n",
    "    X_WO1goal = X_WO2goal @ RigidTransform(p=[-0.4, 0, 0])\n",
    "\n",
    "    # X_WO2goal = X_WO2\n",
    "    # X_WO1goal = X_WO1\n",
    "\n",
    "    X_WG2goal = design_grasp_pose(X_WO2goal)[1]\n",
    "    X_WG1goal = design_grasp_pose(X_WO1goal)[1]\n",
    "    return X_WG1goal, X_WG2goal\n",
    "\n",
    "print(\"Hello world\")"
   ]
  },
  {
   "cell_type": "code",
   "execution_count": 6,
   "metadata": {
    "cell_id": "9afdc192f9814a48804860fac8157799",
    "deepnote_cell_type": "code",
    "execution_context_id": "a17f6360-8d20-48d6-aee8-0047d51353d9",
    "execution_millis": 0,
    "execution_start": 1758232144585,
    "source_hash": "512f2ba5"
   },
   "outputs": [
    {
     "data": {
      "text/plain": [
       "(RigidTransform(\n",
       "   R=RotationMatrix([\n",
       "     [-1.0, -1.4997597826618576e-32, 1.2246467991473532e-16],\n",
       "     [0.0, -1.0, -1.2246467991473532e-16],\n",
       "     [1.2246467991473532e-16, -1.2246467991473532e-16, 1.0],\n",
       "   ]),\n",
       "   p=[-2.4492935982947065e-17, 0.17, -0.4],\n",
       " ),\n",
       " RigidTransform(\n",
       "   R=RotationMatrix([\n",
       "     [-1.0, -1.4997597826618576e-32, 1.2246467991473532e-16],\n",
       "     [0.0, -1.0, -1.2246467991473532e-16],\n",
       "     [1.2246467991473532e-16, -1.2246467991473532e-16, 1.0],\n",
       "   ]),\n",
       "   p=[0.0, 0.17, 0.0],\n",
       " ))"
      ]
     },
     "execution_count": 6,
     "metadata": {},
     "output_type": "execute_result"
    }
   ],
   "source": [
    "design_goal_poses(RigidTransform(), RigidTransform(), RigidTransform())"
   ]
  },
  {
   "cell_type": "markdown",
   "metadata": {
    "cell_id": "694d66ffce5c4cdbba3d38bada829b2b",
    "deepnote_cell_type": "markdown"
   },
   "source": [
    "# Design Approach Pose\n",
    "\n",
    "For both the pick and place poses, the gripper has to move close to the letters that are on the table. If it approaches those letters from the side, or if it moves one letter too close to the other, then the collision risks knocking over one of the two letters. To deal with this, we usually define \"pre-pick\" and \"pre-place\" poses for the gripper to go to. These poses have the property that the robot can achieve them without risking collision, and that the robot can move to the next pose in the trajectory without unwanted collisions. \n",
    "\n",
    "**Write a function that takes a gripper pose X_WG and returns an approach pose X_WGApproach. This frame will have a height of 0.1 when measured from frame G.**"
   ]
  },
  {
   "cell_type": "code",
   "execution_count": 7,
   "metadata": {
    "cell_id": "d7083765f4a4412fa374f57bdbec0292",
    "deepnote_cell_type": "code",
    "execution_context_id": "a17f6360-8d20-48d6-aee8-0047d51353d9",
    "execution_millis": 0,
    "execution_start": 1758232144645,
    "source_hash": "7dbf8ea9"
   },
   "outputs": [],
   "source": [
    "def approach_pose(X_WG: RigidTransform) -> RigidTransform:\n",
    "    \"\"\"\n",
    "    fill in our code below\n",
    "    \"\"\"\n",
    "    X_WGApproach = RigidTransform(p=[0, 0, 0.1]) @ X_WG\n",
    "    return X_WGApproach"
   ]
  },
  {
   "cell_type": "markdown",
   "metadata": {
    "cell_id": "83ca46f5c2e343a6b6878d86727d9100",
    "deepnote_cell_type": "markdown"
   },
   "source": [
    "# From Keyframes to a Trajectory\n",
    "\n",
    "Great! So to manipulate the two initials the robot is going to follow this trajectory\n",
    "- Start at its default configuration (gripper opened)\n",
    "- Move to the first prepick pose (gripper opened)\n",
    "- Move to the grasp pose (gripper opened)\n",
    "- Remain at the grasp pose (gripper closed)\n",
    "- move to the default configuration (gripper closed)\n",
    "- move to the first place pose (gripper closed)\n",
    "- remain at the first place pose (gripper opened)\n",
    "- return to the default configuration and repeat the process for the second initial\n",
    "\n",
    "\n",
    "We've already solved for all of these poses! The next steps are to turn them into a valid trajectory we can command the robot to follow. \n",
    "\n",
    "**Your job is to implement the `MakeTrajectory` function.** It will take as input \n",
    "- a list of gripper poses of length L\n",
    "- an 1xL numpy array of gripper states (distance between the two fingers)\n",
    "- a list of timestamps of length L\n",
    "\n",
    "It should return\n",
    "- the **velocities** corresponding to the Piecewise trajectory defined in terms of gripper poses (of type `Trajectory`)\n",
    "- a trajectory defining the state of the fingers."
   ]
  },
  {
   "cell_type": "code",
   "execution_count": 8,
   "metadata": {
    "cell_id": "4762546905ae469c97827fe34fb9d568",
    "deepnote_cell_type": "code",
    "execution_context_id": "a17f6360-8d20-48d6-aee8-0047d51353d9",
    "execution_millis": 0,
    "execution_start": 1758232144695,
    "source_hash": "2c0e149f"
   },
   "outputs": [],
   "source": [
    "def make_trajectory(\n",
    "    X_Gs: list[RigidTransform], finger_values: np.ndarray, sample_times: list[float]\n",
    ") -> tuple[Trajectory, PiecewisePolynomial]:\n",
    "    robot_velocity_trajectory = None\n",
    "    traj_wsg_command = None\n",
    "\n",
    "    # TODO: define a PiecewisePose out of the X_Gs\n",
    "    # N = len(X_Gs)\n",
    "    piecewise = PiecewisePose.MakeLinear(sample_times, X_Gs)\n",
    "\n",
    "    # TODO: set robot_velocity_trajectory to the derivative of the pose trajectory you just defined\n",
    "    robot_velocity_trajectory = piecewise.MakeDerivative()\n",
    "\n",
    "    # TODO: set traj_wsg_command to a PiecewisePolynomial that commands the fingers\n",
    "    traj_wsg_command = PiecewisePolynomial.FirstOrderHold(sample_times, finger_values)\n",
    "\n",
    "    return robot_velocity_trajectory, traj_wsg_command"
   ]
  },
  {
   "cell_type": "markdown",
   "metadata": {
    "cell_id": "ca621272d6384d10bca8da18df40956f",
    "deepnote_cell_type": "markdown"
   },
   "source": [
    "# Initializing our System\n",
    "\n",
    "Let's spin up a system with all of our assets. First, we'll generate the asset files for our first and last initial as well as the table. Then, we define scenario directive in YAML format. Just like problem set 1! \n",
    "\n",
    "You'll notice a new keyword in the call to `create_sdf_asset_from_letter` below. Now that we are manipulating these assets, not just spawning them into the scene, the choice of geometry we use to represent the letters impacts the physics of our simulation!. By setting `use_bbox_collision_geometry=True`, we are choosing to model the letters with their _Axis-Aligned Bounding Box_. This means that when MultibodyPlant is evaluating the dynamics of the scene, it will treat the letters as rectangular boxes. \n",
    "\n",
    "**Be sure to fill in your (2) initials!**"
   ]
  },
  {
   "cell_type": "code",
   "execution_count": 9,
   "metadata": {
    "cell_id": "91d8134b2b7649f38f52ee739aa57939",
    "deepnote_cell_type": "code",
    "execution_context_id": "a17f6360-8d20-48d6-aee8-0047d51353d9",
    "execution_millis": 0,
    "execution_start": 1758232144755,
    "source_hash": "aabfec1c"
   },
   "outputs": [],
   "source": [
    "initials = \"WF\""
   ]
  },
  {
   "cell_type": "code",
   "execution_count": 10,
   "metadata": {
    "cell_id": "ca09871af9314e88863cbfb3233fd096",
    "code_folding": [],
    "deepnote_cell_type": "code",
    "execution_context_id": "a17f6360-8d20-48d6-aee8-0047d51353d9",
    "execution_millis": 2478,
    "execution_start": 1758232144805,
    "source_hash": "cba38d38"
   },
   "outputs": [],
   "source": [
    "output_dir = Path(\"assets/\")\n",
    "for letter in initials:\n",
    "    create_sdf_asset_from_letter(\n",
    "        text=letter,\n",
    "        font_name=\"DejaVu Sans\",\n",
    "        letter_height_meters=0.2,\n",
    "        extrusion_depth_meters=0.04,\n",
    "        output_dir=output_dir / f\"{letter}_model\",\n",
    "        use_bbox_collision_geometry=True,\n",
    "        mass=0.1,\n",
    "    )\n",
    "letter_sdfs = [\n",
    "    f\"{Path.cwd()}/assets/{letter}_model/{letter}.sdf\" for letter in initials\n",
    "]\n",
    "\n",
    "table_sdf = \"\"\"<?xml version=\"1.0\"?>\n",
    "<sdf version=\"1.7\">\n",
    "  <model name=\"table\">\n",
    "    <pose>0 0 0 0 0 0</pose>\n",
    "    <link name=\"table_link\">\n",
    "      <inertial>\n",
    "        <mass>20</mass>\n",
    "        <inertia>\n",
    "          <ixx>1.0</ixx>\n",
    "          <ixy>0.0</ixy>\n",
    "          <ixz>0.0</ixz>\n",
    "          <iyy>1.0</iyy>\n",
    "          <iyz>0.0</iyz>\n",
    "          <izz>1.0</izz>\n",
    "        </inertia>\n",
    "      </inertial>\n",
    "      <collision name=\"box_collision\">\n",
    "        <geometry>\n",
    "          <box>\n",
    "            <size>2 2 0.1</size>\n",
    "          </box>\n",
    "        </geometry>\n",
    "      </collision>\n",
    "      <visual name=\"box_visual\">\n",
    "        <geometry>\n",
    "          <box>\n",
    "            <size>2 2 0.1</size>\n",
    "          </box>\n",
    "        </geometry>\n",
    "      </visual>\n",
    "    </link>\n",
    "  </model>\n",
    "</sdf>\n",
    "\"\"\"\n",
    "\n",
    "abs_table_sdf_path = \"assets/table.sdf\"\n",
    "with open(abs_table_sdf_path, \"w\") as f:\n",
    "    f.write(table_sdf)\n",
    "\n",
    "table_sdf = f\"{Path.cwd()}/assets/table.sdf\"\n",
    "scenario_yaml = f\"\"\"directives:\n",
    "- add_model:\n",
    "    name: iiwa\n",
    "    file: package://drake_models/iiwa_description/sdf/iiwa7_no_collision.sdf\n",
    "    default_joint_positions:\n",
    "        iiwa_joint_1: [-1.57]\n",
    "        iiwa_joint_2: [0.1]\n",
    "        iiwa_joint_3: [0]\n",
    "        iiwa_joint_4: [-1.2]\n",
    "        iiwa_joint_5: [0]\n",
    "        iiwa_joint_6: [ 1.6]\n",
    "        iiwa_joint_7: [0]\n",
    "- add_weld:\n",
    "    parent: world\n",
    "    child: iiwa::iiwa_link_0\n",
    "- add_model:\n",
    "    name: wsg\n",
    "    file: package://manipulation/hydro/schunk_wsg_50_with_tip.sdf\n",
    "- add_weld:\n",
    "    parent: iiwa::iiwa_link_7\n",
    "    child: wsg::body\n",
    "    X_PC:\n",
    "        translation: [0, 0, 0.09]\n",
    "        rotation: !Rpy {{ deg: [90, 0, 90]}}\n",
    "- add_model:\n",
    "    name: table\n",
    "    file: file://{table_sdf}\n",
    "- add_weld:\n",
    "    parent: world\n",
    "    child: table::table_link\n",
    "    X_PC:\n",
    "        translation: [0.0, 0.0, -0.05]\n",
    "        rotation: !Rpy {{ deg: [0, 0, -90] }}\n",
    "- add_model:\n",
    "    name: first_initial\n",
    "    file: file://{letter_sdfs[0]}\n",
    "    default_free_body_pose:\n",
    "        {initials[0]}_body_link:\n",
    "            translation: [0.5, -0.2, 0.01]\n",
    "            rotation: !Rpy {{ deg: [90, 0, 0] }}\n",
    "- add_model:\n",
    "    name: last_initial\n",
    "    file: file://{letter_sdfs[1]}\n",
    "    default_free_body_pose:\n",
    "        {initials[1]}_body_link:\n",
    "            translation: [-0.2, -0.5, 0.01]\n",
    "            rotation: !Rpy {{ deg: [90, 0, 90] }}\n",
    "\n",
    "model_drivers:\n",
    "    iiwa: !IiwaDriver\n",
    "      control_mode: position_only\n",
    "      hand_model_name: wsg\n",
    "    wsg: !SchunkWsgDriver {{}}\n",
    "\"\"\"\n",
    "\n",
    "scenario = LoadScenario(data=scenario_yaml)"
   ]
  },
  {
   "cell_type": "markdown",
   "metadata": {
    "cell_id": "30d1a4f3580c43058424a040aec2faea",
    "deepnote_cell_type": "markdown"
   },
   "source": [
    "# Choice of Frames Impacts the Problem Statement!\n",
    "\n",
    "In the above figures, notice that the coordinate frames are not actually placed at the center of the letters. Instead they are placed at their bottom-left corners. Defining grasp poses relative to these origins are tricky, because we want the robot gripper to be centered above the letter, but the letter-width varies with different initials. In the below function, let `S` describe the object frame as it is used in the SDF file corresponding to the geometry of the letter. Let `O` describe a frame placed at the center of mass of the object. The pick and place poses we defined above have frame `O` in mind, so let's make sure that that is the frame we are using. "
   ]
  },
  {
   "cell_type": "code",
   "execution_count": 11,
   "metadata": {
    "cell_id": "c3551d6149b143888994a79f45da731e",
    "deepnote_cell_type": "code",
    "execution_context_id": "a17f6360-8d20-48d6-aee8-0047d51353d9",
    "execution_millis": 0,
    "execution_start": 1758232147335,
    "source_hash": "3403ed9a"
   },
   "outputs": [
    {
     "name": "stdout",
     "output_type": "stream",
     "text": [
      "Hello world 2\n"
     ]
    }
   ],
   "source": [
    "# Helper function to express mesh poses in terms of COM rather than geometric center\n",
    "\n",
    "def get_initial_pose(\n",
    "    plant: MultibodyPlant,\n",
    "    body_name: str,\n",
    "    model_instance: ModelInstanceIndex,\n",
    "    plant_context: Context,\n",
    ") -> RigidTransform:\n",
    "    body = plant.GetBodyByName(body_name, model_instance)\n",
    "    X_WS = plant.EvalBodyPoseInWorld(plant_context, body)\n",
    "    X_SO = RigidTransform(body.default_spatial_inertia().get_com())\n",
    "    return X_WS @ X_SO\n",
    "\n",
    "print(\"Hello world 2\")"
   ]
  },
  {
   "cell_type": "markdown",
   "metadata": {
    "cell_id": "5aafb3bad62840a8aafaf113149fc763",
    "deepnote_cell_type": "markdown"
   },
   "source": [
    "# A Jacobian Based Velocity Controller\n",
    "Ok, we've specified the geometry of the scene, and our desired robot trajectory. Now we have to add the logic to relate our desired gripper velocities to robot joint velocities that we can command. \n",
    "\n",
    "**Your job is to implement the CalcOutput function. Recall that this takes the current context and sets a value for `output` based on this context.**"
   ]
  },
  {
   "cell_type": "code",
   "execution_count": 12,
   "metadata": {
    "cell_id": "e41a5c6e2e0e4fe4b3a32f01501f18ea",
    "deepnote_cell_type": "code",
    "execution_context_id": "a17f6360-8d20-48d6-aee8-0047d51353d9",
    "execution_millis": 0,
    "execution_start": 1758232147385,
    "source_hash": "3ef28d2f"
   },
   "outputs": [],
   "source": [
    "class PseudoInverseController(LeafSystem):\n",
    "    def __init__(self, plant: MultibodyPlant):\n",
    "        LeafSystem.__init__(self)\n",
    "        self._plant = plant\n",
    "        self._plant_context = plant.CreateDefaultContext()\n",
    "        self._iiwa = plant.GetModelInstanceByName(\"iiwa\")\n",
    "        self._G = plant.GetBodyByName(\"body\").body_frame()\n",
    "        self._W = plant.world_frame()\n",
    "\n",
    "        self.V_G_port = self.DeclareVectorInputPort(\"V_WG\", 6)\n",
    "        self.q_port = self.DeclareVectorInputPort(\"iiwa.position\", 7)\n",
    "        self.DeclareVectorOutputPort(\"iiwa.velocity\", 7, self.CalcOutput)\n",
    "        self.iiwa_start = plant.GetJointByName(\"iiwa_joint_1\").velocity_start()\n",
    "        self.iiwa_end = plant.GetJointByName(\"iiwa_joint_7\").velocity_start()\n",
    "\n",
    "    def CalcOutput(self, context: Context, output: BasicVector):\n",
    "        \"\"\"\n",
    "        fill in our code below.\n",
    "        \"\"\"\n",
    "        # evaluate the V_G_port and q_port on the current context to get those values.\n",
    "        V_G = self.V_G_port.Eval(context)\n",
    "        q = self.q_port.Eval(context)\n",
    "\n",
    "        # update the positions of the internal _plant_context according to `q`.\n",
    "        # HINT: you can write to a plant context by calling `self._plant.SetPositions`\n",
    "        # self._plant.SetPositions(self._plant_context, q)\n",
    "        self._plant.SetPositions(self._plant_context, self._iiwa, q)\n",
    "\n",
    "        # Compute the gripper jacobian\n",
    "        # HINT: the jacobian is 6 x N, with N being the number of DOFs.\n",
    "        # We only want the 6 x 7 submatrix corresponding to the IIWA\n",
    "        J_G = self._plant.CalcJacobianSpatialVelocity(\n",
    "            self._plant_context,\n",
    "            JacobianWrtVariable.kQDot,\n",
    "            self._G,\n",
    "            [0, 0, 0],\n",
    "            self._W,\n",
    "            self._W  # or self._G? unclear\n",
    "        )\n",
    "        J_G = J_G[:, self.iiwa_start : self.iiwa_end + 1]\n",
    "\n",
    "        # compute `v` by mapping the gripper velocity (from the V_G_port) to the joint space\n",
    "        v = np.linalg.pinv(J_G) @ V_G\n",
    "        output.SetFromVector(v)"
   ]
  },
  {
   "cell_type": "markdown",
   "metadata": {
    "cell_id": "d62d0575d355486e99f171d70cd2f920",
    "deepnote_cell_type": "markdown"
   },
   "source": [
    "# Putting everything together\n",
    "\n",
    "We're almost done! Let's use the scenario we defined to initialize a diagram, and specify the keyframes as well!\n",
    "\n",
    "We've added all the systems needed for the diagram to the builder. **Your job will be to connect all the necessary input and output ports for simulation.**"
   ]
  },
  {
   "cell_type": "code",
   "execution_count": null,
   "metadata": {
    "cell_id": "c74c7fc6b8484812a5dba806815f18e3",
    "deepnote_cell_type": "code",
    "execution_context_id": "a17f6360-8d20-48d6-aee8-0047d51353d9",
    "execution_millis": 72,
    "execution_start": 1758232148376,
    "source_hash": "56d7b07e"
   },
   "outputs": [],
   "source": [
    "# Define the builder we will use to specify the full diagram.\n",
    "# Add the hardware station to the diagram\n",
    "builder = DiagramBuilder()\n",
    "station = MakeHardwareStation(scenario, meshcat=meshcat)\n",
    "builder.AddSystem(station)\n",
    "plant = station.GetSubsystemByName(\"plant\")\n",
    "\n",
    "# get initial poses of gripper and objects\n",
    "temp_context = station.CreateDefaultContext()\n",
    "temp_plant_context = plant.GetMyContextFromRoot(temp_context)\n",
    "X_WGinitial = plant.EvalBodyPoseInWorld(temp_plant_context, plant.GetBodyByName(\"body\"))\n",
    "model_instance_initial1 = plant.GetModelInstanceByName(\"first_initial\")\n",
    "model_instance_initial2 = plant.GetModelInstanceByName(\"last_initial\")\n",
    "X_WO1initial = get_initial_pose(\n",
    "    plant, f\"{initials[0]}_body_link\", model_instance_initial1, temp_plant_context\n",
    ")\n",
    "X_WO2initial = get_initial_pose(\n",
    "    plant, f\"{initials[1]}_body_link\", model_instance_initial2, temp_plant_context\n",
    ")\n",
    "\n",
    "# Build trajectory keyframes\n",
    "X_OG, X_WG2pick = design_grasp_pose(X_WO2initial)\n",
    "_, X_WG1pick = design_grasp_pose(X_WO1initial)\n",
    "X_WG1prepick, X_WG2prepick = approach_pose(X_WG1pick), approach_pose(X_WG2pick)\n",
    "X_WG1goal, X_WG2goal = design_goal_poses(X_WO1initial, X_WO2initial, X_OG)\n",
    "X_WG1pregoal, X_WG2pregoal = approach_pose(X_WG1goal), approach_pose(X_WG2goal)\n",
    "\n",
    "\n",
    "# constants for finger distances when the gripper is opened or closed\n",
    "opened = 0.107\n",
    "closed = 0.0\n",
    "\n",
    "# list of keyframes, formatted as (gripper poses, finger states)\n",
    "# for each object the robot starts in its default pose with its gripper open\n",
    "# then it goes to the prepick pose, the pick pose, closes the gripper, and then goes\n",
    "# to the place pose\n",
    "keyframes = [\n",
    "    (X_WGinitial, opened),\n",
    "    (X_WG2prepick, opened),\n",
    "    (X_WG2pick, opened),\n",
    "    (X_WG2pick, closed),\n",
    "    (X_WGinitial, closed),\n",
    "    (X_WG2pregoal, closed),\n",
    "    (X_WG2goal, closed),\n",
    "    (X_WG2goal, closed),\n",
    "    (X_WG2goal, opened),\n",
    "    (X_WGinitial, opened),\n",
    "    (X_WG1prepick, opened),\n",
    "    (X_WG1pick, opened),\n",
    "    (X_WG1pick, closed),\n",
    "    (X_WGinitial, closed),\n",
    "    (X_WG1pregoal, closed),\n",
    "    (X_WG1goal, closed),\n",
    "    (X_WG1goal, opened),\n",
    "    (X_WGinitial, opened),\n",
    "]\n",
    "\n",
    "# unpack the keyframes and use them to build `Trajectory` objects\n",
    "# note: we specify each keyframe as occuring 2 seconds after the last.\n",
    "gripper_poses = [keyframe[0] for keyframe in keyframes]\n",
    "finger_states = np.asarray([keyframe[1] for keyframe in keyframes]).reshape(1, -1)\n",
    "sample_times = [2 * i for i in range(len(gripper_poses))]\n",
    "traj_V_G, traj_wsg_command = make_trajectory(gripper_poses, finger_states, sample_times)\n",
    "\n",
    "# V_G_source defines a trajectory over gripper velocities. Add it to the system.\n",
    "V_G_source = builder.AddSystem(TrajectorySource(traj_V_G))\n",
    "# Add the DiffIK controller we just defined to the system\n",
    "controller = builder.AddSystem(PseudoInverseController(plant))\n",
    "# The HardwareStation expects robot commands in terms of joint angles.\n",
    "# We define the `integrator` system to map from joint_velocities to joint_angles.\n",
    "integrator = builder.AddSystem(Integrator(7))\n",
    "# wsg_source defines a trajectory of finger positions. Add it to the system.\n",
    "wsg_source = builder.AddSystem(TrajectorySource(traj_wsg_command))\n",
    "\n",
    "# TODO: connect the joint velocity source to the pseudoinverse controller\n",
    "builder.Connect(V_G_source.get_output_port(), controller.V_G_port)\n",
    "\n",
    "# TODO: connect the controller to integrator to get joint angle commands\n",
    "builder.Connect(controller.get_output_port(), integrator.get_input_port())\n",
    "\n",
    "# TODO: connect the joint angles computed by the integrateor to the iiwa.position port on the manipulation station\n",
    "builder.Connect(integrator.get_output_port(), station.GetInputPort(\"iiwa.position\"))\n",
    "\n",
    "# TODO: connect the \"iiwa.position_measured\" port on the station back to the relevant input port on the controller\n",
    "builder.Connect(station.GetOutputPort(\"iiwa.position_measured\"), controller.q_port)\n",
    "\n",
    "# TODO: connect the wsg_source to the \"wsg.position\" input port of the station\n",
    "builder.Connect(wsg_source.get_output_port(), station.GetInputPort(\"wsg.position\"))\n",
    "\n",
    "# visualize axes (useful for debugging)\n",
    "scenegraph = station.GetSubsystemByName(\"scene_graph\")\n",
    "AddFrameTriadIllustration(\n",
    "    scene_graph=scenegraph,\n",
    "    body=plant.GetBodyByName(f\"{initials[0]}_body_link\", model_instance_initial1),\n",
    "    length=0.1,\n",
    ")\n",
    "AddFrameTriadIllustration(\n",
    "    scene_graph=scenegraph,\n",
    "    body=plant.GetBodyByName(f\"{initials[1]}_body_link\", model_instance_initial2),\n",
    "    length=0.1,\n",
    ")\n",
    "AddFrameTriadIllustration(\n",
    "    scene_graph=scenegraph, body=plant.GetBodyByName(\"body\"), length=0.1\n",
    ")\n",
    "\n",
    "diagram = builder.Build()"
   ]
  },
  {
   "cell_type": "code",
   "execution_count": 14,
   "metadata": {
    "cell_id": "9471337a6b834e0e865d3dc9800132b0",
    "deepnote_cell_type": "code",
    "execution_context_id": "a17f6360-8d20-48d6-aee8-0047d51353d9",
    "execution_millis": 34090,
    "execution_start": 1758232148705,
    "source_hash": "5dd2c44e"
   },
   "outputs": [
    {
     "name": "stdout",
     "output_type": "stream",
     "text": [
      "sanity check, simulation will run for 34.0 seconds\n"
     ]
    },
    {
     "ename": "KeyboardInterrupt",
     "evalue": "",
     "output_type": "error",
     "traceback": [
      "\u001b[31m---------------------------------------------------------------------------\u001b[39m",
      "\u001b[31mKeyboardInterrupt\u001b[39m                         Traceback (most recent call last)",
      "\u001b[36mCell\u001b[39m\u001b[36m \u001b[39m\u001b[32mIn[14]\u001b[39m\u001b[32m, line 19\u001b[39m\n\u001b[32m     17\u001b[39m \u001b[38;5;28;01mif\u001b[39;00m running_as_notebook:\n\u001b[32m     18\u001b[39m     simulator.set_target_realtime_rate(\u001b[32m1.0\u001b[39m)\n\u001b[32m---> \u001b[39m\u001b[32m19\u001b[39m \u001b[43msimulator\u001b[49m\u001b[43m.\u001b[49m\u001b[43mAdvanceTo\u001b[49m\u001b[43m(\u001b[49m\u001b[43mtraj_V_G\u001b[49m\u001b[43m.\u001b[49m\u001b[43mend_time\u001b[49m\u001b[43m(\u001b[49m\u001b[43m)\u001b[49m\u001b[43m)\u001b[49m\n\u001b[32m     20\u001b[39m meshcat.StopRecording()\n\u001b[32m     21\u001b[39m meshcat.PublishRecording()\n",
      "\u001b[31mKeyboardInterrupt\u001b[39m: "
     ]
    }
   ],
   "source": [
    "# Define the simulator.\n",
    "simulator = Simulator(diagram)\n",
    "context = simulator.get_mutable_context()\n",
    "station_context = station.GetMyContextFromRoot(context)\n",
    "integrator.set_integral_value(\n",
    "    integrator.GetMyContextFromRoot(context),\n",
    "    plant.GetPositions(\n",
    "        plant.GetMyContextFromRoot(context),\n",
    "        plant.GetModelInstanceByName(\"iiwa\"),\n",
    "    ),\n",
    ")\n",
    "diagram.ForcedPublish(context)\n",
    "print(f\"sanity check, simulation will run for {traj_V_G.end_time()} seconds\")\n",
    "\n",
    "# run simulation!\n",
    "meshcat.StartRecording()\n",
    "if running_as_notebook:\n",
    "    simulator.set_target_realtime_rate(1.0)\n",
    "simulator.AdvanceTo(traj_V_G.end_time())\n",
    "meshcat.StopRecording()\n",
    "meshcat.PublishRecording()"
   ]
  },
  {
   "cell_type": "code",
   "execution_count": null,
   "metadata": {
    "cell_id": "b6647fa9259b40af8d9b154d9f2bb3c6",
    "deepnote_cell_type": "code",
    "execution_context_id": "a17f6360-8d20-48d6-aee8-0047d51353d9",
    "execution_millis": 287,
    "execution_start": 1758232182845,
    "source_hash": "618c2cbc"
   },
   "outputs": [
    {
     "name": "stdout",
     "output_type": "stream",
     "text": [
      "Total score is 1/1.\n",
      "\n",
      "Score for test_final_pose (manipulation.exercises.pick.test_pickplace_initials.TestPickPlacePoses.test_final_pose) is 1/1.\n"
     ]
    }
   ],
   "source": [
    "# Use this to test your implementation if you want!\n",
    "Grader.grade_output([TestPickPlacePoses], [locals()], \"results.json\")\n",
    "Grader.print_test_results(\"results.json\")"
   ]
  },
  {
   "cell_type": "markdown",
   "metadata": {
    "cell_id": "99b0fe6cc5594499ae62feb811a82055",
    "deepnote_cell_type": "markdown"
   },
   "source": [
    "# Improving on computed grasp poses\n",
    "\n",
    "Congratulations! The IIWA should now be manipulating your initials so that they sit next to each other. Now, go back to meshcat and in the top-right select \"Open Controls\", then \"scene\", then \"drake\", then \"proximity\". You will notice that the collision geometries are currently represented as bounding boxes around the letters. \n",
    "\n",
    "If the robot fails to grasp a letter, or if the letter seems to be slipping inside the robot's fingers, experiment with different grasp poses. Different letters may call for higher or lower grasps. \n",
    "\n",
    "\n",
    "**Once you have everything working, take a video and upload it to gradescope!**"
   ]
  }
 ],
 "metadata": {
  "deepnote_notebook_id": "c509b07d6db04e52aa418bf5bfda433c",
  "kernelspec": {
   "display_name": ".venv",
   "language": "python",
   "name": "python3"
  },
  "language_info": {
   "codemirror_mode": {
    "name": "ipython",
    "version": 3
   },
   "file_extension": ".py",
   "mimetype": "text/x-python",
   "name": "python",
   "nbconvert_exporter": "python",
   "pygments_lexer": "ipython3",
   "version": "3.12.3"
  }
 },
 "nbformat": "4",
 "nbformat_minor": "0"
}
