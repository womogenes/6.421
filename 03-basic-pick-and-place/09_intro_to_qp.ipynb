{
 "cells": [
  {
   "cell_type": "markdown",
   "metadata": {
    "cell_id": "6f8e4959fe55477692201a7261432c0c",
    "colab_type": "text",
    "deepnote_cell_type": "markdown",
    "id": "ERSps3-ac4Po"
   },
   "source": [
    "# Introduction to QP\n",
    "\n",
    "**Learning Objectives**\n",
    "- Understand the basics of Drake's MathematicalProgram\n",
    "- Learn how to formulate and solve a quadratic program (QP) in Drake\n",
    "\n",
    "**What You'll Implement**\n",
    "- Solving a simple QP in Drake"
   ]
  },
  {
   "cell_type": "markdown",
   "metadata": {
    "cell_id": "38f2e3abe46f43ab92f9b365784d444f",
    "deepnote_cell_type": "markdown"
   },
   "source": [
    "## Setup and Imports\n",
    "\n",
    "Let us first import our Mathematical Programming tools frome Drake"
   ]
  },
  {
   "cell_type": "code",
   "execution_count": 1,
   "metadata": {
    "cell_id": "3aea931942574284b373aa9b15ae0516",
    "colab": {},
    "colab_type": "code",
    "deepnote_cell_type": "code",
    "execution_context_id": "59710957-a01e-4f7c-889b-c3808912dd26",
    "execution_millis": 337,
    "execution_start": 1758764838126,
    "id": "tFMmTfbHWQfh",
    "source_hash": "aa8d84ec"
   },
   "outputs": [],
   "source": [
    "# python libraries\n",
    "import numpy as np\n",
    "from pydrake.all import MathematicalProgram, Solve, eq, ge, le"
   ]
  },
  {
   "cell_type": "markdown",
   "metadata": {
    "cell_id": "d0e225487c2f483f9d81e1c4536e9e25",
    "colab_type": "text",
    "deepnote_cell_type": "markdown",
    "id": "ze9gQeOVOJUA"
   },
   "source": [
    "## Part 1: Introduction to MathematicalProgram \n",
    "\n",
    "The purpose of this exercise is to get you familiar with the basics of what an instance of an optimization problem is, as well as how to solve it. \n",
    "\n",
    "An optimization problem is usually written as \n",
    "\n",
    "$$\\begin{aligned} \\min_x \\quad & f(x) \\\\ \\textrm{s.t.} \\quad & g(x)\\leq 0,\\\\ \\quad &  h(x)=0 \\end{aligned}$$\n",
    "\n",
    "We call $x$ the **decision variable**, $f(x)$ the **cost function**, $g(x)\\leq 0$ an **inequality constraint**, and $h(x)=0$ an **equality constraint**. We usually denote the optimal solution by $x^*$. Most of the times, the constraints are hard-constraints, meaning that they must be fulfilled by the optimal solution. \n",
    "\n",
    "Drake offers a very good interface to many solvers using `MathematicalProgram`. Let's try to solve a simple problem using `MathematicalProgram`: \n",
    "\n",
    "$$\\begin{aligned} \\min_x \\quad & \\frac{1}{2}x^2 \\\\ \\textrm{s.t.} \\quad & x\\geq 3 \\end{aligned}$$\n",
    "\n",
    "Before we start coding, what do you expect the answer to be? You should persuade yourself that the optimal solution is $x^*=3$, since that is value at which minimum cost is achieved without violating the constraint.\n",
    "\n"
   ]
  },
  {
   "cell_type": "code",
   "execution_count": 2,
   "metadata": {
    "cell_id": "949d792f5d4642628182e43eee856f82",
    "colab": {},
    "colab_type": "code",
    "deepnote_cell_type": "code",
    "execution_context_id": "59710957-a01e-4f7c-889b-c3808912dd26",
    "execution_millis": 1,
    "execution_start": 1758765023729,
    "id": "Khi7GeVNcwtU",
    "source_hash": "97b5f0f"
   },
   "outputs": [
    {
     "name": "stdout",
     "output_type": "stream",
     "text": [
      "Solution: [3.]\n"
     ]
    }
   ],
   "source": [
    "\"\"\"\n",
    "Steps to solve a optimization problem using Drake's MathematicalProgram\n",
    "\"\"\"\n",
    "\n",
    "# 1. Define an instance of MathematicalProgram\n",
    "prog = MathematicalProgram()\n",
    "\n",
    "# 2. Add decision varaibles\n",
    "x = prog.NewContinuousVariables(1)\n",
    "\n",
    "# 3. Add Cost function\n",
    "prog.AddCost(x.dot(x))\n",
    "\n",
    "# 4. Add Constraints\n",
    "prog.AddConstraint(x[0] >= 3)\n",
    "\n",
    "# 5. Solve the problem\n",
    "result = Solve(prog)\n",
    "\n",
    "# 6. Get the solution\n",
    "if result.is_success():\n",
    "    print(\"Solution: \" + str(result.GetSolution()))"
   ]
  },
  {
   "cell_type": "markdown",
   "metadata": {
    "cell_id": "c109c506fd0046448d5b64100fe5fe0a",
    "colab_type": "text",
    "deepnote_cell_type": "markdown",
    "id": "HvEI7697UUZC"
   },
   "source": [
    "You should have seen that we were successful in getting the expected solution of $x^*=3$. \n",
    "\n",
    "A particular class of problems that we want to focus on this problem are [Quadratic Programs (QP)](https://en.wikipedia.org/wiki/Quadratic_programming), which can be solved very efficiently in practice (even on the order of kHz).\n",
    "\n",
    "The general formulation of these problems are defined as follows. \n",
    "\n",
    "$$\\begin{aligned} \\min_x \\quad & \\frac{1}{2}x^T\\mathbf{Q}x + c^Tx \\\\ \\textrm{s.t.} \\quad & \\mathbf{A}x\\leq b,\\\\ \\quad &  \\mathbf{A}'x=b' \\end{aligned}$$\n",
    "\n",
    "where $\\mathbf{Q}$ is a positive-definite, symmetric matrix. Note that the cost is a quadratic function of the decision variables, while the constraints are all linear. This is what defines a convex QP. \n",
    "\n",
    "Let's practice solving a simple QP: \n",
    "\n",
    "$$\\begin{aligned} \\min_{x_0,x_1,x_2} \\quad & x_0^2 + x_1^2 + x_2^2 \\\\ \\textrm{s.t.} \\quad & \\begin{pmatrix} 2 & 3 & 1 \\\\ 5 & 1 & 0 \\end{pmatrix} \\begin{pmatrix} x_0 \\\\ x_1 \\\\ x_2 \\end{pmatrix} = \\begin{pmatrix} 1 \\\\ 1 \\end{pmatrix}\\\\  \\quad &  \\begin{pmatrix} x_0 \\\\ x_1 \\\\ x_2 \\end{pmatrix} \\leq \\begin{pmatrix} 2 \\\\ 2 \\\\ 2\\end{pmatrix} \\end{aligned}$$\n",
    "\n",
    "To conveniently write down constraints that are vector-valued, Drake offers `eq,le,ge` for elementwise constraints. It might take some time to learn the syntax of constraints. For a more well-written and in-depth introduction to `MathematicalProgram`, [this notebook tutorial](https://deepnote.com/workspace/Drake-0b3b2c53-a7ad-441b-80f8-bf8350752305/project/Tutorials-2b4fc509-aef2-417d-a40d-6071dfed9199/notebook/mathematical_program-4c4f4de7d5d3452daacf45c20b315d31) is incredibly useful. \n",
    " \n"
   ]
  },
  {
   "cell_type": "code",
   "execution_count": 3,
   "metadata": {
    "cell_id": "eb7f5e68ebfc4c4b8251f368237e80dc",
    "colab": {},
    "colab_type": "code",
    "deepnote_cell_type": "code",
    "execution_context_id": "a3b59e1f-70b5-43ee-8fc6-fb9e25d4ab16",
    "execution_millis": 1,
    "execution_start": 1757697597271,
    "id": "SNvpjgzxVQJC",
    "source_hash": "4aae9fc3"
   },
   "outputs": [
    {
     "name": "stdout",
     "output_type": "stream",
     "text": [
      "Solution: [0.15897436 0.20512821 0.06666667]\n"
     ]
    }
   ],
   "source": [
    "prog = MathematicalProgram()\n",
    "\n",
    "x = prog.NewContinuousVariables(3)\n",
    "\n",
    "prog.AddCost(x.dot(x))\n",
    "prog.AddConstraint(eq(np.array([[2, 3, 1], [5, 1, 0]]).dot(x), [1, 1]))\n",
    "prog.AddConstraint(le(x, 2 * np.ones(3)))\n",
    "\n",
    "result = Solve(prog)\n",
    "\n",
    "# 6. Get the solution\n",
    "if result.is_success():\n",
    "    print(\"Solution: \" + str(result.GetSolution()))"
   ]
  },
  {
   "cell_type": "markdown",
   "metadata": {
    "cell_id": "66b6a5c832464b228afa4936a2b3b541",
    "colab_type": "text",
    "deepnote_cell_type": "markdown",
    "id": "SmYZWSewSwf6"
   },
   "source": [
    "\n",
    "## Part 2: Your Turn! \n",
    "\n",
    "**YOUR TASK**: You must solve the following problem and store the result in a variable named `result_submission`. \n",
    "\n",
    "$$\\begin{aligned} \\min_{x_0,x_1,x_2} \\quad & 2x_0^2 + x_1^2 + 4x_2^2 \\\\ \\textrm{s.t.} \\quad & \\begin{pmatrix} 1 & 2 & 3 \\\\ 2 & 7 & 4 \\end{pmatrix} \\begin{pmatrix} x_0 \\\\ x_1  \\\\ x_2 \\end{pmatrix} = \\begin{pmatrix} 1 \\\\ 1 \\end{pmatrix} \\\\ \\quad &  |x| \\leq \\begin{pmatrix} 0.35 \\\\ 0.35 \\\\ 0.35\\end{pmatrix} \\end{aligned}$$\n",
    "\n",
    "NOTE: The last constraint says that the absolute value of `x[i]` must be less than the value of `b_bb[i]`. You cannot put an absolute value directly as a constraint, so there are two routes that you can take:\n",
    "- Break the constraints down to two constraints that don't involve the absolute value.  \n",
    "- Drake offers [`AddBoundingBoxConstraint`](https://drake.mit.edu/pydrake/pydrake.solvers.html?highlight=addboundingboxconstraint#pydrake.solvers.MathematicalProgram.AddBoundingBoxConstraint) which you may use in your implementation."
   ]
  },
  {
   "cell_type": "code",
   "execution_count": 7,
   "metadata": {
    "cell_id": "eb78774fe5094145b20ce228838cc4e6",
    "colab": {},
    "colab_type": "code",
    "deepnote_cell_type": "code",
    "execution_context_id": "a3b59e1f-70b5-43ee-8fc6-fb9e25d4ab16",
    "execution_millis": 0,
    "execution_start": 1757697597331,
    "id": "qhMB4kc3asCE",
    "source_hash": "6c6828f9"
   },
   "outputs": [
    {
     "name": "stdout",
     "output_type": "stream",
     "text": [
      "Solution: [ 0.15343917 -0.1005291   0.34920635]\n"
     ]
    }
   ],
   "source": [
    "prog = MathematicalProgram()\n",
    "\n",
    "x = prog.NewContinuousVariables(3)\n",
    "prog.AddCost(2*x[0]**2 + x[1]**2 + 4*x[2]**2)\n",
    "prog.AddConstraint(eq(np.array([[1, 2, 3], [2, 7, 4]]).dot(x), [1, 1]))\n",
    "\n",
    "prog.AddConstraint(le(x, 0.35 * np.ones(3)))\n",
    "prog.AddConstraint(ge(x, -0.35 * np.ones(3)))\n",
    "\n",
    "result_submission = Solve(prog)\n",
    "\n",
    "if result_submission.is_success():\n",
    "    print(f\"Solution: {str(result_submission.GetSolution())}\")"
   ]
  },
  {
   "cell_type": "markdown",
   "metadata": {
    "cell_id": "46d1741c32b744589be8b51fd2a93f60",
    "deepnote_cell_type": "markdown"
   },
   "source": [
    "Below is our autograder where you can check the correctness of your implementation."
   ]
  },
  {
   "cell_type": "code",
   "execution_count": null,
   "metadata": {
    "cell_id": "aeacadcf361c4b729d0473cdde4397e6",
    "deepnote_cell_type": "code",
    "execution_context_id": "a3b59e1f-70b5-43ee-8fc6-fb9e25d4ab16",
    "execution_millis": 576,
    "execution_start": 1757697597441,
    "source_hash": "743ee26e"
   },
   "outputs": [],
   "source": [
    "from manipulation.exercises.grader import Grader\n",
    "from manipulation.exercises.pick.test_simple_qp import TestSimpleQP\n",
    "\n",
    "Grader.grade_output([TestSimpleQP], [locals()], \"results.json\")\n",
    "Grader.print_test_results(\"results.json\")"
   ]
  },
  {
   "cell_type": "markdown",
   "metadata": {
    "cell_id": "6bd94cb417b949e3a5a36258f8262ee2",
    "colab_type": "text",
    "deepnote_cell_type": "markdown",
    "id": "zPmeRLtJk410"
   },
   "source": [
    "## VERIFICATION IN GRADESCOPE\n",
    "\n",
    "**Prerequisites:** You must complete ALL the TODOs above before these verification exercises will work!\n",
    "\n",
    "**Instructions:** Implement the exercises below and upload your solutions to Gradescope\n",
    "\n"
   ]
  },
  {
   "cell_type": "markdown",
   "metadata": {
    "cell_id": "16ab1d1eaa9449b38f0bfd09b4029a36",
    "deepnote_cell_type": "markdown"
   },
   "source": [
    "## Verification 1: QP Solution\n",
    "\n",
    "**Question:** What is the solution to the optimization problem you implemented? Put your answer in gradescope. Give your answer to 4 decimal places."
   ]
  }
 ],
 "metadata": {
  "deepnote_notebook_id": "ac7b7ea992694922a9a96fc5b781a104",
  "kernelspec": {
   "display_name": ".venv",
   "language": "python",
   "name": "python3"
  },
  "language_info": {
   "codemirror_mode": {
    "name": "ipython",
    "version": 3
   },
   "file_extension": ".py",
   "mimetype": "text/x-python",
   "name": "python",
   "nbconvert_exporter": "python",
   "pygments_lexer": "ipython3",
   "version": "3.12.3"
  }
 },
 "nbformat": "4",
 "nbformat_minor": "0"
}
