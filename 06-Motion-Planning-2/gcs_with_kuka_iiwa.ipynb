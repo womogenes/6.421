{
 "cells": [
  {
   "cell_type": "markdown",
   "metadata": {
    "cell_id": "338727061c5b417295000286bbb17387",
    "deepnote_cell_type": "markdown",
    "id": "EgiF12Hf1Dhs"
   },
   "source": [
    "# Graph of Convex Sets (GCS) and Iterative Region Inflation by Semidefinite Programming (IRIS)\n",
    "\n",
    "In this exercise, you will practice finding large collision-free configuration-space regions with IRIS and planning through them with GCS for the Kuka Iiwa manipulator. We highly recommend reading through [Section 6.4](https://manipulation.csail.mit.edu/trajectories.html#gcs) of the textbook and looking through the example problems.\n",
    "\n",
    "It will be helpful to keep the Drake documentation (C++ version as first reference, Python as secondary) handy as well as we'll be working with its builtin IRIS and GCS functionality."
   ]
  },
  {
   "cell_type": "code",
   "execution_count": 1,
   "metadata": {
    "cell_id": "72af85c94b5a4a86b2d5beaab7ed624b",
    "deepnote_cell_type": "code",
    "id": "eeMrMI0-1Dhu"
   },
   "outputs": [],
   "source": [
    "import time\n",
    "from typing import List\n",
    "\n",
    "import numpy as np\n",
    "import pydot\n",
    "from IPython.display import SVG, display\n",
    "from pydrake.all import (\n",
    "    AddDefaultVisualization,\n",
    "    AddMultibodyPlantSceneGraph,\n",
    "    CompositeTrajectory,\n",
    "    Context,\n",
    "    Diagram,\n",
    "    DiagramBuilder,\n",
    "    GraphOfConvexSets,\n",
    "    GraphOfConvexSetsOptions,\n",
    "    HPolyhedron,\n",
    "    InverseKinematics,\n",
    "    IrisInConfigurationSpace,\n",
    "    IrisOptions,\n",
    "    LoadIrisRegionsYamlFile,\n",
    "    MathematicalProgram,\n",
    "    MultibodyPlant,\n",
    "    Parser,\n",
    "    Point,\n",
    "    Rgba,\n",
    "    RigidBodyFrame,\n",
    "    RigidTransform,\n",
    "    SaveIrisRegionsYamlFile,\n",
    "    Solve,\n",
    "    Sphere,\n",
    "    StartMeshcat,\n",
    ")\n",
    "from pydrake.planning import GcsTrajectoryOptimization\n",
    "\n",
    "from manipulation import running_as_notebook\n",
    "from manipulation.meshcat_utils import PublishPositionTrajectory\n",
    "from manipulation.scenarios import AddIiwa, AddWsg\n",
    "from manipulation.utils import ConfigureParser\n",
    "\n",
    "np.random.seed(42)  # for reproducibility"
   ]
  },
  {
   "cell_type": "code",
   "execution_count": 2,
   "metadata": {
    "cell_id": "db187589c20c4ae68eddfa5a38d1f81f",
    "deepnote_cell_type": "code"
   },
   "outputs": [
    {
     "name": "stderr",
     "output_type": "stream",
     "text": [
      "INFO:drake:Meshcat listening for connections at http://localhost:7000\n"
     ]
    }
   ],
   "source": [
    "# Start the visualizer.\n",
    "meshcat = StartMeshcat()"
   ]
  },
  {
   "cell_type": "code",
   "execution_count": 3,
   "metadata": {
    "cell_id": "f51d53f5b6f24516a2139c276aff0f2e",
    "deepnote_cell_type": "code"
   },
   "outputs": [],
   "source": [
    "iris_filepath = \"iris_regions.yaml\""
   ]
  },
  {
   "cell_type": "markdown",
   "metadata": {
    "cell_id": "7d101af8a2e34c7f86eb30423617d9d1",
    "deepnote_cell_type": "markdown"
   },
   "source": [
    "### Helper methods to visualize IRIS region\n",
    "\n",
    "This function enabales you to visualize IRIS regions by having the Kuka Iiwa robot trace out the boundaries of the space represented in the IRIS region. This is a great debugging tool to understand what regions of space are included in your IRIS regions later on.\n"
   ]
  },
  {
   "cell_type": "code",
   "execution_count": 4,
   "metadata": {
    "cell_id": "65169e0e030c4edb9ed080d322cd7f6c",
    "deepnote_cell_type": "code"
   },
   "outputs": [],
   "source": [
    "def AnimateIris(\n",
    "    root_diagram: Diagram,\n",
    "    root_context: Context,\n",
    "    plant: MultibodyPlant,\n",
    "    region: HPolyhedron,\n",
    "    speed: float,\n",
    ") -> None:\n",
    "    \"\"\"\n",
    "    A simple hit-and-run-style idea for visualizing the IRIS regions:\n",
    "    1. Start at the center. Pick a random direction and run to the boundary.\n",
    "    2. Pick a new random direction; project it onto the current boundary, and run along\n",
    "       it. Repeat\n",
    "    \"\"\"\n",
    "\n",
    "    plant_context = plant.GetMyContextFromRoot(root_context)\n",
    "\n",
    "    q = region.ChebyshevCenter()\n",
    "    plant.SetPositions(plant_context, q)\n",
    "    root_diagram.ForcedPublish(root_context)\n",
    "\n",
    "    print(\"Press the 'Stop Animation' button in Meshcat to continue.\")\n",
    "    meshcat.AddButton(\"Stop Animation\", \"Escape\")\n",
    "\n",
    "    rng = np.random.default_rng()\n",
    "    nq = plant.num_positions()\n",
    "    prog = MathematicalProgram()\n",
    "    qvar = prog.NewContinuousVariables(nq, \"q\")\n",
    "    prog.AddLinearConstraint(region.A(), 0 * region.b() - np.inf, region.b(), qvar)\n",
    "    cost = prog.AddLinearCost(np.ones((nq, 1)), qvar)\n",
    "\n",
    "    while meshcat.GetButtonClicks(\"Stop Animation\") < 1:\n",
    "        direction = rng.standard_normal(nq)\n",
    "        cost.evaluator().UpdateCoefficients(direction)\n",
    "\n",
    "        result = Solve(prog)\n",
    "        assert result.is_success()\n",
    "\n",
    "        q_next = result.GetSolution(qvar)\n",
    "\n",
    "        # Animate between q and q_next (at speed):\n",
    "        # TODO: normalize step size to speed... e.g. something like\n",
    "        # 20 * np.linalg.norm(q_next - q) / speed\n",
    "        for t in np.append(np.arange(0, 1, 0.05), 1):\n",
    "            qs = t * q_next + (1 - t) * q\n",
    "            plant.SetPositions(plant_context, qs)\n",
    "            root_diagram.ForcedPublish(root_context)\n",
    "            if running_as_notebook:\n",
    "                time.sleep(0.05)\n",
    "\n",
    "        q = q_next\n",
    "\n",
    "        if not running_as_notebook:\n",
    "            break\n",
    "\n",
    "    meshcat.DeleteButton(\"Stop Animation\")"
   ]
  },
  {
   "cell_type": "markdown",
   "metadata": {
    "cell_id": "f9e54b77f7ac4568be8610e6f32610f5",
    "deepnote_cell_type": "markdown"
   },
   "source": [
    "### Helper method to setup new Kuka IIwa diagram\n",
    "\n"
   ]
  },
  {
   "cell_type": "code",
   "execution_count": 5,
   "metadata": {
    "cell_id": "3b162bc7fdde4950ad84cb47a6df7aac",
    "deepnote_cell_type": "code"
   },
   "outputs": [],
   "source": [
    "def BuildIiwaWithShelves() -> Diagram:\n",
    "    builder = DiagramBuilder()\n",
    "\n",
    "    plant, scene_graph = AddMultibodyPlantSceneGraph(builder, time_step=0.001)\n",
    "    iiwa = AddIiwa(plant)\n",
    "    wsg = AddWsg(plant, iiwa, welded=True, sphere=False)\n",
    "\n",
    "    parser = Parser(plant)\n",
    "    ConfigureParser(parser)\n",
    "    bin = parser.AddModelsFromUrl(\"package://manipulation/shelves.sdf\")[0]\n",
    "    plant.WeldFrames(\n",
    "        plant.world_frame(),\n",
    "        plant.GetFrameByName(\"shelves_body\", bin),\n",
    "        RigidTransform([0.88, 0, 0.4]),\n",
    "    )\n",
    "\n",
    "    plant.Finalize()\n",
    "    AddDefaultVisualization(builder, meshcat)\n",
    "\n",
    "    return builder.Build()"
   ]
  },
  {
   "cell_type": "markdown",
   "metadata": {
    "cell_id": "aabb3382b28142cba37cff71e0e77cc8",
    "deepnote_cell_type": "markdown"
   },
   "source": [
    "## Creating the IRIS Region\n"
   ]
  },
  {
   "cell_type": "code",
   "execution_count": 6,
   "metadata": {
    "cell_id": "eaf84a2352894f1cb138e929d6ad38b5",
    "deepnote_cell_type": "code"
   },
   "outputs": [],
   "source": [
    "# Clearing our visualization\n",
    "meshcat.Delete()"
   ]
  },
  {
   "cell_type": "code",
   "execution_count": 7,
   "metadata": {
    "cell_id": "9c53ed88cd9344cfa44105fd7f6448b1",
    "deepnote_cell_type": "code"
   },
   "outputs": [],
   "source": [
    "# Setting up diagram and plant\n",
    "diagram = BuildIiwaWithShelves()\n",
    "context = diagram.CreateDefaultContext()\n",
    "plant = diagram.GetSubsystemByName(\"plant\")\n",
    "plant_context = plant.GetMyContextFromRoot(context)"
   ]
  },
  {
   "cell_type": "code",
   "execution_count": 10,
   "metadata": {
    "cell_id": "9574ce0bfa6643c09b35fcdc5020555d",
    "deepnote_cell_type": "code"
   },
   "outputs": [
    {
     "name": "stdout",
     "output_type": "stream",
     "text": [
      "q0=array([ 0. ,  0.1,  0. , -1.2,  0. ,  1.6,  0. ]), gripper_frame=<RigidBodyFrame name='body' index=24 model_instance=3>\n"
     ]
    }
   ],
   "source": [
    "# TODO: get the initial joint positions of your robot (call it q0) and the gripper frame (gripper_frame)\n",
    "\n",
    "q0 = plant.GetPositions(plant_context)\n",
    "gripper_frame = plant.GetFrameByName(\"body\")\n",
    "\n",
    "print(f\"{q0=}, {gripper_frame=}\")"
   ]
  },
  {
   "cell_type": "markdown",
   "metadata": {
    "cell_id": "f0bfbe58c1b7416bb74086a9cca084bc",
    "deepnote_cell_type": "markdown"
   },
   "source": [
    "#### Creating the \"home\" IRIS region\n",
    "\n",
    "Now we will create an IRIS region corresponding to the free space around the Kuka Iiwa. Since our shelves enviornment is mostly free space, we want to get an IRIS region representation of this free space. Example 6.12 in the textbook uses this `home_region` to restrict the IRIS region search when mapping out the area in front of and inside the top shelf, so that we don't spend time expanding IRIS regions into space that is obstacle free and therefore trivial to plan through. \n",
    "\n",
    "We will not be using the restriction in this exercise, but we'd like you to start by implementing the `home_region` and visualizing it as a low-barrier entry point to the more complex tasks we'll do next as you have a \"ground truth\" against which to compare your work.\n",
    "\n",
    "Please refer to [IrisOptions](https://drake.mit.edu/doxygen_cxx/structdrake_1_1geometry_1_1optimization_1_1_iris_options.html) documentation to understand the pre-filled settings. \n",
    "\n",
    "Hint: If you're having trouble finding which Drake function will create an IRIS region for you, look up the ones in the imports."
   ]
  },
  {
   "cell_type": "code",
   "execution_count": 13,
   "metadata": {
    "cell_id": "4648ea2c39874e6bbe4277de1af620eb",
    "deepnote_cell_type": "code"
   },
   "outputs": [
    {
     "name": "stderr",
     "output_type": "stream",
     "text": [
      "INFO:drake:IrisInConfigurationSpace iteration 0\n",
      "INFO:drake:IrisInConfigurationSpace iteration 1\n",
      "INFO:drake: Checking gripper::collision against shelves::shelf_upper has already required 30 counter-example searches; still searching...\n",
      "INFO:drake: Finished checking gripper::collision against shelves::shelf_upper after 34 counter-example searches.\n",
      "INFO:drake:IrisInConfigurationSpace iteration 2\n",
      "INFO:drake: Checking gripper::collision against shelves::shelf_upper has already required 30 counter-example searches; still searching...\n",
      "INFO:drake: Finished checking gripper::collision against shelves::shelf_upper after 69 counter-example searches.\n",
      "INFO:drake: Checking gripper::collision against shelves::top has already required 30 counter-example searches; still searching...\n",
      "INFO:drake: Finished checking gripper::collision against shelves::top after 36 counter-example searches.\n",
      "INFO:drake:IrisInConfigurationSpace iteration 3\n",
      "INFO:drake: Checking gripper::collision against shelves::shelf_upper has already required 30 counter-example searches; still searching...\n",
      "INFO:drake: Finished checking gripper::collision against shelves::shelf_upper after 95 counter-example searches.\n",
      "INFO:drake: Checking gripper::collision against shelves::top has already required 30 counter-example searches; still searching...\n",
      "INFO:drake: Finished checking gripper::collision against shelves::top after 36 counter-example searches.\n",
      "INFO:drake: Checking gripper::collision against shelves::top has already required 30 counter-example searches; still searching...\n",
      "INFO:drake: Finished checking gripper::collision against shelves::top after 30 counter-example searches.\n",
      "INFO:drake:IrisInConfigurationSpace iteration 4\n",
      "INFO:drake: Checking gripper::collision against shelves::shelf_upper has already required 30 counter-example searches; still searching...\n",
      "INFO:drake: Finished checking gripper::collision against shelves::shelf_upper after 69 counter-example searches.\n",
      "INFO:drake: Checking gripper::collision against shelves::top has already required 30 counter-example searches; still searching...\n",
      "INFO:drake: Finished checking gripper::collision against shelves::top after 32 counter-example searches.\n",
      "INFO:drake:IrisInConfigurationSpace: terminating iterations because the seed point is no longer in the region.\n"
     ]
    }
   ],
   "source": [
    "options = IrisOptions()\n",
    "options.num_collision_infeasible_samples = 3 if running_as_notebook else 1\n",
    "options.random_seed = 1235\n",
    "options.require_sample_point_is_contained = True\n",
    "options.configuration_space_margin = 0.05\n",
    "\n",
    "# TODO: use IrisInConfigurationSpace to create your home_region\n",
    "home_region = IrisInConfigurationSpace(plant, plant_context, options)"
   ]
  },
  {
   "cell_type": "markdown",
   "metadata": {
    "cell_id": "7bc36c9d7d6a43ceb0c9b1f1d4e1b768",
    "deepnote_cell_type": "markdown"
   },
   "source": [
    "Run the AnimateIris function below to see your home_region \"sketched out\" in Meshcat. To stop the visualization, interrupt the cell (using the square stop button beside it) or click 'Stop Animation' in the Meshcat dropdown.\n",
    "\n",
    "If what you see makes you curious, visit the documentation and linked paper to learn more about how IRIS builds a convex polytope to represent obstacle-free space: https://drake.mit.edu/doxygen_cxx/group__planning__iris.html#gafd8111a93cb3461e05bec3477ee736f6"
   ]
  },
  {
   "cell_type": "code",
   "execution_count": 14,
   "metadata": {
    "cell_id": "e40a9561b6244934a45e33585e6134a2",
    "deepnote_cell_type": "code"
   },
   "outputs": [
    {
     "name": "stdout",
     "output_type": "stream",
     "text": [
      "Press the 'Stop Animation' button in Meshcat to continue.\n"
     ]
    }
   ],
   "source": [
    "if running_as_notebook:\n",
    "    AnimateIris(diagram, context, plant, home_region, 1.0)"
   ]
  },
  {
   "cell_type": "markdown",
   "metadata": {
    "cell_id": "db4a6db709724bc19324f607b25120db",
    "deepnote_cell_type": "markdown"
   },
   "source": [
    "#### Creating the shelf regions\n",
    "\n",
    "Now we will create IRIS regions corresponding to the area in front of the shelf and the top shelf. \n",
    "\n",
    "IRIS expands its convex polytopes out of a given sample point and list of convex obstacles. The joint state of our plant in the context that we pass to the `IrisInConfigurationSpace` function is the sample point and the list of convex obstacles is described in the `plant` and `plant_context`. \n",
    "\n",
    "So we're not guaranteed, in finite iterations, to include a joint state that corresponds to the desired end effector position, in our `home_region` IRIS region. Therefore, to be sure we include our desired start and end points for our end effector, we will use Inverse Kinematics to get corresponding joint positions and use those as our sample points in building our IRIS regions.\n",
    "\n",
    "This means you'll be writing two functionalities in this section. First, a reusable function that solves an Inverse Kinematics problem, which you've seen in past PSETs. Second, code to generate IRIS regions, similar to what we completed above, but instead using a scaled down version of the `home_region` as a an obstacle to guide our IRIS region expansion.\n",
    "\n",
    "**Hint**: this Inverse Kinematics function you'll implement first is very similiar (but slightly different) than the `solve_ik_for_pose` function you wrote in PSET 5's 5_plan_place_initials.ipynb. Refering back to your solution for PSET 5 is good place to start.\n"
   ]
  },
  {
   "cell_type": "code",
   "execution_count": null,
   "metadata": {
    "cell_id": "81c14d8b89484191a7dee2760697427a",
    "deepnote_cell_type": "code"
   },
   "outputs": [],
   "source": [
    "def solve_IK(\n",
    "    plant: MultibodyPlant,\n",
    "    plant_context: Context,\n",
    "    goal_pos: List,\n",
    "    ee_frame: RigidBodyFrame,\n",
    "    q_initial: np.ndarray,\n",
    ") -> np.ndarray | None:\n",
    "    ik = InverseKinematics(plant, plant_context)\n",
    "    \n",
    "    # TODO: add a minimum distance we must keep from all geometries in our environment\n",
    "    # (this is to prevent collisions)\n",
    "    # use a minimum distance (aka bound in the Drake function args) of 0.001\n",
    "    # and an influence_distance_offset of 0.01\n",
    "    ik.AddMinimumDistanceLowerBoundConstraint(0.001, 0.01)\n",
    "\n",
    "    # Constrain our end effector (the gripper) to be at the goal position\n",
    "    ik.AddPositionConstraint(\n",
    "        ee_frame, [0, 0.1, 0], plant.world_frame(), goal_pos, goal_pos\n",
    "    )\n",
    "    \n",
    "    # TODO: get the joint space variables\n",
    "    q_vars = ik.q()\n",
    "    \n",
    "    # TODO: get the program from your Inverse Kinematics object\n",
    "    prog = ik.prog()\n",
    "    \n",
    "    # TODO: add a distance squared cost on the difference\n",
    "    # between your initial joint locations and your joint variables\n",
    "    # Hint: use AddQuadraticErrorCost\n",
    "    prog.AddQuadraticErrorCost(np.eye(len(q_initial)), q_initial, q_vars)\n",
    "    \n",
    "    # TODO: set an initial guess for your IK solve to your initial position\n",
    "    prog.SetInitialGuess(q_vars, q_initial)\n",
    "    \n",
    "    # TODO: solve your IK program\n",
    "    result = Solve(prog)\n",
    "    \n",
    "    if result.is_success():\n",
    "        return result.GetSolution(q_vars)\n",
    "    else:\n",
    "        return None"
   ]
  },
  {
   "cell_type": "markdown",
   "metadata": {
    "cell_id": "b7570a9c155a4c60a2fa35f3af29919c",
    "deepnote_cell_type": "markdown"
   },
   "source": [
    "Now we set the end effector position out of which we'll expand our top shelf's IRIS region, solve for corresponding joint states using our IK helper function above, then call IRIS from our solved joint state. Throughout the IRIS region expansion that follows you may see a few glancing collisions with the shelves in the resulting region. Increase the `num_collision_infeasible_samples` option to reduce them (at the cost of IRIS running for longer, or similarly lower them to run for shorter with the chance of more collisions). The number we've provided is a high estimate that we have made sure works well."
   ]
  },
  {
   "cell_type": "code",
   "execution_count": 16,
   "metadata": {
    "cell_id": "1635e54fb9f643e691fd6e340b6056f1",
    "deepnote_cell_type": "code"
   },
   "outputs": [
    {
     "name": "stderr",
     "output_type": "stream",
     "text": [
      "INFO:drake:IrisInConfigurationSpace iteration 0\n",
      "INFO:drake:IrisInConfigurationSpace: Terminating because the hyperellipsoid volume change 0.0002078524741254851 is below the threshold 0.02.\n"
     ]
    }
   ],
   "source": [
    "p_TopShelf = [0.95, 0, 0.65]\n",
    "# TODO: get a solved joint state using your helper function\n",
    "q_sol = solve_IK(plant, plant_context, p_TopShelf, gripper_frame, q0)\n",
    "\n",
    "if q_sol is not None:\n",
    "    # TODO: set the position of our Kuka Iiwa in our\n",
    "    # plant_context to the solved joint state\n",
    "    plant.SetPositions(plant_context, q_sol)\n",
    "\n",
    "    # Now we force our diagram to reflect this change, since IRIS\n",
    "    # will use the context object to create it's region\n",
    "    diagram.ForcedPublish(context)\n",
    "\n",
    "    options = IrisOptions()\n",
    "    options.num_collision_infeasible_samples = 30\n",
    "    options.random_seed = 1235\n",
    "    options.require_sample_point_is_contained = True\n",
    "    options.configuration_space_margin = 0.05\n",
    "    # TODO: call IRIS to get your top shelf_region\n",
    "    shelf_region = IrisInConfigurationSpace(plant, plant_context, options)\n",
    "\n",
    "else:\n",
    "    print(\"IK failed for shelf position\")"
   ]
  },
  {
   "cell_type": "code",
   "execution_count": 17,
   "metadata": {
    "cell_id": "c7519e1922414786ba786385fa84902a",
    "deepnote_cell_type": "code"
   },
   "outputs": [
    {
     "name": "stdout",
     "output_type": "stream",
     "text": [
      "Press the 'Stop Animation' button in Meshcat to continue.\n"
     ]
    }
   ],
   "source": [
    "if running_as_notebook:\n",
    "    AnimateIris(diagram, context, plant, shelf_region, 1.0)"
   ]
  },
  {
   "cell_type": "markdown",
   "metadata": {
    "cell_id": "662b59d828e344fbbe4ff044ed15831d",
    "deepnote_cell_type": "markdown"
   },
   "source": [
    "If you got the `shelf_region` working above, the same approach will work here. In this snippet we're expanding an IRIS region starting from the end effector pose our robot will initialize in. This ensures we get an IRIS region that directly borders/overlaps with our top shelf region. This is critical if we want to be able to use GCS to plan through these regions."
   ]
  },
  {
   "cell_type": "code",
   "execution_count": 18,
   "metadata": {
    "cell_id": "15b78175b05f462d9bd66fc6e5f9b01c",
    "deepnote_cell_type": "code"
   },
   "outputs": [
    {
     "name": "stderr",
     "output_type": "stream",
     "text": [
      "INFO:drake:IrisInConfigurationSpace iteration 0\n",
      "INFO:drake:IrisInConfigurationSpace: Terminating because the hyperellipsoid volume change 0.006306229226426109 is below the threshold 0.02.\n"
     ]
    }
   ],
   "source": [
    "p_Start = [0.75, 0, 0.64]\n",
    "# TODO: get a solved joint state using your helper function\n",
    "q_sol = solve_IK(plant, plant_context, p_Start, gripper_frame, q0)\n",
    "\n",
    "if q_sol is not None:\n",
    "    # TODO: set the position of our Kuka Iiwa in our\n",
    "    # plant_context to the solved joint state\n",
    "    plant.SetPositions(plant_context, q_sol)\n",
    "\n",
    "    diagram.ForcedPublish(context)\n",
    "\n",
    "    options = IrisOptions()\n",
    "    options.num_collision_infeasible_samples = 30\n",
    "    options.random_seed = 1235\n",
    "    options.require_sample_point_is_contained = True\n",
    "    options.configuration_space_margin = 0.05\n",
    "\n",
    "    # TODO: call IRIS to get your top start_region\n",
    "    start_region = IrisInConfigurationSpace(plant, plant_context, options)\n",
    "\n",
    "else:\n",
    "    print(\"IK failed for shelf position\")\n",
    "    start_region = home_region  # Fallback"
   ]
  },
  {
   "cell_type": "code",
   "execution_count": 19,
   "metadata": {
    "cell_id": "2b25f5e444084da89ba15e49313822c6",
    "deepnote_cell_type": "code"
   },
   "outputs": [
    {
     "name": "stdout",
     "output_type": "stream",
     "text": [
      "Press the 'Stop Animation' button in Meshcat to continue.\n"
     ]
    }
   ],
   "source": [
    "if running_as_notebook:\n",
    "    AnimateIris(diagram, context, plant, start_region, 1.0)"
   ]
  },
  {
   "cell_type": "markdown",
   "metadata": {
    "cell_id": "40bd4af885f74078932bf3e3340a35d3",
    "deepnote_cell_type": "markdown"
   },
   "source": [
    "It can take some time (~30 seconds) to create your IRIS regions, so we include this helper code to save your regions to a YAML and load them in. Feel free to just use your saved regions, once you're sure they're right."
   ]
  },
  {
   "cell_type": "code",
   "execution_count": 20,
   "metadata": {
    "cell_id": "65c1619b70814951a559056060826cde",
    "deepnote_cell_type": "code"
   },
   "outputs": [],
   "source": [
    "iris_regions = {\n",
    "    \"home_region\": home_region,\n",
    "    \"start_region\": start_region,\n",
    "    \"shelf_region\": shelf_region,\n",
    "}\n",
    "SaveIrisRegionsYamlFile(iris_filepath, iris_regions)"
   ]
  },
  {
   "cell_type": "code",
   "execution_count": 21,
   "metadata": {
    "cell_id": "f4f43b09e8a34bb0acb3812ae05c72e8",
    "deepnote_cell_type": "code"
   },
   "outputs": [],
   "source": [
    "# We're adding an offset to the position from which we create the IRIS region,\n",
    "# to illustrate the sort of edge cases GCS is great for planning through once you\n",
    "# have good IRIS regions. Feel free to play around with these values and push the\n",
    "# edge cases (the provided values will work).\n",
    "goal_offset = np.array([0.0, 0.15, 0.0])\n",
    "targets = {\n",
    "    \"top_shelf\": p_TopShelf + goal_offset,\n",
    "    \"start\": p_Start,\n",
    "}\n",
    "\n",
    "# Visualize start position with a sphere\n",
    "# TODO: create a RigidTransform corresponding to your start position\n",
    "meshcat.SetObject(\"start\", Sphere(0.02), rgba=Rgba(0.1, 0.9, 0.1, 1))\n",
    "# TODO: display it\n",
    "meshcat.SetTransform(\"start\", RigidTransform(p_Start))\n",
    "\n",
    "# Visualize end position with a sphere\n",
    "# TODO: create a RigidTransform corresponding to your end position\n",
    "meshcat.SetObject(\"goal\", Sphere(0.02), rgba=Rgba(0.1, 0.1, 0.9, 1))\n",
    "# TODO: display it\n",
    "meshcat.SetTransform(\"goal\", RigidTransform(p_TopShelf + goal_offset))"
   ]
  },
  {
   "cell_type": "markdown",
   "metadata": {
    "cell_id": "06ad313113df4d2a923b8cbbd28bfc6c",
    "deepnote_cell_type": "markdown"
   },
   "source": [
    "Once you've got your IRIS regions working (you can check this by passing the next Verification Question), feel free to simply load in your regions with the code you'll write below, rather than re-computing them every time. You might find [this Drake Python documentation page](https://drake.mit.edu/pydrake/pydrake.geometry.optimization.html#pydrake.geometry.optimization.LoadIrisRegionsYamlFile) and this notebook's imports helpful."
   ]
  },
  {
   "cell_type": "code",
   "execution_count": 22,
   "metadata": {
    "cell_id": "e01b3f6e0abd4b31b603856ca2b64647",
    "deepnote_cell_type": "code"
   },
   "outputs": [],
   "source": [
    "# TODO: load your saved IRIS regions using LoadIrisRegionsYamlFile\n",
    "iris_regions = LoadIrisRegionsYamlFile(\"iris_regions.yaml\")"
   ]
  },
  {
   "cell_type": "markdown",
   "metadata": {
    "cell_id": "61d91e7b502c4dfda1c3852eff02c6b2",
    "deepnote_cell_type": "markdown"
   },
   "source": [
    "### IRIS Verification\n",
    "\n",
    "Which points are in which IRIS regions? Please enter your answers in Gradescope\n"
   ]
  },
  {
   "cell_type": "code",
   "execution_count": 23,
   "metadata": {
    "cell_id": "ceb54af8d7ad44c39d46e3cc94f0269d",
    "deepnote_cell_type": "code"
   },
   "outputs": [
    {
     "name": "stdout",
     "output_type": "stream",
     "text": [
      "Point p_1 in home_region: False\n",
      "Point p_1 in start_region: False\n",
      "Point p_1 in shelf_region: False\n",
      "\n",
      "Point p_2 in home_region: False\n",
      "Point p_2 in start_region: True\n",
      "Point p_2 in shelf_region: False\n",
      "\n",
      "Point p_3 in home_region: True\n",
      "Point p_3 in start_region: False\n",
      "Point p_3 in shelf_region: False\n",
      "\n",
      "Point p_4 in home_region: False\n",
      "Point p_4 in start_region: True\n",
      "Point p_4 in shelf_region: False\n",
      "\n"
     ]
    }
   ],
   "source": [
    "def verification_1(\n",
    "    home_region: HPolyhedron, start_region: HPolyhedron, shelf_region: HPolyhedron\n",
    "):\n",
    "    points = {\n",
    "        \"p_1\": np.array(\n",
    "            [\n",
    "                1.63413323e-01,\n",
    "                8.60968554e-01,\n",
    "                4.40673567e-02,\n",
    "                -3.14766082e-01,\n",
    "                1.84894776e-02,\n",
    "                4.46204025e-01,\n",
    "                -7.01253975e-07,\n",
    "            ]\n",
    "        ),\n",
    "        \"p_2\": np.array(\n",
    "            [\n",
    "                -0.01805273,\n",
    "                0.38641349,\n",
    "                -0.01249206,\n",
    "                -0.83934187,\n",
    "                -0.00642435,\n",
    "                1.14372559,\n",
    "                0.0,\n",
    "            ]\n",
    "        ),\n",
    "        \"p_3\": np.array([0.0, 0.1, 0.0, -1.2, 0.0, 1.6, 0.0]),\n",
    "        \"p_4\": np.array(\n",
    "            [-0.0305273, 0.41349, -0.0149206, -0.734187, -0.042435, 1.24372559, 0.0]\n",
    "        ),\n",
    "    }\n",
    "    for name, p in points.items():\n",
    "        print(f\"Point {name} in home_region: {home_region.PointInSet(p)}\")\n",
    "        print(f\"Point {name} in start_region: {start_region.PointInSet(p)}\")\n",
    "        print(f\"Point {name} in shelf_region: {shelf_region.PointInSet(p)}\")\n",
    "        print()\n",
    "\n",
    "\n",
    "verification_1(home_region, start_region, shelf_region)"
   ]
  },
  {
   "cell_type": "markdown",
   "metadata": {
    "cell_id": "23d7305314194f519d2bb1b3243a9ff2",
    "deepnote_cell_type": "markdown"
   },
   "source": [
    "## Creating the GCS Graph\n",
    "\n",
    "Now we will connect our IRIS regions and use GCS to search through them. We highly recommend reviewing the figure under 6.4.1 to get a visual intuition for how you're building a graph through convex polytopes, and how GCS searches through. By the end of this section, your trajectory should start in the center outside of the top shelf and stop at the leftmost side inside the top shelf.\n",
    "\n",
    "Before beginning, please read through the [Drake documentation](https://drake.mit.edu/doxygen_cxx/classdrake_1_1planning_1_1trajectory__optimization_1_1_gcs_trajectory_optimization.html) on `GcsTrajectoryOptimization`. Specifically you'll need the `AddRegions` and `AddEdges` functions.\n",
    "\n",
    "Note: we ask you to start by defining your q_start as the joint state corresopnding to the end effector transform around which we expanded our `start_region` IRIS region. This means that we'll be solving a GCS problem from the `start_region` to the top shelf, the `shelf_region`, and our trajectory may not make use of the `home_region`. \n",
    "\n",
    "If you're curious, you can solve the GCS problem from the initial Kuka Iiwa joint positions from which the `home_region` was expanded. To do this, set your `q_start` to the Kuka Iiwa's initial position. You can get this using `plant.GetPositions(plant_context)`, but **be mindful of the state of your `plant_context` when you make this call** as we've modified our context during the IRIS region construction phase. You may want to use the `q0` we saved earlier in the PSET before expanding the IRIS regions.\n",
    "\n",
    "**Hint**: As a debugging step, use the helper function below to visualize your GCS graph. Our solution had 5 nodes and 4 edges."
   ]
  },
  {
   "cell_type": "code",
   "execution_count": 24,
   "metadata": {
    "cell_id": "f6a91babc997440b96eba9414871943e",
    "deepnote_cell_type": "code"
   },
   "outputs": [],
   "source": [
    "# TODO: use your IK function to solve for joint states matching\n",
    "# the start and top_shelf end effector locations\n",
    "p_Start = [0.75, 0, 0.64]\n",
    "p_TopShelf = [0.95, 0, 0.65]\n",
    "goal_offset = np.array([0.0, 0.15, 0.0])\n",
    "\n",
    "configs = {\n",
    "    \"start\": solve_IK(plant, plant_context, p_Start, gripper_frame, q0),\n",
    "    \"top_shelf\": solve_IK(plant, plant_context, p_TopShelf + goal_offset, gripper_frame, q0)\n",
    "}\n",
    "\n",
    "# TODO: uncomment after setting up your configurations\n",
    "q_start = configs[\"start\"]\n",
    "q_goal = configs[\"top_shelf\"]"
   ]
  },
  {
   "cell_type": "code",
   "execution_count": 30,
   "metadata": {
    "cell_id": "05551cdb2b2a459fa04f18d19871e7f4",
    "deepnote_cell_type": "code"
   },
   "outputs": [],
   "source": [
    "gcs = GcsTrajectoryOptimization(len(q_start))\n",
    "\n",
    "# TODO: add each IRIS region we've created to the GCS problem. Use an order 1 Bezier curve.\n",
    "home_subgraph = gcs.AddRegions([iris_regions[\"home_region\"]], 1)\n",
    "start_subgraph = gcs.AddRegions([iris_regions[\"start_region\"]], 1)  \n",
    "shelf_subgraph = gcs.AddRegions([iris_regions[\"shelf_region\"]], 1)\n",
    "\n",
    "# TODO: add a region for our start and goal points, called source and target respectively, as a Point object. Use an order 0 Bezier curve.\n",
    "source_subgraph = gcs.AddRegions([Point(q_start)], 0)\n",
    "target_subgraph = gcs.AddRegions([Point(q_goal)], 0)\n",
    "\n",
    "# Add edges to connect regions: source -> home_region -> start_region -> shelf_region -> target\n",
    "# Use subgraphs directly, not individual vertices\n",
    "gcs.AddEdges(source_subgraph, home_subgraph)\n",
    "gcs.AddEdges(home_subgraph, start_subgraph)\n",
    "gcs.AddEdges(start_subgraph, shelf_subgraph)\n",
    "gcs.AddEdges(shelf_subgraph, target_subgraph)\n",
    "\n",
    "# TODO: add a \"skip connection\" edge, so we are not forced to go through the sequence of regions specified above\n",
    "# for example, we want source -> start_region -> shelf_region -> target to be possible\n",
    "gcs.AddEdges(source_subgraph, start_subgraph)\n",
    "\n",
    "# TODO: what other \"skip connection\" do we want to allow that isn't listed above? We're expecting two\n",
    "# Additional skip connections:\n",
    "# 1. Direct connection from home to shelf (skipping start)\n",
    "gcs.AddEdges(home_subgraph, shelf_subgraph)\n",
    "# 2. Direct connection from start to target (skipping shelf for potential shorter paths)\n",
    "gcs.AddEdges(start_subgraph, target_subgraph)\n",
    "\n",
    "# Add costs and constraints\n",
    "gcs.AddTimeCost()\n",
    "gcs.AddVelocityBounds(plant.GetVelocityLowerLimits(), plant.GetVelocityUpperLimits())\n",
    "\n",
    "# For the SolvePath call, we need the actual vertices\n",
    "source = source_subgraph.Vertices()[0]\n",
    "target = target_subgraph.Vertices()[0]"
   ]
  },
  {
   "cell_type": "markdown",
   "metadata": {
    "cell_id": "9d1ae426e1c14497857d86680f1a2557",
    "deepnote_cell_type": "markdown"
   },
   "source": [
    "As a debugging step, feel free to use the helper function below to visualize your graph:"
   ]
  },
  {
   "cell_type": "code",
   "execution_count": 31,
   "metadata": {
    "cell_id": "26ea8ac780e448148cd172f795943ef6",
    "deepnote_cell_type": "code"
   },
   "outputs": [
    {
     "data": {
      "image/svg+xml": [
       "<svg xmlns=\"http://www.w3.org/2000/svg\" xmlns:xlink=\"http://www.w3.org/1999/xlink\" width=\"763pt\" height=\"305pt\" viewBox=\"0.00 0.00 762.94 305.00\">\n",
       "<g id=\"graph0\" class=\"graph\" transform=\"scale(1 1) rotate(0) translate(4 301)\">\n",
       "<title>GraphOfConvexSets</title>\n",
       "<polygon fill=\"white\" stroke=\"transparent\" points=\"-4,4 -4,-301 758.94,-301 758.94,4 -4,4\"/>\n",
       "<!-- v201 -->\n",
       "<g id=\"node1\" class=\"node\">\n",
       "<title>v201</title>\n",
       "<ellipse fill=\"none\" stroke=\"black\" cx=\"105.94\" cy=\"-279\" rx=\"105.88\" ry=\"18\"/>\n",
       "<text text-anchor=\"middle\" x=\"105.94\" y=\"-275.3\" font-family=\"Times,serif\" font-size=\"14.00\">Subgraph0: Region0</text>\n",
       "</g>\n",
       "<!-- v202 -->\n",
       "<g id=\"node2\" class=\"node\">\n",
       "<title>v202</title>\n",
       "<ellipse fill=\"none\" stroke=\"black\" cx=\"276.94\" cy=\"-192\" rx=\"105.88\" ry=\"18\"/>\n",
       "<text text-anchor=\"middle\" x=\"276.94\" y=\"-188.3\" font-family=\"Times,serif\" font-size=\"14.00\">Subgraph1: Region0</text>\n",
       "</g>\n",
       "<!-- v201&#45;&gt;v202 -->\n",
       "<g id=\"edge1\" class=\"edge\">\n",
       "<title>v201-&gt;v202</title>\n",
       "<path fill=\"none\" stroke=\"black\" d=\"M101.34,-260.85C99.58,-250.22 99.5,-236.94 106.94,-228 116.68,-216.29 145.22,-208.38 176.21,-203.08\"/>\n",
       "<polygon fill=\"black\" stroke=\"black\" points=\"177.01,-206.49 186.33,-201.45 175.9,-199.58 177.01,-206.49\"/>\n",
       "<text text-anchor=\"middle\" x=\"266.44\" y=\"-231.8\" font-family=\"Times,serif\" font-size=\"14.00\">Subgraph0: Region0 -&gt; Subgraph1: Region0</text>\n",
       "</g>\n",
       "<!-- v203 -->\n",
       "<g id=\"node3\" class=\"node\">\n",
       "<title>v203</title>\n",
       "<ellipse fill=\"none\" stroke=\"black\" cx=\"276.94\" cy=\"-105\" rx=\"105.88\" ry=\"18\"/>\n",
       "<text text-anchor=\"middle\" x=\"276.94\" y=\"-101.3\" font-family=\"Times,serif\" font-size=\"14.00\">Subgraph2: Region0</text>\n",
       "</g>\n",
       "<!-- v202&#45;&gt;v203 -->\n",
       "<g id=\"edge2\" class=\"edge\">\n",
       "<title>v202-&gt;v203</title>\n",
       "<path fill=\"none\" stroke=\"black\" d=\"M276.94,-173.8C276.94,-162.16 276.94,-146.55 276.94,-133.24\"/>\n",
       "<polygon fill=\"black\" stroke=\"black\" points=\"280.44,-133.18 276.94,-123.18 273.44,-133.18 280.44,-133.18\"/>\n",
       "<text text-anchor=\"middle\" x=\"436.44\" y=\"-144.8\" font-family=\"Times,serif\" font-size=\"14.00\">Subgraph1: Region0 -&gt; Subgraph2: Region0</text>\n",
       "</g>\n",
       "<!-- v205 -->\n",
       "<g id=\"node5\" class=\"node\">\n",
       "<title>v205</title>\n",
       "<ellipse fill=\"none\" stroke=\"black\" cx=\"276.94\" cy=\"-18\" rx=\"105.88\" ry=\"18\"/>\n",
       "<text text-anchor=\"middle\" x=\"276.94\" y=\"-14.3\" font-family=\"Times,serif\" font-size=\"14.00\">Subgraph4: Region0</text>\n",
       "</g>\n",
       "<!-- v203&#45;&gt;v205 -->\n",
       "<g id=\"edge3\" class=\"edge\">\n",
       "<title>v203-&gt;v205</title>\n",
       "<path fill=\"none\" stroke=\"black\" d=\"M276.94,-86.8C276.94,-75.16 276.94,-59.55 276.94,-46.24\"/>\n",
       "<polygon fill=\"black\" stroke=\"black\" points=\"280.44,-46.18 276.94,-36.18 273.44,-46.18 280.44,-46.18\"/>\n",
       "<text text-anchor=\"middle\" x=\"436.44\" y=\"-57.8\" font-family=\"Times,serif\" font-size=\"14.00\">Subgraph2: Region0 -&gt; Subgraph4: Region0</text>\n",
       "</g>\n",
       "<!-- v204 -->\n",
       "<g id=\"node4\" class=\"node\">\n",
       "<title>v204</title>\n",
       "<ellipse fill=\"none\" stroke=\"black\" cx=\"447.94\" cy=\"-279\" rx=\"105.88\" ry=\"18\"/>\n",
       "<text text-anchor=\"middle\" x=\"447.94\" y=\"-275.3\" font-family=\"Times,serif\" font-size=\"14.00\">Subgraph3: Region0</text>\n",
       "</g>\n",
       "<!-- v204&#45;&gt;v202 -->\n",
       "<g id=\"edge4\" class=\"edge\">\n",
       "<title>v204-&gt;v202</title>\n",
       "<path fill=\"none\" stroke=\"black\" d=\"M444.51,-260.78C441.45,-249.84 435.86,-236.24 425.94,-228 412.53,-216.85 396.21,-209.12 379.34,-203.79\"/>\n",
       "<polygon fill=\"black\" stroke=\"black\" points=\"379.95,-200.32 369.37,-200.91 378.01,-207.05 379.95,-200.32\"/>\n",
       "<text text-anchor=\"middle\" x=\"595.44\" y=\"-231.8\" font-family=\"Times,serif\" font-size=\"14.00\">Subgraph3: Region0 -&gt; Subgraph1: Region0</text>\n",
       "</g>\n",
       "</g>\n",
       "</svg>"
      ],
      "text/plain": [
       "<IPython.core.display.SVG object>"
      ]
     },
     "metadata": {},
     "output_type": "display_data"
    }
   ],
   "source": [
    "def show_gcs_graph(graph_of_convex_sets: GraphOfConvexSets) -> None:\n",
    "    display(\n",
    "        SVG(\n",
    "            pydot.graph_from_dot_data(graph_of_convex_sets.GetGraphvizString())[\n",
    "                0\n",
    "            ].create_svg()\n",
    "        )\n",
    "    )\n",
    "\n",
    "show_gcs_graph(gcs.graph_of_convex_sets())"
   ]
  },
  {
   "cell_type": "markdown",
   "metadata": {
    "cell_id": "90cca65d000d4ffdb8033abdc52f19fd",
    "deepnote_cell_type": "markdown"
   },
   "source": [
    "Once you are happy with your GCS graph, run the code below to solve the GCS Trajectory Optimization problem. If it finds a path, it will visualize it in meshcat for you!\n"
   ]
  },
  {
   "cell_type": "code",
   "execution_count": 34,
   "metadata": {
    "cell_id": "d962f85b9f11469db7d76ad3e21042c8",
    "deepnote_cell_type": "code"
   },
   "outputs": [
    {
     "name": "stderr",
     "output_type": "stream",
     "text": [
      "INFO:drake:Solved GCS shortest path using Clp with convex_relaxation=true and preprocessing=true and rounding.\n",
      "INFO:drake:Found 1 unique paths, discarded 99 duplicate paths.\n",
      "INFO:drake:Finished 1 rounding solutions with Clp.\n"
     ]
    },
    {
     "name": "stdout",
     "output_type": "stream",
     "text": [
      "Path found successfully!\n"
     ]
    }
   ],
   "source": [
    "# Solve - use subgraphs, not individual vertices\n",
    "options = GraphOfConvexSetsOptions()\n",
    "options.preprocessing = True\n",
    "options.max_rounded_paths = 10\n",
    "options.rounding_seed = 1235\n",
    "\n",
    "traj, result = gcs.SolvePath(source_subgraph, target_subgraph, options)\n",
    "\n",
    "if result.is_success():\n",
    "    print(\"Path found successfully!\")\n",
    "    # Visualize the trajectory\n",
    "    visualizer = diagram.GetSubsystemByName(\"meshcat_visualizer(illustration)\")\n",
    "    PublishPositionTrajectory(traj, context, plant, visualizer)\n",
    "    visualizer.ForcedPublish(visualizer.GetMyContextFromRoot(context))\n",
    "else:\n",
    "    print(\"No feasible path found\")\n",
    "    print(f\"Result: {result.get_solution_result()}\")"
   ]
  },
  {
   "cell_type": "markdown",
   "metadata": {
    "cell_id": "6a612aae6e714366bfea086d924bde3a",
    "deepnote_cell_type": "markdown"
   },
   "source": [
    "### GCS Verification \n",
    "\n",
    "What's the length of the trajectory you solved for using GCS when you start from the joint position corresponding to `p_Start`? Enter the value to three decimal places."
   ]
  },
  {
   "cell_type": "code",
   "execution_count": 35,
   "metadata": {
    "cell_id": "328af8e1bff04ee0a734727e2ec546b2",
    "deepnote_cell_type": "code"
   },
   "outputs": [
    {
     "name": "stdout",
     "output_type": "stream",
     "text": [
      "Path length: 1.0344\n"
     ]
    }
   ],
   "source": [
    "def gcs_verification(traj: CompositeTrajectory):\n",
    "    # discretize time series\n",
    "    times = np.linspace(traj.start_time(), traj.end_time(), 1000)\n",
    "    positions = traj.vector_values(times)\n",
    "\n",
    "    # add up path length of adjacent segments\n",
    "    path_length = 0.0\n",
    "    for i in range(1, len(times)):\n",
    "        diff = positions[:, i] - positions[:, i - 1]\n",
    "        path_length += np.linalg.norm(diff)\n",
    "\n",
    "    print(f\"Path length: {path_length:.4f}\")\n",
    "\n",
    "\n",
    "gcs_verification(traj)"
   ]
  }
 ],
 "metadata": {
  "deepnote_notebook_id": "695fc658be0343cc9eecaf144e33ffcc",
  "kernelspec": {
   "display_name": ".venv",
   "language": "python",
   "name": "python3"
  },
  "language_info": {
   "codemirror_mode": {
    "name": "ipython",
    "version": 3
   },
   "file_extension": ".py",
   "mimetype": "text/x-python",
   "name": "python",
   "nbconvert_exporter": "python",
   "pygments_lexer": "ipython3",
   "version": "3.12.3"
  }
 },
 "nbformat": "4",
 "nbformat_minor": "0"
}
