{
 "cells": [
  {
   "cell_type": "markdown",
   "metadata": {
    "cell_id": "1c373771418743b5b93d71a5cbff64ed",
    "deepnote_cell_type": "markdown",
    "id": "EgiF12Hf1Dhs"
   },
   "source": [
    "# Kinematic Trajectory Optimization Around Shelf Exterior with the Kuka Iiwa\n",
    "\n",
    "In this exercise you'll build on the examples in [Chapter 6](https://manipulation.csail.mit.edu/trajectories.html#section2) and better understand how the state of your robot's environment affects the techniques you use when formulating and solving your optimization problem. Specifically, we'll look at the effects of operating at the boundaries of the Iiwa's kinematic workspace and with complex collision constraints applied as you move its gripper from the upper RH side outside of the shelf to the bottom LH side outside of the shelf."
   ]
  },
  {
   "cell_type": "code",
   "execution_count": 1,
   "metadata": {
    "cell_id": "749777dff7c24bf2b9cb8c44daf58812",
    "deepnote_cell_type": "code",
    "id": "eeMrMI0-1Dhu"
   },
   "outputs": [],
   "source": [
    "import numpy as np\n",
    "from pydrake.all import (\n",
    "    AddMultibodyPlantSceneGraph,\n",
    "    BsplineTrajectory,\n",
    "    Context,\n",
    "    DiagramBuilder,\n",
    "    KinematicTrajectoryOptimization,\n",
    "    MathematicalProgram,\n",
    "    MathematicalProgramResult,\n",
    "    MeshcatVisualizer,\n",
    "    MeshcatVisualizerParams,\n",
    "    MinimumDistanceLowerBoundConstraint,\n",
    "    MultibodyPlant,\n",
    "    Parser,\n",
    "    PositionConstraint,\n",
    "    Rgba,\n",
    "    RigidTransform,\n",
    "    Role,\n",
    "    Solve,\n",
    "    Sphere,\n",
    "    StartMeshcat,\n",
    ")\n",
    "\n",
    "from manipulation.meshcat_utils import PublishPositionTrajectory\n",
    "from manipulation.scenarios import AddIiwa, AddWsg\n",
    "from manipulation.utils import ConfigureParser"
   ]
  },
  {
   "cell_type": "code",
   "execution_count": 2,
   "metadata": {
    "cell_id": "8539f903d3b145158b5c037d993f9eea",
    "deepnote_cell_type": "code"
   },
   "outputs": [
    {
     "name": "stderr",
     "output_type": "stream",
     "text": [
      "INFO:drake:Meshcat listening for connections at http://localhost:7001\n"
     ]
    }
   ],
   "source": [
    "# Start the visualizer.\n",
    "meshcat = StartMeshcat()"
   ]
  },
  {
   "cell_type": "markdown",
   "metadata": {
    "cell_id": "1213d5d16f364cd69a90e5e540ea700c",
    "deepnote_cell_type": "markdown"
   },
   "source": [
    "### Setup"
   ]
  },
  {
   "cell_type": "code",
   "execution_count": 3,
   "metadata": {
    "cell_id": "0fb2fc1822094d759b1a8dde799cdd13",
    "deepnote_cell_type": "code"
   },
   "outputs": [],
   "source": [
    "# Clear your visualizer\n",
    "meshcat.Delete()"
   ]
  },
  {
   "cell_type": "code",
   "execution_count": 4,
   "metadata": {
    "cell_id": "bb6d2d8449664313a40abd243de3b942",
    "deepnote_cell_type": "code"
   },
   "outputs": [],
   "source": [
    "# TODO: create your diagram builder\n",
    "builder = DiagramBuilder()\n",
    "\n",
    "# TODO: create your plant and scene graph with a time step of 0.001\n",
    "plant, scene_graph = AddMultibodyPlantSceneGraph(builder, time_step=0.001)\n",
    "\n",
    "# TODO: add an Iiwa robot to your plant and set collision model to be \"with_box_collision\"\n",
    "iiwa = AddIiwa(plant, collision_model=\"with_box_collision\")\n",
    "\n",
    "# TODO: add the WSG gripper to your iiwa, set roll to 0.0 and weld it\n",
    "wsg = AddWsg(plant, iiwa, welded=True, roll=0.0)"
   ]
  },
  {
   "cell_type": "code",
   "execution_count": 5,
   "metadata": {
    "cell_id": "d95cb5e921594a5788599a5b6ae70ddc",
    "deepnote_cell_type": "code"
   },
   "outputs": [],
   "source": [
    "# TODO: visualize the start and end positions using a sphere\n",
    "# Hint: you'll want to use meshcat's SetObject and SetTransform\n",
    "\n",
    "X_WStart = RigidTransform([0.65, -0.5, 0.68])\n",
    "X_WGoal = RigidTransform([0.6, 0.5, 0.15])\n",
    "\n",
    "# Create and position the start sphere (red)\n",
    "meshcat.SetObject(\"iiwa_start\", Sphere(0.05), Rgba(1, 0, 0, 1))\n",
    "meshcat.SetTransform(\"iiwa_start\", X_WStart)\n",
    "\n",
    "# Create and position the goal sphere (blue)\n",
    "meshcat.SetObject(\"iiwa_goal\", Sphere(0.05), Rgba(0, 0, 1, 1))\n",
    "meshcat.SetTransform(\"iiwa_goal\", X_WGoal)"
   ]
  },
  {
   "cell_type": "code",
   "execution_count": 6,
   "metadata": {
    "cell_id": "2535888bc8d84f51b877469716cd36e8",
    "deepnote_cell_type": "code"
   },
   "outputs": [],
   "source": [
    "# Using the parser to set up the shelves\n",
    "parser = Parser(plant)\n",
    "ConfigureParser(parser)\n",
    "shelf = parser.AddModelsFromUrl(\"package://manipulation/shelves.sdf\")[0]\n",
    "\n",
    "# Add different objects to the shelves\n",
    "cracker_box = parser.AddModelsFromUrl(\n",
    "    \"package://manipulation/hydro/003_cracker_box.sdf\"\n",
    ")[0]\n",
    "sugar_box = parser.AddModelsFromUrl(\"package://manipulation/hydro/004_sugar_box.sdf\")[0]\n",
    "cracker_height = 0.065800 / 2.0\n",
    "sugar_height = 0.039100 / 2.0\n",
    "\n",
    "mustard_bottle = parser.AddModelsFromUrl(\n",
    "    \"package://manipulation/hydro/006_mustard_bottle.sdf\"\n",
    ")[0]\n",
    "\n",
    "# Weld the shelf to the world\n",
    "plant.WeldFrames(\n",
    "    plant.world_frame(),\n",
    "    plant.GetFrameByName(\"shelves_body\", shelf),\n",
    "    RigidTransform([0.6, 0, 0.4]),\n",
    ")\n",
    "\n",
    "# Weld objects to shelves\n",
    "plant.WeldFrames(\n",
    "    plant.world_frame(),\n",
    "    plant.GetFrameByName(\"base_link_cracker\", cracker_box),\n",
    "    RigidTransform([0.6, 0, 0.53915 + cracker_height]),\n",
    ")\n",
    "plant.WeldFrames(\n",
    "    plant.world_frame(),\n",
    "    plant.GetFrameByName(\"base_link_mustard\", mustard_bottle),\n",
    "    RigidTransform([0.6, 0.0, 0.27685]),\n",
    ")\n",
    "plant.WeldFrames(\n",
    "    plant.world_frame(),\n",
    "    plant.GetFrameByName(\"base_link_sugar\", sugar_box),\n",
    "    RigidTransform([0.56, 0.0, 0.016 + sugar_height]),\n",
    ")\n",
    "\n",
    "plant.Finalize()"
   ]
  },
  {
   "cell_type": "code",
   "execution_count": 7,
   "metadata": {
    "cell_id": "e685902e37b748f9aca8cae3819fb4b0",
    "deepnote_cell_type": "code"
   },
   "outputs": [],
   "source": [
    "# Setting up our meshcat and collision visualizers\n",
    "visualizer = MeshcatVisualizer.AddToBuilder(\n",
    "    builder,\n",
    "    scene_graph,\n",
    "    meshcat,\n",
    "    MeshcatVisualizerParams(role=Role.kIllustration),\n",
    ")\n",
    "collision_visualizer = MeshcatVisualizer.AddToBuilder(\n",
    "    builder,\n",
    "    scene_graph,\n",
    "    meshcat,\n",
    "    MeshcatVisualizerParams(\n",
    "        prefix=\"collision\", role=Role.kProximity, visible_by_default=False\n",
    "    ),\n",
    ")"
   ]
  },
  {
   "cell_type": "code",
   "execution_count": 8,
   "metadata": {
    "cell_id": "cdf765c927d740e28b4e031e148699e3",
    "deepnote_cell_type": "code"
   },
   "outputs": [],
   "source": [
    "# TODO: set up your diagram, context, and plant_context\n",
    "diagram = builder.Build()\n",
    "context = diagram.CreateDefaultContext()\n",
    "plant_context = plant.GetMyContextFromRoot(context)"
   ]
  },
  {
   "cell_type": "code",
   "execution_count": 9,
   "metadata": {
    "cell_id": "36907b46e1764e2ebcef7f9bd2d01e24",
    "deepnote_cell_type": "code"
   },
   "outputs": [],
   "source": [
    "# Saving the number of joints in the Iiwa, its default positon, and the end effector frame\n",
    "num_q = plant.num_positions()\n",
    "q0 = plant.GetPositions(plant_context)\n",
    "gripper_frame = plant.GetFrameByName(\"body\", wsg)"
   ]
  },
  {
   "cell_type": "markdown",
   "metadata": {
    "cell_id": "01be9b176a06483ba64f0cb360c82491",
    "deepnote_cell_type": "markdown"
   },
   "source": [
    "### Formulating our trajectory optimization\n",
    "\n",
    "We'll begin by implementing a reusable trajectory optimization function.\n",
    "\n",
    "\n",
    "We highly encourage reviewing the [Drake documentation]((https://drake.mit.edu/doxygen_cxx/classdrake_1_1planning_1_1trajectory__optimization_1_1_kinematic_trajectory_optimization.html)) for the imports provided before proceeding. None of the constraints and costs you will design below rely heavily on Numpy functionality, we're using Drake's mathematical program and optimization machinery to define and solve our formulation."
   ]
  },
  {
   "cell_type": "code",
   "execution_count": 10,
   "metadata": {
    "cell_id": "ac8135fbf6114fffa4b2b0a207f9104b",
    "deepnote_cell_type": "code"
   },
   "outputs": [],
   "source": [
    "# TODO: create a kinematic trajectory optimization object with 15 control points\n",
    "trajopt = KinematicTrajectoryOptimization(num_q, 15)\n",
    "prog = trajopt.get_mutable_prog()"
   ]
  },
  {
   "cell_type": "code",
   "execution_count": 11,
   "metadata": {
    "cell_id": "1736222f56254e82a50ae0383a60a59e",
    "deepnote_cell_type": "code"
   },
   "outputs": [],
   "source": [
    "def formulate_trajopt(\n",
    "    trajopt: KinematicTrajectoryOptimization, prog: MathematicalProgram\n",
    ") -> None:\n",
    "    # Create PositionConstraints for start and goal positions\n",
    "    # Use [0, 0.1, 0] as the position of the gripping point with respect to the gripper frame\n",
    "    p_BQ = np.array([0, 0.1, 0]).reshape(3, 1)  # Position of gripping point relative to gripper frame\n",
    "    \n",
    "    # Start position constraint\n",
    "    start_pos = X_WStart.translation().reshape(3, 1)\n",
    "    start_constraint = PositionConstraint(\n",
    "        plant=plant,\n",
    "        frameA=plant.world_frame(),\n",
    "        p_AQ_lower=start_pos,\n",
    "        p_AQ_upper=start_pos,\n",
    "        frameB=gripper_frame,\n",
    "        p_BQ=p_BQ,\n",
    "        plant_context=plant_context\n",
    "    )\n",
    "    \n",
    "    # Goal position constraint  \n",
    "    goal_pos = X_WGoal.translation().reshape(3, 1)\n",
    "    goal_constraint = PositionConstraint(\n",
    "        plant=plant,\n",
    "        frameA=plant.world_frame(),\n",
    "        p_AQ_lower=goal_pos,\n",
    "        p_AQ_upper=goal_pos,\n",
    "        frameB=gripper_frame,\n",
    "        p_BQ=p_BQ,\n",
    "        plant_context=plant_context\n",
    "    )\n",
    "    \n",
    "    # Add both constraints as PathPositionConstraints\n",
    "    # Start constraint at s=0 (beginning of path)\n",
    "    trajopt.AddPathPositionConstraint(start_constraint, s=0.0)\n",
    "    # Goal constraint at s=1 (end of path)\n",
    "    trajopt.AddPathPositionConstraint(goal_constraint, s=1.0)\n",
    "    \n",
    "    # Add position and velocity bounds for hardware limitations\n",
    "    trajopt.AddPositionBounds(\n",
    "        lb=plant.GetPositionLowerLimits().reshape(-1, 1),\n",
    "        ub=plant.GetPositionUpperLimits().reshape(-1, 1)\n",
    "    )\n",
    "    trajopt.AddVelocityBounds(\n",
    "        lb=plant.GetVelocityLowerLimits().reshape(-1, 1),\n",
    "        ub=plant.GetVelocityUpperLimits().reshape(-1, 1)\n",
    "    )\n",
    "    \n",
    "    # Add path velocity constraints at beginning and end (stationary)\n",
    "    # Zero velocity at start (s=0)\n",
    "    zero_velocity = np.zeros(plant.num_velocities()).reshape(-1, 1)\n",
    "    trajopt.AddPathVelocityConstraint(\n",
    "        lb=zero_velocity,\n",
    "        ub=zero_velocity,\n",
    "        s=0.0\n",
    "    )\n",
    "    # Zero velocity at end (s=1)  \n",
    "    trajopt.AddPathVelocityConstraint(\n",
    "        lb=zero_velocity,\n",
    "        ub=zero_velocity,\n",
    "        s=1.0\n",
    "    )\n",
    "    \n",
    "    # Constrain duration between 0.5 and 5 seconds\n",
    "    trajopt.AddDurationConstraint(lb=0.5, ub=5.0)\n",
    "    \n",
    "    # Add cost on duration and path length with magnitude 1.0\n",
    "    trajopt.AddDurationCost(weight=1.0)\n",
    "    trajopt.AddPathLengthCost(weight=1.0)\n",
    "    \n",
    "    # Add cost to encourage solution close to q0 at start and end\n",
    "    # This \"normalizes\" the behavior by preferring configurations close to the default\n",
    "    # Use quadratic cost on the control points\n",
    "    control_points = trajopt.control_points()\n",
    "    \n",
    "    # Cost for staying close to q0 at the beginning (first control point)\n",
    "    prog.AddQuadraticCost(\n",
    "        Q=np.eye(plant.num_positions()),\n",
    "        b=-2 * q0,\n",
    "        c=np.dot(q0, q0),\n",
    "        vars=control_points[:, 0]\n",
    "    )\n",
    "    \n",
    "    # Cost for staying close to q0 at the end (last control point)\n",
    "    prog.AddQuadraticCost(\n",
    "        Q=np.eye(plant.num_positions()),\n",
    "        b=-2 * q0,\n",
    "        c=np.dot(q0, q0),\n",
    "        vars=control_points[:, -1]\n",
    "    )"
   ]
  },
  {
   "cell_type": "code",
   "execution_count": 12,
   "metadata": {
    "cell_id": "893ca557f2084aa690fe0bc813ba7edb",
    "deepnote_cell_type": "code"
   },
   "outputs": [],
   "source": [
    "formulate_trajopt(trajopt, prog)"
   ]
  },
  {
   "cell_type": "markdown",
   "metadata": {
    "cell_id": "49d0bf85f799427ab327c7d4aa7a198f",
    "deepnote_cell_type": "markdown"
   },
   "source": [
    "### \"Karate chop\" formulation"
   ]
  },
  {
   "cell_type": "code",
   "execution_count": 13,
   "metadata": {
    "cell_id": "873d60e04e694881952324af7d7dd844",
    "deepnote_cell_type": "code"
   },
   "outputs": [],
   "source": [
    "def solve_prog(prog: MathematicalProgram) -> MathematicalProgramResult:\n",
    "    result = Solve(prog)\n",
    "    if not result.is_success():\n",
    "        print(\"Trajectory optimization failed!\")\n",
    "        print(result.get_solver_id().name())\n",
    "        if hasattr(result, \"get_constraint_violations\"):\n",
    "            violations = result.get_constraint_violations()\n",
    "            print(f\"Constraint violations: {violations}\")\n",
    "        print(f\"Solution result: {result.get_solution_result()}\")\n",
    "\n",
    "    return result\n",
    "\n",
    "\n",
    "result = solve_prog(prog)"
   ]
  },
  {
   "cell_type": "code",
   "execution_count": 14,
   "metadata": {
    "cell_id": "86ca8d062fc94ade933c48d76ece0047",
    "deepnote_cell_type": "code"
   },
   "outputs": [],
   "source": [
    "# This function will publish your trajectory on meshcat so you can see it\n",
    "def push_traj_to_meshcat(\n",
    "    traj: BsplineTrajectory,\n",
    "    plant: MultibodyPlant,\n",
    "    context: Context,\n",
    "    visualizer: MeshcatVisualizer,\n",
    ") -> None:\n",
    "    PublishPositionTrajectory(traj, context, plant, visualizer)\n",
    "    collision_visualizer.ForcedPublish(\n",
    "        collision_visualizer.GetMyContextFromRoot(context)\n",
    "    )"
   ]
  },
  {
   "cell_type": "markdown",
   "metadata": {
    "cell_id": "33b0bdbb3b1c44849f0c64736e6758ee",
    "deepnote_cell_type": "markdown"
   },
   "source": [
    "If your trajectory optimziation formulation is correct, the above solve will run. But what do you see in the visualizer?\n",
    "\n",
    "You'll see the \"karate chop\", where the Iiwa ignores collisions with its environment and takes a straight path to the goal beside the bottom shelf. This is because we haven't added collision constraints to our trajectory optimization problem yet. We'll do that next."
   ]
  },
  {
   "cell_type": "code",
   "execution_count": 15,
   "metadata": {
    "cell_id": "c94134479c954b318e0be3ee44087f82",
    "deepnote_cell_type": "code"
   },
   "outputs": [],
   "source": [
    "push_traj_to_meshcat(trajopt.ReconstructTrajectory(result), plant, context, visualizer)\n",
    "karate_chop_traj = trajopt.ReconstructTrajectory(result)"
   ]
  },
  {
   "cell_type": "markdown",
   "metadata": {
    "cell_id": "1e6d03bd9fc94107856f1cb413d67db1",
    "deepnote_cell_type": "markdown"
   },
   "source": [
    "### Collision constraint formulation\n",
    "\n",
    "With the addition of collision constraints, you'll this trajectory optimization fails to converge. If you visualize this trajectory on the Kuka Iiwa, you'll see a semi-reasonable trajectory is produced, but it does not strictly follow the constraints we established above."
   ]
  },
  {
   "cell_type": "code",
   "execution_count": 16,
   "metadata": {
    "cell_id": "b4f3bf4d3a2c449e8d35a976e994c1eb",
    "deepnote_cell_type": "code"
   },
   "outputs": [],
   "source": [
    "def add_collision_constraints(\n",
    "    trajopt: KinematicTrajectoryOptimization,\n",
    "    plant: MultibodyPlant,\n",
    "    plant_context: Context,\n",
    "    bound: float = 0.005,\n",
    "    influence_dist: float = 0.1,\n",
    ") -> None:\n",
    "    # Create a collision constraint using MinimumDistanceLowerBoundConstraint\n",
    "    collision_constraint = MinimumDistanceLowerBoundConstraint(\n",
    "        plant=plant,\n",
    "        bound=bound,\n",
    "        plant_context=plant_context,\n",
    "        influence_distance_offset=influence_dist\n",
    "    )\n",
    "\n",
    "    evaluate_at_s = np.linspace(0, 1, 25)  # discretize your path parameter s\n",
    "\n",
    "    # Add the collision constraint as a PathPositionConstraint along your discretization\n",
    "    for s in evaluate_at_s:\n",
    "        trajopt.AddPathPositionConstraint(collision_constraint, s=s)"
   ]
  },
  {
   "cell_type": "markdown",
   "metadata": {
    "cell_id": "fc10a17454c546728170256ac7f4f5cd",
    "deepnote_cell_type": "markdown"
   },
   "source": [
    "As you'll see, this solve will not converge. We'll explore how to fix that in the next section. Before moving on, consider, how might we point our solver in the right direction? What is our initial guess right now?"
   ]
  },
  {
   "cell_type": "code",
   "execution_count": 17,
   "metadata": {
    "cell_id": "74439887a00f4b468a61a6b8bc35aeab",
    "deepnote_cell_type": "code"
   },
   "outputs": [
    {
     "name": "stdout",
     "output_type": "stream",
     "text": [
      "Trajectory optimization failed!\n",
      "SNOPT\n",
      "Solution result: SolutionResult.kIterationLimit\n"
     ]
    }
   ],
   "source": [
    "# Now we add our intial guess, constraints, solve, and visualize the result\n",
    "trajopt.SetInitialGuess(karate_chop_traj)\n",
    "add_collision_constraints(trajopt, plant, plant_context)\n",
    "result = solve_prog(prog)\n",
    "push_traj_to_meshcat(trajopt.ReconstructTrajectory(result), plant, context, visualizer)"
   ]
  },
  {
   "cell_type": "markdown",
   "metadata": {
    "cell_id": "02880d5dae7946a2bcb3df56dc0a808b",
    "deepnote_cell_type": "markdown"
   },
   "source": [
    "### RRT initial guess formulation\n",
    "\n",
    "To find a solution that strictly satisfies our formulation, we need a better initial guess than the \"karate chop\". In the cell below, we provide a trajectory for this warmstart that generally moves the iiwa from the upper RH corner outside the shelf to the bottom LH corner outside the sehfl, but does so suboptimally. This sort of trajectory could be produced by an RRT solve, which (as we saw in class) oftentimes results in the constraint being satisfied, but with the suboptimal \"RRT dance\". Using it as an initial guess will bias our solver towards trajectories that don't collide with the shelves or objects, while smoothing out the inaccuracies of the coarse guess. "
   ]
  },
  {
   "cell_type": "code",
   "execution_count": 18,
   "metadata": {
    "cell_id": "08dc5d5edef64b9b8e49ceeb8f32fe39",
    "deepnote_cell_type": "code"
   },
   "outputs": [],
   "source": [
    "# Construct our RRT-like initial guess\n",
    "rrt_traj = np.array(\n",
    "    [\n",
    "        [\n",
    "            -7.45689077e-01,\n",
    "            6.37049031e-01,\n",
    "            7.83693744e-03,\n",
    "            -5.75270941e-01,\n",
    "            1.65994177e-01,\n",
    "            8.36982962e-01,\n",
    "            -5.02864623e-06,\n",
    "        ],\n",
    "        [\n",
    "            1.78124761e00,\n",
    "            -1.17381807e00,\n",
    "            -1.25543656e00,\n",
    "            -7.61433526e-01,\n",
    "            -4.40644608e-01,\n",
    "            7.56665825e-01,\n",
    "            -3.33635499e-08,\n",
    "        ],\n",
    "        [\n",
    "            -5.39334528e-01,\n",
    "            4.25779369e-01,\n",
    "            -3.37934459e-01,\n",
    "            -7.82920056e-01,\n",
    "            -1.62384447e-01,\n",
    "            1.02508682e00,\n",
    "            -6.23967215e-07,\n",
    "        ],\n",
    "        [\n",
    "            1.26694134e00,\n",
    "            -9.82648441e-01,\n",
    "            -1.36863303e00,\n",
    "            -1.47898807e00,\n",
    "            -1.64804135e00,\n",
    "            -4.96802200e-01,\n",
    "            -4.52591206e-07,\n",
    "        ],\n",
    "        [\n",
    "            -3.18591057e-01,\n",
    "            7.35840857e-03,\n",
    "            -3.16430919e-01,\n",
    "            -8.61990620e-01,\n",
    "            -1.76379301e-01,\n",
    "            1.29448226e00,\n",
    "            0.00000000e00,\n",
    "        ],\n",
    "        [\n",
    "            -3.18591057e-01,\n",
    "            7.35840857e-03,\n",
    "            -3.16430919e-01,\n",
    "            -8.61990620e-01,\n",
    "            -1.76379301e-01,\n",
    "            1.29448226e00,\n",
    "            0.00000000e00,\n",
    "        ],\n",
    "        [\n",
    "            -1.75861608e-01,\n",
    "            -1.26941659e-01,\n",
    "            -1.92395479e-01,\n",
    "            -9.15815426e-01,\n",
    "            -1.15402782e-01,\n",
    "            1.45028904e00,\n",
    "            0.00000000e00,\n",
    "        ],\n",
    "        [\n",
    "            -8.60034121e-02,\n",
    "            -1.81136292e-01,\n",
    "            -9.77674339e-02,\n",
    "            -8.67526177e-01,\n",
    "            -5.98366726e-02,\n",
    "            1.43741637e00,\n",
    "            0.00000000e00,\n",
    "        ],\n",
    "        [\n",
    "            8.63055646e-02,\n",
    "            1.43815437e-01,\n",
    "            7.35054974e-02,\n",
    "            -7.05844435e-01,\n",
    "            3.98104529e-02,\n",
    "            1.10015563e00,\n",
    "            0.00000000e00,\n",
    "        ],\n",
    "        [\n",
    "            2.78261972e-01,\n",
    "            2.59568266e-01,\n",
    "            2.00653598e-01,\n",
    "            -6.41343526e-01,\n",
    "            1.02444314e-01,\n",
    "            9.67662265e-01,\n",
    "            -5.84275288e-07,\n",
    "        ],\n",
    "        [\n",
    "            5.86803636e-01,\n",
    "            4.86779729e-01,\n",
    "            1.95594196e-01,\n",
    "            -4.74908330e-01,\n",
    "            1.03898852e-04,\n",
    "            7.05472718e-01,\n",
    "            -4.20908672e-06,\n",
    "        ],\n",
    "        [\n",
    "            8.25791815e-01,\n",
    "            7.44026062e-01,\n",
    "            -6.95064740e-02,\n",
    "            -5.64983331e-01,\n",
    "            -1.92809108e-01,\n",
    "            8.22901363e-01,\n",
    "            -2.10880759e-07,\n",
    "        ],\n",
    "        [\n",
    "            8.50372520e-01,\n",
    "            9.51203006e-01,\n",
    "            -1.33958217e-01,\n",
    "            -7.45635034e-01,\n",
    "            -2.50462773e-01,\n",
    "            9.57120899e-01,\n",
    "            6.69304817e-06,\n",
    "        ],\n",
    "        [\n",
    "            8.49834320e-01,\n",
    "            1.07646661e00,\n",
    "            -1.50533276e-01,\n",
    "            -7.42544742e-01,\n",
    "            -2.13626887e-01,\n",
    "            9.11104644e-01,\n",
    "            4.90654359e-07,\n",
    "        ],\n",
    "        [\n",
    "            8.46290031e-01,\n",
    "            1.05195103e00,\n",
    "            -1.13954237e-01,\n",
    "            -8.71740931e-01,\n",
    "            -2.39890686e-01,\n",
    "            1.02117671e00,\n",
    "            -1.39408976e-07,\n",
    "        ],\n",
    "    ]\n",
    ")\n",
    "\n",
    "# Cast it to a BSplineTrajectory type\n",
    "traj_warmstart = BsplineTrajectory(basis=trajopt.basis(), control_points=rrt_traj.T)"
   ]
  },
  {
   "cell_type": "code",
   "execution_count": 19,
   "metadata": {
    "cell_id": "0f0b7156dfa7461faf7fc5f3e4f3eee3",
    "deepnote_cell_type": "code"
   },
   "outputs": [],
   "source": [
    "# TODO: set the initial guess\n",
    "trajopt.SetInitialGuess(traj_warmstart)\n",
    "\n",
    "# Now we solve and visualize the result\n",
    "result = solve_prog(prog)\n",
    "push_traj_to_meshcat(trajopt.ReconstructTrajectory(result), plant, context, visualizer)"
   ]
  },
  {
   "cell_type": "markdown",
   "metadata": {
    "cell_id": "c8653e3fa3c04dee883ed8c65f88b3b4",
    "deepnote_cell_type": "markdown"
   },
   "source": [
    "## Verification\n",
    "\n",
    "Please take a video of your trajectory optimization solution and upload it to Gradescope. A succesful video will navigate from the red dot to the green dot around the outside of the shelf and not collide with any geometry in the environment."
   ]
  },
  {
   "cell_type": "markdown",
   "metadata": {},
   "source": []
  }
 ],
 "metadata": {
  "deepnote_notebook_id": "bb7e2d9455e04052ba7b0729fb127f45",
  "kernelspec": {
   "display_name": ".venv",
   "language": "python",
   "name": "python3"
  },
  "language_info": {
   "codemirror_mode": {
    "name": "ipython",
    "version": 3
   },
   "file_extension": ".py",
   "mimetype": "text/x-python",
   "name": "python",
   "nbconvert_exporter": "python",
   "pygments_lexer": "ipython3",
   "version": "3.12.3"
  }
 },
 "nbformat": "4",
 "nbformat_minor": "0"
}
