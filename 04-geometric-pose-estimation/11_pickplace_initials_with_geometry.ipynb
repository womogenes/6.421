{
 "cells": [
  {
   "cell_type": "markdown",
   "metadata": {
    "cell_id": "13ffe2772b78425a9e2f479a9c3084fe",
    "deepnote_cell_type": "markdown",
    "vscode": {
     "languageId": "plaintext"
    }
   },
   "source": [
    "# Pick And Place With Geometry\n",
    "\n",
    "In [Exercise 3.10](https://manipulation.csail.mit.edu/pick.html#section11), [Exercise 3.14](https://manipulation.csail.mit.edu/pick.html#section11), [Exercise 4.6](https://manipulation.csail.mit.edu/pose.html#exercises),  we designed various trajectories for the robot arm to follow, created a `DifferentialIKSystem`, used both pseudoinverse and optimization-based controllers to move the robot arm and used ICP to register point-clouds for object meshes from the scene cameras. In this notebook, we will combine these tools together to build an entire pick and place system based on the previous exercises that pick up your initials.\n",
    "\n",
    "*Learning Objectives:*\n",
    "Build an end to end system that  \n",
    "1. Sets up a scenario with arbitrary meshes\n",
    "2. Uses scene cameras and ICP to register the geometry of the objects\n",
    "3. Uses a Differential-IK controller to do pick and place.\n",
    "\n",
    "*What You'll Build:* An end to end pick and place system, featuring your intiials from Notebook 2. \n",
    "\n",
    "*Reference:* [Mustard Bottle Pick and Place](https://deepnote.com/workspace/Manipulation-ac8201a1-470a-4c77-afd0-2cc45bc229ff/project/cc6340f5-374e-449a-a195-839a3cedec4a/notebook/pose-c5a585e1a5fe4ebc8bc362c2a101857d)"
   ]
  },
  {
   "cell_type": "code",
   "execution_count": 1,
   "metadata": {
    "cell_id": "bc3fe72d7476403e8eb2ad565b291b95",
    "deepnote_cell_type": "code"
   },
   "outputs": [
    {
     "name": "stderr",
     "output_type": "stream",
     "text": [
      "/usr/local/lib/python3.12/dist-packages/matplotlib/projections/__init__.py:63: UserWarning: Unable to import Axes3D. This may be due to multiple versions of Matplotlib being installed (e.g. as a system package and as a pip package). As a result, the 3D projection is not available.\n",
      "  warnings.warn(\"Unable to import Axes3D. This may be due to multiple versions of \"\n"
     ]
    }
   ],
   "source": [
    "import os\n",
    "from pathlib import Path\n",
    "\n",
    "import matplotlib.pyplot as plt\n",
    "import numpy as np\n",
    "import trimesh\n",
    "from pydrake.all import (\n",
    "    AddFrameTriadIllustration,\n",
    "    BasicVector,\n",
    "    Concatenate,\n",
    "    Context,\n",
    "    Diagram,\n",
    "    DiagramBuilder,\n",
    "    Integrator,\n",
    "    JacobianWrtVariable,\n",
    "    LeafSystem,\n",
    "    MultibodyPlant,\n",
    "    PiecewisePolynomial,\n",
    "    PiecewisePose,\n",
    "    PointCloud,\n",
    "    Rgba,\n",
    "    RigidTransform,\n",
    "    RobotDiagram,\n",
    "    RollPitchYaw,\n",
    "    RotationMatrix,\n",
    "    Simulator,\n",
    "    StartMeshcat,\n",
    "    Trajectory,\n",
    "    TrajectorySource,\n",
    ")\n",
    "\n",
    "from manipulation import running_as_notebook\n",
    "from manipulation.exercises.grader import Grader\n",
    "from manipulation.icp import IterativeClosestPoint\n",
    "from manipulation.letter_generation import create_sdf_asset_from_letter\n",
    "from manipulation.meshcat_utils import AddMeshcatTriad\n",
    "from manipulation.station import (\n",
    "    AddPointClouds,\n",
    "    LoadScenario,\n",
    "    MakeHardwareStation,\n",
    "    RobotDiagram,\n",
    ")\n",
    "from manipulation.utils import RenderDiagram"
   ]
  },
  {
   "cell_type": "markdown",
   "metadata": {
    "cell_id": "51d0141c5d28419e8bfeea3bc77118be",
    "deepnote_cell_type": "markdown"
   },
   "source": [
    "# Meshcat Visualization\n",
    "\n",
    "As always, we begin by starting Meshcat."
   ]
  },
  {
   "cell_type": "code",
   "execution_count": 2,
   "metadata": {
    "cell_id": "91f71b5e5f0948d990cd7eff659b1822",
    "deepnote_cell_type": "code"
   },
   "outputs": [
    {
     "name": "stderr",
     "output_type": "stream",
     "text": [
      "INFO:drake:Meshcat listening for connections at http://localhost:7000\n"
     ]
    },
    {
     "name": "stdout",
     "output_type": "stream",
     "text": [
      "Click the link above to open Meshcat in your browser!\n"
     ]
    }
   ],
   "source": [
    "# Start meshcat for visualization\n",
    "meshcat = StartMeshcat()\n",
    "print(\"Click the link above to open Meshcat in your browser!\")"
   ]
  },
  {
   "cell_type": "markdown",
   "metadata": {
    "cell_id": "920536a1b7a44d9b99e42f0fc84e6a39",
    "deepnote_cell_type": "markdown"
   },
   "source": [
    "# Part 1: Setting Up the Scenario\n",
    "\n",
    "In [Exercise 1.4](https://manipulation.csail.mit.edu/intro.html#section7) from chapter 1 you created a scenario file for custom objects and used the `MakeHardwareStation` function and `LoadScenario` functions to create a simulation with your initials.\n",
    "\n",
    "In this section, we'll repeat that setup so we can get started with our simulation. Unlike in that notebook, however, this time we will also add a set of scene cameras so we can also sense object locations. We'll make use of the `LoadScenario` function which will abstract away setting up the systems for all the cameras and the driver logic. In this section, we'll add onto this and create a more complicated scenario using all of the different types of functionalities of a scenario:\n",
    "* Directives for all the robot arms, tables, and cameras\n",
    "* Model drivers for all the robot arms so they can actually be actuated\n",
    "* Cameras with corresponding configs. \n",
    "\n",
    "Because our simulation now consists of a lot of moving parts including the directives for both the robot arms and cameras, we will modularize the components into two parts: the directives and drivers/cameras. Then, simply running `LoadScenario` to get a `Scenario` config object and then running `MakeHardwareStation` will generate all the necessary systems for all the cameras which will allow us to generate the necessary point cloud geometry. \n",
    "\n",
    "First, we generate the initials and table assets again. For simplicity, in this notebook we will ask that you only generate one of your initials. In order to use the depth camera sensors to get the point clouds, we need to make sure our meshes also have all the normal information added (in real life all of this information is just available in the scene but in simulation these are properties that must be made available). Fortunately, this can be done by simply adding the`include_normal=True` argument to the original `create_sdf_assets_from_letter` function. Let's do that below:\n",
    "\n",
    "**YOUR TASK**: Regenerate the letters with normals, create a station with the robot, cameras, and depth sensors, and add the corresponding systems.\n",
    "\n",
    "**Key Concepts**: Using directives to append scenarios and adding point clouds to the system with `AddPointClouds` and `DepthImageToPointClouds`."
   ]
  },
  {
   "cell_type": "code",
   "execution_count": 3,
   "metadata": {
    "cell_id": "06e8755a228a458a88a631b549a63073",
    "deepnote_cell_type": "code"
   },
   "outputs": [
    {
     "data": {
      "text/plain": [
       "PosixPath('assets/F_model/F.sdf')"
      ]
     },
     "execution_count": 3,
     "metadata": {},
     "output_type": "execute_result"
    }
   ],
   "source": [
    "# A note: as an additional argument add `include_normals=True` to the `create_sdf_asset_from_letter` function.\n",
    "# We also recommend you use a slightly smaller `letter_height_meters=0.15` and a rather high friction coefficient\n",
    "# (we use mu_static = 1.17, mu_dynamic = 1.0 - roughly equal to the friction of rubber on granite) to make the\n",
    "# letters easier to pick up. We'll study more complicated grasping strategies in future notebooks, but this is not\n",
    "# the priority of this chapter so we'll cheat.\n",
    "\n",
    "output_dir = Path(\"assets/\")\n",
    "\n",
    "# TODO: replace ADD_YOUR_INITIAL_HERE with your initial.\n",
    "your_initial = \"F\"\n",
    "\n",
    "# TODO: generate the SDF file for your intial.\n",
    "create_sdf_asset_from_letter(\n",
    "    text=your_initial,\n",
    "    font_name=\"DejaVu Sans\",\n",
    "    letter_height_meters=0.15,\n",
    "    extrusion_depth_meters=0.04,\n",
    "    output_dir=output_dir / f\"{your_initial}_model\",\n",
    "    use_bbox_collision_geometry=True,\n",
    "    mass=0.1,\n",
    "    include_normals=True,\n",
    "    mu_static=1.17,\n",
    "    mu_dynamic=1.0,\n",
    ")"
   ]
  },
  {
   "cell_type": "code",
   "execution_count": 4,
   "metadata": {
    "cell_id": "e1f45d9d225c4df0adfc3ff8bc516341",
    "deepnote_cell_type": "code"
   },
   "outputs": [],
   "source": [
    "# TODO: Paste your table_sdf = ... code from Exercise 1.4 here\n",
    "table_sdf = \"\"\"<?xml version=\"1.0\"?>\n",
    "<sdf version=\"1.7\">\n",
    "  <model name=\"table\">\n",
    "    <pose>0 0 0 0 0 0</pose>\n",
    "    <link name=\"table_link\">\n",
    "      <inertial>\n",
    "        <mass>20</mass>\n",
    "        <inertia>\n",
    "          <ixx>1.0</ixx>\n",
    "          <ixy>0.0</ixy>\n",
    "          <ixz>0.0</ixz>\n",
    "          <iyy>1.0</iyy>\n",
    "          <iyz>0.0</iyz>\n",
    "          <izz>1.0</izz>\n",
    "        </inertia>\n",
    "      </inertial>\n",
    "      <collision name=\"box_collision\">\n",
    "        <geometry>\n",
    "          <box>\n",
    "            <size>2 2 0.1</size>\n",
    "          </box>\n",
    "        </geometry>\n",
    "      </collision>\n",
    "      <visual name=\"box_visual\">\n",
    "        <geometry>\n",
    "          <box>\n",
    "            <size>2 2 0.1</size>\n",
    "          </box>\n",
    "        </geometry>\n",
    "      </visual>\n",
    "    </link>\n",
    "  </model>\n",
    "</sdf>\n",
    "\"\"\"\n",
    "\n",
    "# TODO: Write the table SDF to assets/table.sdf\n",
    "os.makedirs(\"assets\", exist_ok=True)\n",
    "with open(\"assets/table.sdf\", \"w\") as fout:\n",
    "    fout.write(table_sdf)"
   ]
  },
  {
   "cell_type": "markdown",
   "metadata": {
    "cell_id": "d2e6a6e178ad4b478c25eb482b97a7c5",
    "deepnote_cell_type": "markdown"
   },
   "source": [
    "We'll now create a scenario with a Kuka IIWA arm, a table, and your initials along with a set of scene cameras. Because our scenario is becoming quite big, we'll first split up the scenario directives. We'll then load the directives and include the scene cameras and the drivers later in the scenario. As a reference, look at this [example](https://github.com/RussTedrake/manipulation/blob/3b74947270c02c7202cc33197d1e41d2cf34dea0/manipulation/models/clutter.scenarios.yaml) scenario file for an example of how to do so.\n",
    "\n",
    "Once we have the correct scenario file, we can simply run `LoadScenario` and this will generate all of the camera systems. Unlike in [Exercise 3.14](https://manipulation.csail.mit.edu/pick.html#section11), we recommend adding around 3 scene cameras (the default settings in the example should work), but feel free to play around with the exact geometry of the cameras. \n",
    "\n",
    "Also, play around a bit with the exact starting position (the `X_PC` of the `iiwa_link_0` relative to the world frame). Make it start in a reasonable position relative to the letters, although it doesn't have to be perfect as we use now use geometric sensing."
   ]
  },
  {
   "cell_type": "code",
   "execution_count": 5,
   "metadata": {
    "cell_id": "d96095119fd54aa29d76f4b17d0cade8",
    "deepnote_cell_type": "code"
   },
   "outputs": [],
   "source": [
    "# Add the directives for the bimanual IIWA arms, table, and initials\n",
    "def generate_bimanual_IIWA14_with_assets_directives_file() -> (\n",
    "    tuple[Diagram, RobotDiagram]\n",
    "):\n",
    "    table_sdf = f\"{Path.cwd()}/assets/table.sdf\"\n",
    "    letter_sdf = f\"{Path.cwd()}/assets/{your_initial}_model/{your_initial}.sdf\"\n",
    "\n",
    "    directives_yaml = f\"\"\"directives:\n",
    "- add_model:\n",
    "    name: iiwa\n",
    "    file: package://drake_models/iiwa_description/sdf/iiwa7_no_collision.sdf\n",
    "    default_joint_positions:\n",
    "        iiwa_joint_1: [-1.57]\n",
    "        iiwa_joint_2: [0.1]\n",
    "        iiwa_joint_3: [0]\n",
    "        iiwa_joint_4: [-1.2]\n",
    "        iiwa_joint_5: [0]\n",
    "        iiwa_joint_6: [ 1.6]\n",
    "        iiwa_joint_7: [0]\n",
    "- add_weld:\n",
    "    parent: world\n",
    "    child: iiwa::iiwa_link_0\n",
    "    X_PC:\n",
    "        translation: [0, -0.5, 0]\n",
    "        rotation: !Rpy {{ deg: [0, 0, 180] }}\n",
    "- add_model:\n",
    "    name: wsg\n",
    "    file: package://manipulation/hydro/schunk_wsg_50_with_tip.sdf\n",
    "- add_weld:\n",
    "    parent: iiwa::iiwa_link_7\n",
    "    child: wsg::body\n",
    "    X_PC:\n",
    "        translation: [0, 0, 0.09]\n",
    "        rotation: !Rpy {{ deg: [90, 0, 90]}}\n",
    "- add_model:\n",
    "    name: table\n",
    "    file: file://{table_sdf}\n",
    "- add_weld:\n",
    "    parent: world\n",
    "    child: table::table_link\n",
    "    X_PC:\n",
    "        translation: [0.0, 0.0, -0.05]\n",
    "        rotation: !Rpy {{ deg: [0, 0, -90] }}\n",
    "- add_model:\n",
    "    name: {your_initial}_letter\n",
    "    file: file://{letter_sdf}\n",
    "    default_free_body_pose:\n",
    "        {your_initial}_body_link:\n",
    "            translation: [-0.35, 0, 0]\n",
    "            rotation: !Rpy {{ deg: [0, 0, 0] }}\n",
    "\"\"\"\n",
    "    os.makedirs(\"directives\", exist_ok=True)\n",
    "\n",
    "    with open(\n",
    "        \"directives/bimanual_IIWA14_with_table_and_initials_and_assets.dmd.yaml\", \"w\"\n",
    "    ) as f:\n",
    "        f.write(directives_yaml)\n",
    "\n",
    "\n",
    "generate_bimanual_IIWA14_with_assets_directives_file()"
   ]
  },
  {
   "cell_type": "markdown",
   "metadata": {
    "cell_id": "f95e4f45c4444e71b5a78b31a8d1869b",
    "deepnote_cell_type": "markdown"
   },
   "source": [
    "We'll now add the camera directives into a seperate directive and then append them into a single scenario."
   ]
  },
  {
   "cell_type": "code",
   "execution_count": 6,
   "metadata": {
    "cell_id": "e1595881971640e9b286657c37059ab7",
    "deepnote_cell_type": "code"
   },
   "outputs": [],
   "source": [
    "def create_camera_directives() -> None:\n",
    "    camera_directives_yaml = \"\"\"\n",
    "directives:\n",
    "- add_frame:\n",
    "    name: camera0_origin\n",
    "    X_PF:\n",
    "        base_frame: world\n",
    "        rotation: !Rpy { deg: [-120.0, 0.0, 180.0]}\n",
    "        translation: [0, 0.8, 0.5]\n",
    "\n",
    "- add_model:\n",
    "    name: camera0\n",
    "    file: package://manipulation/camera_box.sdf\n",
    "\n",
    "- add_weld:\n",
    "    parent: camera0_origin\n",
    "    child: camera0::base\n",
    "\n",
    "- add_frame:\n",
    "    name: camera1_origin\n",
    "    X_PF:\n",
    "        base_frame: world\n",
    "        rotation: !Rpy { deg: [-125, 0.0, 90.0]}\n",
    "        translation: [0.8, 0.1, 0.5]\n",
    "\n",
    "- add_model:\n",
    "    name: camera1\n",
    "    file: package://manipulation/camera_box.sdf\n",
    "\n",
    "- add_weld:\n",
    "    parent: camera1_origin\n",
    "    child: camera1::base\n",
    "\n",
    "- add_frame:\n",
    "    name: camera2_origin\n",
    "    X_PF:\n",
    "        base_frame: world\n",
    "        rotation: !Rpy { deg: [-120.0, 0.0, -90.0]}\n",
    "        translation: [-0.8, 0.1, 0.5]\n",
    "\n",
    "- add_model:\n",
    "    name: camera2\n",
    "    file: package://manipulation/camera_box.sdf\n",
    "\n",
    "- add_weld:\n",
    "    parent: camera2_origin\n",
    "    child: camera2::base\n",
    "\"\"\"\n",
    "    with open(\"directives/camera_directives.dmd.yaml\", \"w\") as f:\n",
    "        f.write(camera_directives_yaml)\n",
    "\n",
    "\n",
    "create_camera_directives()"
   ]
  },
  {
   "cell_type": "markdown",
   "metadata": {
    "cell_id": "b6a801e2ad264ecebaaa5bf0b5bfe064",
    "deepnote_cell_type": "markdown"
   },
   "source": [
    "Next, we'll combine the directives, camera configs, and drivers into a single scenario file. Look back at the [clutter scenario](https://github.com/RussTedrake/manipulation/blob/3b74947270c02c7202cc33197d1e41d2cf34dea0/manipulation/models/clutter.scenarios.yaml) example to see how to do this."
   ]
  },
  {
   "cell_type": "code",
   "execution_count": null,
   "metadata": {
    "cell_id": "1261d3f197a140dfbccf93bf38c11424",
    "deepnote_cell_type": "code"
   },
   "outputs": [],
   "source": [
    "def create_bimanual_IIWA14_with_assets_and_cameras_scenario() -> None:\n",
    "    # TODO: create a scenario yaml with the directives added with `add_directives`\n",
    "    iiwa_table_assets_path = os.path.abspath(\"directives/bimanual_IIWA14_with_table_and_initials_and_assets.dmd.yaml\")\n",
    "    camera_directives_path = os.path.abspath(\"directives/camera_directives.dmd.yaml\")\n",
    "\n",
    "    scenario_yaml = f\"\"\"directives:\n",
    "    - add_directives:\n",
    "        file: file://{iiwa_table_assets_path}\n",
    "    - add_directives:\n",
    "        file: file://{camera_directives_path}\n",
    "\n",
    "cameras:\n",
    "    camera0:\n",
    "        name: camera0\n",
    "        depth: True\n",
    "        X_PB:\n",
    "            base_frame: camera0::base\n",
    "    camera1:\n",
    "        name: camera1\n",
    "        depth: True\n",
    "        X_PB:\n",
    "            base_frame: camera1::base\n",
    "    camera2:\n",
    "        name: camera2\n",
    "        depth: True\n",
    "        X_PB:\n",
    "            base_frame: camera2::base\n",
    "\n",
    "model_drivers:\n",
    "    iiwa: !IiwaDriver\n",
    "        control_mode: position_only\n",
    "        hand_model_name: wsg\n",
    "    wsg: !SchunkWsgDriver {{}}\n",
    "\"\"\"\n",
    "\n",
    "    os.makedirs(\"scenarios\", exist_ok=True)\n",
    "    with open(\n",
    "        \"scenarios/bimanual_IIWA14_with_table_and_initials_and_assets_and_cameras.scenario.yaml\",\n",
    "        \"w\",\n",
    "    ) as f:\n",
    "        f.write(scenario_yaml)\n",
    "\n",
    "create_bimanual_IIWA14_with_assets_and_cameras_scenario()"
   ]
  },
  {
   "cell_type": "markdown",
   "metadata": {
    "cell_id": "59237e59135e4e4483a6e7fceb41d5a8",
    "deepnote_cell_type": "markdown"
   },
   "source": [
    "Now that we have the scenario file, we'll load it up into a DiagramBuilder using `MakeHardwareStation`. In order to get the point clouds for the meshes we will need to add the neccesary systems to the diagram. As in [Exercise 4.9](https://manipulation.csail.mit.edu/pose.html#exercises), we make use of the `AddPointClouds`function in `manipulation.station` which under the hood adds a `DepthImageToPointCloud` system to each camera (and connects it to the corresponding ports) in order to extract the corresponding point clouds. We will then need to export the output ports for this system to the output of the diagram allowing for these point clouds to be accesed for when we do ICP later."
   ]
  },
  {
   "cell_type": "code",
   "execution_count": 8,
   "metadata": {
    "cell_id": "8a655c76c70f4349918301aa59a2e8a5",
    "deepnote_cell_type": "code"
   },
   "outputs": [],
   "source": [
    "def create_bimanual_IIWA14_with_table_and_initials_and_assets_and_cameras() -> (\n",
    "    tuple[DiagramBuilder, RobotDiagram]\n",
    "):\n",
    "    # TODO: Load the scenario created above into a Scenario object\n",
    "    scenario = LoadScenario(filename=\"scenarios/bimanual_IIWA14_with_table_and_initials_and_assets_and_cameras.scenario.yaml\")\n",
    "\n",
    "    # TODO: Create HardwareStation with the scenario and meshcat\n",
    "    station = MakeHardwareStation(scenario, meshcat)\n",
    "\n",
    "    # TODO: Make a DiagramBuilder, add the station, and build the diagram\n",
    "    builder = DiagramBuilder()\n",
    "    builder.AddSystem(station)\n",
    "\n",
    "    # TODO: Add the point clouds to the diagram with AddPointClouds\n",
    "    point_clouds = AddPointClouds(scenario=scenario, builder=builder, station=station)\n",
    "    print(f\"{point_clouds=}\")\n",
    "\n",
    "    # TODO: export the point cloud outputs to the builder\n",
    "    for camera_name, point_cloud_system in point_clouds.items():\n",
    "        builder.ExportOutput(\n",
    "            point_cloud_system.GetOutputPort(\"point_cloud\"),\n",
    "            f\"{camera_name}_point_cloud\"\n",
    "        )\n",
    "\n",
    "    # TODO: Return the builder AND the station (notice that here we will need both)\n",
    "    return builder, station"
   ]
  },
  {
   "cell_type": "markdown",
   "metadata": {
    "cell_id": "fecc0c1f04d84761bd1d60e75fc5e9f8",
    "deepnote_cell_type": "markdown"
   },
   "source": [
    "Great! We now have a scenario with our robot, assets, and the cameras. Build them up and render a diagram fromo the builder below to check for any errors:"
   ]
  },
  {
   "cell_type": "code",
   "execution_count": 10,
   "metadata": {
    "cell_id": "617867ad6df0483b8c220d795b95a3c3",
    "deepnote_cell_type": "code"
   },
   "outputs": [
    {
     "name": "stderr",
     "output_type": "stream",
     "text": [
      "WARNING:drake:Drake materials have been assigned to a glTF file. glTF defines its own materials, so post hoc materials will be ignored and should be removed from the model specification. glTF file: '/root/.cache/drake/package_map/719c542a6323d5a8cc74fe6da84f305aebc6d7810b84cb94023d80f78e06586b-6e8a5cbbb49ceed5e2ae3a392577ca12bd01fd5983dc56151cb5fa7d55d27ed8/wsg_50_description/meshes/wsg_body.gltf'\n",
      "WARNING:drake:Drake materials have been assigned to a glTF file. glTF defines its own materials, so post hoc materials will be ignored and should be removed from the model specification. glTF file: '/root/.cache/drake/package_map/719c542a6323d5a8cc74fe6da84f305aebc6d7810b84cb94023d80f78e06586b-6e8a5cbbb49ceed5e2ae3a392577ca12bd01fd5983dc56151cb5fa7d55d27ed8/wsg_50_description/meshes/finger_with_tip.gltf'\n",
      "WARNING:drake:Drake materials have been assigned to a glTF file. glTF defines its own materials, so post hoc materials will be ignored and should be removed from the model specification. glTF file: '/root/.cache/drake/package_map/719c542a6323d5a8cc74fe6da84f305aebc6d7810b84cb94023d80f78e06586b-6e8a5cbbb49ceed5e2ae3a392577ca12bd01fd5983dc56151cb5fa7d55d27ed8/wsg_50_description/meshes/finger_with_tip.gltf'\n"
     ]
    },
    {
     "name": "stdout",
     "output_type": "stream",
     "text": [
      "point_clouds={'camera0': <pydrake.perception.DepthImageToPointCloud object at 0x7efb918dc8f0>, 'camera1': <pydrake.perception.DepthImageToPointCloud object at 0x7efb91940d10>, 'camera2': <pydrake.perception.DepthImageToPointCloud object at 0x7efb91940fb0>}\n"
     ]
    },
    {
     "data": {
      "image/svg+xml": [
       "<svg xmlns=\"http://www.w3.org/2000/svg\" xmlns:xlink=\"http://www.w3.org/1999/xlink\" width=\"1436pt\" height=\"1537pt\" viewBox=\"0.00 0.00 1436.00 1537.00\">\n",
       "<g id=\"graph0\" class=\"graph\" transform=\"scale(1 1) rotate(0) translate(4 1533)\">\n",
       "<title>_219</title>\n",
       "<polygon fill=\"white\" stroke=\"transparent\" points=\"-4,4 -4,-1533 1432,-1533 1432,4 -4,4\"/>\n",
       "<g id=\"clust1\" class=\"cluster\">\n",
       "<title>cluster219diagram</title>\n",
       "<polygon fill=\"none\" stroke=\"black\" points=\"8,-8 8,-1521 1420,-1521 1420,-8 8,-8\"/>\n",
       "<text text-anchor=\"start\" x=\"680\" y=\"-1502.3\" font-family=\"Times,serif\" font-weight=\"bold\" font-size=\"14.00\">Diagram</text>\n",
       "</g>\n",
       "<g id=\"clust2\" class=\"cluster\">\n",
       "<title>clusters219out</title>\n",
       "<polygon fill=\"lightgrey\" stroke=\"lightgrey\" points=\"1217,-1022 1217,-1145 1412,-1145 1412,-1022 1217,-1022\"/>\n",
       "<text text-anchor=\"middle\" x=\"1314.5\" y=\"-1129.8\" font-family=\"Times,serif\" font-size=\"14.00\">output ports</text>\n",
       "</g>\n",
       "<g id=\"clust3\" class=\"cluster\">\n",
       "<title>cluster219subsystems</title>\n",
       "<polygon fill=\"none\" stroke=\"white\" points=\"16,-16 16,-1482 1197,-1482 1197,-16 16,-16\"/>\n",
       "</g>\n",
       "<!-- s219out -->\n",
       "<g id=\"node1\" class=\"node\">\n",
       "<title>s219out</title>\n",
       "<polygon fill=\"none\" stroke=\"green\" points=\"1236.5,-1085 1236.5,-1106 1393.5,-1106 1393.5,-1085 1236.5,-1085\"/>\n",
       "<text text-anchor=\"start\" x=\"1239.5\" y=\"-1091.8\" font-family=\"Times,serif\" font-size=\"14.00\">camera0_point_cloud</text>\n",
       "<polygon fill=\"none\" stroke=\"green\" points=\"1236.5,-1061 1236.5,-1082 1393.5,-1082 1393.5,-1061 1236.5,-1061\"/>\n",
       "<text text-anchor=\"start\" x=\"1239.5\" y=\"-1067.8\" font-family=\"Times,serif\" font-size=\"14.00\">camera1_point_cloud</text>\n",
       "<polygon fill=\"none\" stroke=\"green\" points=\"1236.5,-1037 1236.5,-1058 1393.5,-1058 1393.5,-1037 1236.5,-1037\"/>\n",
       "<text text-anchor=\"start\" x=\"1239.5\" y=\"-1043.8\" font-family=\"Times,serif\" font-size=\"14.00\">camera2_point_cloud</text>\n",
       "</g>\n",
       "<!-- s200 -->\n",
       "<g id=\"node2\" class=\"node\">\n",
       "<title>s200</title>\n",
       "<polygon fill=\"none\" stroke=\"black\" points=\"32,-1435 32,-1469 588,-1469 588,-1435 32,-1435\"/>\n",
       "<text text-anchor=\"start\" x=\"252.5\" y=\"-1455.8\" font-family=\"Times,serif\" font-weight=\"bold\" font-size=\"14.00\">RobotDiagram</text>\n",
       "<text text-anchor=\"start\" x=\"259.5\" y=\"-1441.8\" font-family=\"Times,serif\" font-size=\"14.00\">name=station</text>\n",
       "<polygon fill=\"none\" stroke=\"black\" points=\"32,-1414 32,-1435 224,-1435 224,-1414 32,-1414\"/>\n",
       "<text text-anchor=\"start\" x=\"82.5\" y=\"-1420.8\" font-family=\"Times,serif\" font-size=\"14.00\">iiwa.position</text>\n",
       "<polygon fill=\"none\" stroke=\"black\" points=\"224,-1414 224,-1435 588,-1435 588,-1414 224,-1414\"/>\n",
       "<text text-anchor=\"start\" x=\"314.5\" y=\"-1420.8\" font-family=\"Times,serif\" font-size=\"14.00\">iiwa.velocity_commanded</text>\n",
       "<polygon fill=\"none\" stroke=\"black\" points=\"32,-1393 32,-1414 224,-1414 224,-1393 32,-1393\"/>\n",
       "<text text-anchor=\"start\" x=\"82.5\" y=\"-1399.8\" font-family=\"Times,serif\" font-size=\"14.00\">wsg.position</text>\n",
       "<polygon fill=\"none\" stroke=\"black\" points=\"224,-1393 224,-1414 588,-1414 588,-1393 224,-1393\"/>\n",
       "<text text-anchor=\"start\" x=\"355.5\" y=\"-1399.8\" font-family=\"Times,serif\" font-size=\"14.00\">iiwa.actuation</text>\n",
       "<polygon fill=\"none\" stroke=\"black\" points=\"32,-1372 32,-1393 224,-1393 224,-1372 32,-1372\"/>\n",
       "<text text-anchor=\"start\" x=\"73.5\" y=\"-1378.8\" font-family=\"Times,serif\" font-size=\"14.00\">wsg.force_limit</text>\n",
       "<polygon fill=\"none\" stroke=\"black\" points=\"224,-1372 224,-1393 588,-1393 588,-1372 224,-1372\"/>\n",
       "<text text-anchor=\"start\" x=\"314\" y=\"-1378.8\" font-family=\"Times,serif\" font-size=\"14.00\">iiwa.position_commanded</text>\n",
       "<polygon fill=\"none\" stroke=\"black\" points=\"32,-1351 32,-1372 224,-1372 224,-1351 32,-1351\"/>\n",
       "<text text-anchor=\"start\" x=\"35\" y=\"-1357.8\" font-family=\"Times,serif\" font-size=\"14.00\">applied_generalized_force</text>\n",
       "<polygon fill=\"none\" stroke=\"black\" points=\"224,-1351 224,-1372 588,-1372 588,-1351 224,-1351\"/>\n",
       "<text text-anchor=\"start\" x=\"321.5\" y=\"-1357.8\" font-family=\"Times,serif\" font-size=\"14.00\">iiwa.position_measured</text>\n",
       "<polygon fill=\"none\" stroke=\"black\" points=\"32,-1330 32,-1351 224,-1351 224,-1330 32,-1330\"/>\n",
       "<text text-anchor=\"start\" x=\"52.5\" y=\"-1336.8\" font-family=\"Times,serif\" font-size=\"14.00\">applied_spatial_force</text>\n",
       "<polygon fill=\"none\" stroke=\"black\" points=\"224,-1330 224,-1351 588,-1351 588,-1330 224,-1330\"/>\n",
       "<text text-anchor=\"start\" x=\"322\" y=\"-1336.8\" font-family=\"Times,serif\" font-size=\"14.00\">iiwa.velocity_estimated</text>\n",
       "<polyline fill=\"none\" stroke=\"grey\" points=\"32,-1330 32,-28 224,-28 \"/>\n",
       "<polygon fill=\"none\" stroke=\"black\" points=\"224,-1309 224,-1330 588,-1330 588,-1309 224,-1309\"/>\n",
       "<text text-anchor=\"start\" x=\"332\" y=\"-1315.8\" font-family=\"Times,serif\" font-size=\"14.00\">iiwa.state_estimated</text>\n",
       "<polygon fill=\"none\" stroke=\"black\" points=\"224,-1288 224,-1309 588,-1309 588,-1288 224,-1288\"/>\n",
       "<text text-anchor=\"start\" x=\"318.5\" y=\"-1294.8\" font-family=\"Times,serif\" font-size=\"14.00\">iiwa.torque_commanded</text>\n",
       "<polygon fill=\"none\" stroke=\"black\" points=\"224,-1267 224,-1288 588,-1288 588,-1267 224,-1267\"/>\n",
       "<text text-anchor=\"start\" x=\"326.5\" y=\"-1273.8\" font-family=\"Times,serif\" font-size=\"14.00\">iiwa.torque_measured</text>\n",
       "<polygon fill=\"none\" stroke=\"black\" points=\"224,-1246 224,-1267 588,-1267 588,-1246 224,-1246\"/>\n",
       "<text text-anchor=\"start\" x=\"332\" y=\"-1252.8\" font-family=\"Times,serif\" font-size=\"14.00\">iiwa.torque_external</text>\n",
       "<polygon fill=\"none\" stroke=\"black\" points=\"224,-1225 224,-1246 588,-1246 588,-1225 224,-1225\"/>\n",
       "<text text-anchor=\"start\" x=\"332.5\" y=\"-1231.8\" font-family=\"Times,serif\" font-size=\"14.00\">wsg.state_measured</text>\n",
       "<polygon fill=\"none\" stroke=\"black\" points=\"224,-1204 224,-1225 588,-1225 588,-1204 224,-1204\"/>\n",
       "<text text-anchor=\"start\" x=\"332.5\" y=\"-1210.8\" font-family=\"Times,serif\" font-size=\"14.00\">wsg.force_measured</text>\n",
       "<polygon fill=\"none\" stroke=\"black\" points=\"224,-1183 224,-1204 588,-1204 588,-1183 224,-1183\"/>\n",
       "<text text-anchor=\"start\" x=\"335\" y=\"-1189.8\" font-family=\"Times,serif\" font-size=\"14.00\">camera0.rgb_image</text>\n",
       "<polygon fill=\"none\" stroke=\"black\" points=\"224,-1162 224,-1183 588,-1183 588,-1162 224,-1162\"/>\n",
       "<text text-anchor=\"start\" x=\"327\" y=\"-1168.8\" font-family=\"Times,serif\" font-size=\"14.00\">camera0.depth_image</text>\n",
       "<polygon fill=\"none\" stroke=\"black\" points=\"224,-1141 224,-1162 588,-1162 588,-1141 224,-1141\"/>\n",
       "<text text-anchor=\"start\" x=\"330.5\" y=\"-1147.8\" font-family=\"Times,serif\" font-size=\"14.00\">camera0.label_image</text>\n",
       "<polygon fill=\"none\" stroke=\"black\" points=\"224,-1120 224,-1141 588,-1141 588,-1120 224,-1120\"/>\n",
       "<text text-anchor=\"start\" x=\"335\" y=\"-1126.8\" font-family=\"Times,serif\" font-size=\"14.00\">camera1.rgb_image</text>\n",
       "<polygon fill=\"none\" stroke=\"black\" points=\"224,-1099 224,-1120 588,-1120 588,-1099 224,-1099\"/>\n",
       "<text text-anchor=\"start\" x=\"327\" y=\"-1105.8\" font-family=\"Times,serif\" font-size=\"14.00\">camera1.depth_image</text>\n",
       "<polygon fill=\"none\" stroke=\"black\" points=\"224,-1078 224,-1099 588,-1099 588,-1078 224,-1078\"/>\n",
       "<text text-anchor=\"start\" x=\"330.5\" y=\"-1084.8\" font-family=\"Times,serif\" font-size=\"14.00\">camera1.label_image</text>\n",
       "<polygon fill=\"none\" stroke=\"black\" points=\"224,-1057 224,-1078 588,-1078 588,-1057 224,-1057\"/>\n",
       "<text text-anchor=\"start\" x=\"335\" y=\"-1063.8\" font-family=\"Times,serif\" font-size=\"14.00\">camera2.rgb_image</text>\n",
       "<polygon fill=\"none\" stroke=\"black\" points=\"224,-1036 224,-1057 588,-1057 588,-1036 224,-1036\"/>\n",
       "<text text-anchor=\"start\" x=\"327\" y=\"-1042.8\" font-family=\"Times,serif\" font-size=\"14.00\">camera2.depth_image</text>\n",
       "<polygon fill=\"none\" stroke=\"black\" points=\"224,-1015 224,-1036 588,-1036 588,-1015 224,-1015\"/>\n",
       "<text text-anchor=\"start\" x=\"330.5\" y=\"-1021.8\" font-family=\"Times,serif\" font-size=\"14.00\">camera2.label_image</text>\n",
       "<polygon fill=\"none\" stroke=\"black\" points=\"224,-994 224,-1015 588,-1015 588,-994 224,-994\"/>\n",
       "<text text-anchor=\"start\" x=\"351.5\" y=\"-1000.8\" font-family=\"Times,serif\" font-size=\"14.00\">geometry_pose</text>\n",
       "<polygon fill=\"none\" stroke=\"black\" points=\"224,-973 224,-994 588,-994 588,-973 224,-973\"/>\n",
       "<text text-anchor=\"start\" x=\"294\" y=\"-979.8\" font-family=\"Times,serif\" font-size=\"14.00\">deformable_body_configuration</text>\n",
       "<polygon fill=\"none\" stroke=\"black\" points=\"224,-952 224,-973 588,-973 588,-952 224,-952\"/>\n",
       "<text text-anchor=\"start\" x=\"387.5\" y=\"-958.8\" font-family=\"Times,serif\" font-size=\"14.00\">state</text>\n",
       "<polygon fill=\"none\" stroke=\"black\" points=\"224,-931 224,-952 588,-952 588,-931 224,-931\"/>\n",
       "<text text-anchor=\"start\" x=\"365\" y=\"-937.8\" font-family=\"Times,serif\" font-size=\"14.00\">body_poses</text>\n",
       "<polygon fill=\"none\" stroke=\"black\" points=\"224,-910 224,-931 588,-931 588,-910 224,-910\"/>\n",
       "<text text-anchor=\"start\" x=\"324\" y=\"-916.8\" font-family=\"Times,serif\" font-size=\"14.00\">body_spatial_velocities</text>\n",
       "<polygon fill=\"none\" stroke=\"black\" points=\"224,-889 224,-910 588,-910 588,-889 224,-889\"/>\n",
       "<text text-anchor=\"start\" x=\"310.5\" y=\"-895.8\" font-family=\"Times,serif\" font-size=\"14.00\">body_spatial_accelerations</text>\n",
       "<polygon fill=\"none\" stroke=\"black\" points=\"224,-868 224,-889 588,-889 588,-868 224,-868\"/>\n",
       "<text text-anchor=\"start\" x=\"317\" y=\"-874.8\" font-family=\"Times,serif\" font-size=\"14.00\">generalized_acceleration</text>\n",
       "<polygon fill=\"none\" stroke=\"black\" points=\"224,-847 224,-868 588,-868 588,-847 224,-847\"/>\n",
       "<text text-anchor=\"start\" x=\"357.5\" y=\"-853.8\" font-family=\"Times,serif\" font-size=\"14.00\">net_actuation</text>\n",
       "<polygon fill=\"none\" stroke=\"black\" points=\"224,-826 224,-847 588,-847 588,-826 224,-826\"/>\n",
       "<text text-anchor=\"start\" x=\"351.5\" y=\"-832.8\" font-family=\"Times,serif\" font-size=\"14.00\">reaction_forces</text>\n",
       "<polygon fill=\"none\" stroke=\"black\" points=\"224,-805 224,-826 588,-826 588,-805 224,-805\"/>\n",
       "<text text-anchor=\"start\" x=\"351.5\" y=\"-811.8\" font-family=\"Times,serif\" font-size=\"14.00\">contact_results</text>\n",
       "<polygon fill=\"none\" stroke=\"black\" points=\"224,-784 224,-805 588,-805 588,-784 224,-784\"/>\n",
       "<text text-anchor=\"start\" x=\"311\" y=\"-790.8\" font-family=\"Times,serif\" font-size=\"14.00\" fill=\"grey\">WorldModelInstance_state</text>\n",
       "<polygon fill=\"none\" stroke=\"black\" points=\"224,-763 224,-784 588,-784 588,-763 224,-763\"/>\n",
       "<text text-anchor=\"start\" x=\"240.5\" y=\"-769.8\" font-family=\"Times,serif\" font-size=\"14.00\" fill=\"grey\">WorldModelInstance_generalized_acceleration</text>\n",
       "<polygon fill=\"none\" stroke=\"black\" points=\"224,-742 224,-763 588,-763 588,-742 224,-742\"/>\n",
       "<text text-anchor=\"start\" x=\"232.5\" y=\"-748.8\" font-family=\"Times,serif\" font-size=\"14.00\" fill=\"grey\">WorldModelInstance_generalized_contact_forces</text>\n",
       "<polygon fill=\"none\" stroke=\"black\" points=\"224,-721 224,-742 588,-742 588,-721 224,-721\"/>\n",
       "<text text-anchor=\"start\" x=\"280.5\" y=\"-727.8\" font-family=\"Times,serif\" font-size=\"14.00\" fill=\"grey\">WorldModelInstance_net_actuation</text>\n",
       "<polygon fill=\"none\" stroke=\"black\" points=\"224,-700 224,-721 588,-721 588,-700 224,-700\"/>\n",
       "<text text-anchor=\"start\" x=\"305.5\" y=\"-706.8\" font-family=\"Times,serif\" font-size=\"14.00\" fill=\"grey\">DefaultModelInstance_state</text>\n",
       "<polygon fill=\"none\" stroke=\"black\" points=\"224,-679 224,-700 588,-700 588,-679 224,-679\"/>\n",
       "<text text-anchor=\"start\" x=\"235\" y=\"-685.8\" font-family=\"Times,serif\" font-size=\"14.00\" fill=\"grey\">DefaultModelInstance_generalized_acceleration</text>\n",
       "<polygon fill=\"none\" stroke=\"black\" points=\"224,-658 224,-679 588,-679 588,-658 224,-658\"/>\n",
       "<text text-anchor=\"start\" x=\"227\" y=\"-664.8\" font-family=\"Times,serif\" font-size=\"14.00\" fill=\"grey\">DefaultModelInstance_generalized_contact_forces</text>\n",
       "<polygon fill=\"none\" stroke=\"black\" points=\"224,-637 224,-658 588,-658 588,-637 224,-637\"/>\n",
       "<text text-anchor=\"start\" x=\"275\" y=\"-643.8\" font-family=\"Times,serif\" font-size=\"14.00\" fill=\"grey\">DefaultModelInstance_net_actuation</text>\n",
       "<polygon fill=\"none\" stroke=\"black\" points=\"224,-616 224,-637 588,-637 588,-616 224,-616\"/>\n",
       "<text text-anchor=\"start\" x=\"369.5\" y=\"-622.8\" font-family=\"Times,serif\" font-size=\"14.00\">iiwa_state</text>\n",
       "<polygon fill=\"none\" stroke=\"black\" points=\"224,-595 224,-616 588,-616 588,-595 224,-595\"/>\n",
       "<text text-anchor=\"start\" x=\"299\" y=\"-601.8\" font-family=\"Times,serif\" font-size=\"14.00\">iiwa_generalized_acceleration</text>\n",
       "<polygon fill=\"none\" stroke=\"black\" points=\"224,-574 224,-595 588,-595 588,-574 224,-574\"/>\n",
       "<text text-anchor=\"start\" x=\"291.5\" y=\"-580.8\" font-family=\"Times,serif\" font-size=\"14.00\">iiwa_generalized_contact_forces</text>\n",
       "<polygon fill=\"none\" stroke=\"black\" points=\"224,-553 224,-574 588,-574 588,-553 224,-553\"/>\n",
       "<text text-anchor=\"start\" x=\"339.5\" y=\"-559.8\" font-family=\"Times,serif\" font-size=\"14.00\">iiwa_net_actuation</text>\n",
       "<polygon fill=\"none\" stroke=\"black\" points=\"224,-532 224,-553 588,-553 588,-532 224,-532\"/>\n",
       "<text text-anchor=\"start\" x=\"370\" y=\"-538.8\" font-family=\"Times,serif\" font-size=\"14.00\">wsg_state</text>\n",
       "<polygon fill=\"none\" stroke=\"black\" points=\"224,-511 224,-532 588,-532 588,-511 224,-511\"/>\n",
       "<text text-anchor=\"start\" x=\"299.5\" y=\"-517.8\" font-family=\"Times,serif\" font-size=\"14.00\">wsg_generalized_acceleration</text>\n",
       "<polygon fill=\"none\" stroke=\"black\" points=\"224,-490 224,-511 588,-511 588,-490 224,-490\"/>\n",
       "<text text-anchor=\"start\" x=\"291.5\" y=\"-496.8\" font-family=\"Times,serif\" font-size=\"14.00\">wsg_generalized_contact_forces</text>\n",
       "<polygon fill=\"none\" stroke=\"black\" points=\"224,-469 224,-490 588,-490 588,-469 224,-469\"/>\n",
       "<text text-anchor=\"start\" x=\"339.5\" y=\"-475.8\" font-family=\"Times,serif\" font-size=\"14.00\">wsg_net_actuation</text>\n",
       "<polygon fill=\"none\" stroke=\"black\" points=\"224,-448 224,-469 588,-469 588,-448 224,-448\"/>\n",
       "<text text-anchor=\"start\" x=\"366.5\" y=\"-454.8\" font-family=\"Times,serif\" font-size=\"14.00\" fill=\"grey\">table_state</text>\n",
       "<polygon fill=\"none\" stroke=\"black\" points=\"224,-427 224,-448 588,-448 588,-427 224,-427\"/>\n",
       "<text text-anchor=\"start\" x=\"296\" y=\"-433.8\" font-family=\"Times,serif\" font-size=\"14.00\" fill=\"grey\">table_generalized_acceleration</text>\n",
       "<polygon fill=\"none\" stroke=\"black\" points=\"224,-406 224,-427 588,-427 588,-406 224,-406\"/>\n",
       "<text text-anchor=\"start\" x=\"288\" y=\"-412.8\" font-family=\"Times,serif\" font-size=\"14.00\" fill=\"grey\">table_generalized_contact_forces</text>\n",
       "<polygon fill=\"none\" stroke=\"black\" points=\"224,-385 224,-406 588,-406 588,-385 224,-385\"/>\n",
       "<text text-anchor=\"start\" x=\"336\" y=\"-391.8\" font-family=\"Times,serif\" font-size=\"14.00\" fill=\"grey\">table_net_actuation</text>\n",
       "<polygon fill=\"none\" stroke=\"black\" points=\"224,-364 224,-385 588,-385 588,-364 224,-364\"/>\n",
       "<text text-anchor=\"start\" x=\"356\" y=\"-370.8\" font-family=\"Times,serif\" font-size=\"14.00\">F_letter_state</text>\n",
       "<polygon fill=\"none\" stroke=\"black\" points=\"224,-343 224,-364 588,-364 588,-343 224,-343\"/>\n",
       "<text text-anchor=\"start\" x=\"285.5\" y=\"-349.8\" font-family=\"Times,serif\" font-size=\"14.00\">F_letter_generalized_acceleration</text>\n",
       "<polygon fill=\"none\" stroke=\"black\" points=\"224,-322 224,-343 588,-343 588,-322 224,-322\"/>\n",
       "<text text-anchor=\"start\" x=\"278\" y=\"-328.8\" font-family=\"Times,serif\" font-size=\"14.00\">F_letter_generalized_contact_forces</text>\n",
       "<polygon fill=\"none\" stroke=\"black\" points=\"224,-301 224,-322 588,-322 588,-301 224,-301\"/>\n",
       "<text text-anchor=\"start\" x=\"326\" y=\"-307.8\" font-family=\"Times,serif\" font-size=\"14.00\" fill=\"grey\">F_letter_net_actuation</text>\n",
       "<polygon fill=\"none\" stroke=\"black\" points=\"224,-280 224,-301 588,-301 588,-280 224,-280\"/>\n",
       "<text text-anchor=\"start\" x=\"353.5\" y=\"-286.8\" font-family=\"Times,serif\" font-size=\"14.00\" fill=\"grey\">camera0_state</text>\n",
       "<polygon fill=\"none\" stroke=\"black\" points=\"224,-259 224,-280 588,-280 588,-259 224,-259\"/>\n",
       "<text text-anchor=\"start\" x=\"283\" y=\"-265.8\" font-family=\"Times,serif\" font-size=\"14.00\" fill=\"grey\">camera0_generalized_acceleration</text>\n",
       "<polygon fill=\"none\" stroke=\"black\" points=\"224,-238 224,-259 588,-259 588,-238 224,-238\"/>\n",
       "<text text-anchor=\"start\" x=\"275\" y=\"-244.8\" font-family=\"Times,serif\" font-size=\"14.00\" fill=\"grey\">camera0_generalized_contact_forces</text>\n",
       "<polygon fill=\"none\" stroke=\"black\" points=\"224,-217 224,-238 588,-238 588,-217 224,-217\"/>\n",
       "<text text-anchor=\"start\" x=\"323\" y=\"-223.8\" font-family=\"Times,serif\" font-size=\"14.00\" fill=\"grey\">camera0_net_actuation</text>\n",
       "<polygon fill=\"none\" stroke=\"black\" points=\"224,-196 224,-217 588,-217 588,-196 224,-196\"/>\n",
       "<text text-anchor=\"start\" x=\"353.5\" y=\"-202.8\" font-family=\"Times,serif\" font-size=\"14.00\" fill=\"grey\">camera1_state</text>\n",
       "<polygon fill=\"none\" stroke=\"black\" points=\"224,-175 224,-196 588,-196 588,-175 224,-175\"/>\n",
       "<text text-anchor=\"start\" x=\"283\" y=\"-181.8\" font-family=\"Times,serif\" font-size=\"14.00\" fill=\"grey\">camera1_generalized_acceleration</text>\n",
       "<polygon fill=\"none\" stroke=\"black\" points=\"224,-154 224,-175 588,-175 588,-154 224,-154\"/>\n",
       "<text text-anchor=\"start\" x=\"275\" y=\"-160.8\" font-family=\"Times,serif\" font-size=\"14.00\" fill=\"grey\">camera1_generalized_contact_forces</text>\n",
       "<polygon fill=\"none\" stroke=\"black\" points=\"224,-133 224,-154 588,-154 588,-133 224,-133\"/>\n",
       "<text text-anchor=\"start\" x=\"323\" y=\"-139.8\" font-family=\"Times,serif\" font-size=\"14.00\" fill=\"grey\">camera1_net_actuation</text>\n",
       "<polygon fill=\"none\" stroke=\"black\" points=\"224,-112 224,-133 588,-133 588,-112 224,-112\"/>\n",
       "<text text-anchor=\"start\" x=\"353.5\" y=\"-118.8\" font-family=\"Times,serif\" font-size=\"14.00\" fill=\"grey\">camera2_state</text>\n",
       "<polygon fill=\"none\" stroke=\"black\" points=\"224,-91 224,-112 588,-112 588,-91 224,-91\"/>\n",
       "<text text-anchor=\"start\" x=\"283\" y=\"-97.8\" font-family=\"Times,serif\" font-size=\"14.00\" fill=\"grey\">camera2_generalized_acceleration</text>\n",
       "<polygon fill=\"none\" stroke=\"black\" points=\"224,-70 224,-91 588,-91 588,-70 224,-70\"/>\n",
       "<text text-anchor=\"start\" x=\"275\" y=\"-76.8\" font-family=\"Times,serif\" font-size=\"14.00\" fill=\"grey\">camera2_generalized_contact_forces</text>\n",
       "<polygon fill=\"none\" stroke=\"black\" points=\"224,-49 224,-70 588,-70 588,-49 224,-49\"/>\n",
       "<text text-anchor=\"start\" x=\"323\" y=\"-55.8\" font-family=\"Times,serif\" font-size=\"14.00\" fill=\"grey\">camera2_net_actuation</text>\n",
       "<polygon fill=\"none\" stroke=\"black\" points=\"224,-28 224,-49 588,-49 588,-28 224,-28\"/>\n",
       "<text text-anchor=\"start\" x=\"360\" y=\"-34.8\" font-family=\"Times,serif\" font-size=\"14.00\">query_object</text>\n",
       "</g>\n",
       "<!-- s207 -->\n",
       "<g id=\"node3\" class=\"node\">\n",
       "<title>s207</title>\n",
       "<polygon fill=\"none\" stroke=\"black\" points=\"971,-1226 971,-1260 1181,-1260 1181,-1226 971,-1226\"/>\n",
       "<text text-anchor=\"start\" x=\"974\" y=\"-1246.8\" font-family=\"Times,serif\" font-weight=\"bold\" font-size=\"14.00\">DepthImageToPointCloud</text>\n",
       "<text text-anchor=\"start\" x=\"976.5\" y=\"-1232.8\" font-family=\"Times,serif\" font-size=\"14.00\">name=camera0.point_cloud</text>\n",
       "<polygon fill=\"none\" stroke=\"black\" points=\"971,-1205 971,-1226 1081,-1226 1081,-1205 971,-1205\"/>\n",
       "<text text-anchor=\"start\" x=\"980\" y=\"-1211.8\" font-family=\"Times,serif\" font-size=\"14.00\">depth_image</text>\n",
       "<polygon fill=\"none\" stroke=\"black\" points=\"1081,-1163 1081,-1226 1181,-1226 1181,-1163 1081,-1163\"/>\n",
       "<text text-anchor=\"start\" x=\"1090\" y=\"-1190.8\" font-family=\"Times,serif\" font-size=\"14.00\">point_cloud</text>\n",
       "<polygon fill=\"none\" stroke=\"black\" points=\"971,-1184 971,-1205 1081,-1205 1081,-1184 971,-1184\"/>\n",
       "<text text-anchor=\"start\" x=\"983\" y=\"-1190.8\" font-family=\"Times,serif\" font-size=\"14.00\">color_image</text>\n",
       "<polygon fill=\"none\" stroke=\"black\" points=\"971,-1163 971,-1184 1081,-1184 1081,-1163 971,-1163\"/>\n",
       "<text text-anchor=\"start\" x=\"979.5\" y=\"-1169.8\" font-family=\"Times,serif\" font-size=\"14.00\">camera_pose</text>\n",
       "</g>\n",
       "<!-- s200&#45;&gt;s207 -->\n",
       "<g id=\"edge6\" class=\"edge\">\n",
       "<title>s200:e-&gt;s207:w</title>\n",
       "<path fill=\"none\" stroke=\"black\" d=\"M589,-1173C739.39,-1173 783.51,-1143.98 927,-1189 944.66,-1194.54 947.1,-1209.16 959.86,-1214.23\"/>\n",
       "<polygon fill=\"black\" stroke=\"black\" points=\"959.55,-1217.73 970,-1216 960.75,-1210.84 959.55,-1217.73\"/>\n",
       "</g>\n",
       "<!-- s200&#45;&gt;s207 -->\n",
       "<g id=\"edge7\" class=\"edge\">\n",
       "<title>s200:e-&gt;s207:w</title>\n",
       "<path fill=\"none\" stroke=\"black\" d=\"M589,-1194C754.86,-1194 798.88,-1194 959.74,-1194\"/>\n",
       "<polygon fill=\"black\" stroke=\"black\" points=\"960,-1197.5 970,-1194 960,-1190.5 960,-1197.5\"/>\n",
       "</g>\n",
       "<!-- s208 -->\n",
       "<g id=\"node4\" class=\"node\">\n",
       "<title>s208</title>\n",
       "<polygon fill=\"none\" stroke=\"black\" points=\"640.5,-1011 640.5,-1045 919.5,-1045 919.5,-1011 640.5,-1011\"/>\n",
       "<text text-anchor=\"start\" x=\"643.5\" y=\"-1031.8\" font-family=\"Times,serif\" font-weight=\"bold\" font-size=\"14.00\">manipulation.systems.ExtractPose</text>\n",
       "<text text-anchor=\"start\" x=\"704.5\" y=\"-1017.8\" font-family=\"Times,serif\" font-size=\"14.00\">name=camera0.pose</text>\n",
       "<polygon fill=\"none\" stroke=\"black\" points=\"640.5,-990 640.5,-1011 783.5,-1011 783.5,-990 640.5,-990\"/>\n",
       "<text text-anchor=\"start\" x=\"691.5\" y=\"-996.8\" font-family=\"Times,serif\" font-size=\"14.00\">poses</text>\n",
       "<polygon fill=\"none\" stroke=\"black\" points=\"783.5,-990 783.5,-1011 919.5,-1011 919.5,-990 783.5,-990\"/>\n",
       "<text text-anchor=\"start\" x=\"834.5\" y=\"-996.8\" font-family=\"Times,serif\" font-size=\"14.00\">pose</text>\n",
       "</g>\n",
       "<!-- s200&#45;&gt;s208 -->\n",
       "<g id=\"edge2\" class=\"edge\">\n",
       "<title>s200:e-&gt;s208:w</title>\n",
       "<path fill=\"none\" stroke=\"black\" d=\"M589,-942C619.17,-942 608.79,-987.2 629.46,-997.8\"/>\n",
       "<polygon fill=\"black\" stroke=\"black\" points=\"628.98,-1001.28 639.5,-1000 630.48,-994.44 628.98,-1001.28\"/>\n",
       "</g>\n",
       "<!-- s209 -->\n",
       "<g id=\"node5\" class=\"node\">\n",
       "<title>s209</title>\n",
       "<polygon fill=\"none\" stroke=\"black\" points=\"971,-1103 971,-1137 1181,-1137 1181,-1103 971,-1103\"/>\n",
       "<text text-anchor=\"start\" x=\"974\" y=\"-1123.8\" font-family=\"Times,serif\" font-weight=\"bold\" font-size=\"14.00\">DepthImageToPointCloud</text>\n",
       "<text text-anchor=\"start\" x=\"976.5\" y=\"-1109.8\" font-family=\"Times,serif\" font-size=\"14.00\">name=camera1.point_cloud</text>\n",
       "<polygon fill=\"none\" stroke=\"black\" points=\"971,-1082 971,-1103 1081,-1103 1081,-1082 971,-1082\"/>\n",
       "<text text-anchor=\"start\" x=\"980\" y=\"-1088.8\" font-family=\"Times,serif\" font-size=\"14.00\">depth_image</text>\n",
       "<polygon fill=\"none\" stroke=\"black\" points=\"1081,-1040 1081,-1103 1181,-1103 1181,-1040 1081,-1040\"/>\n",
       "<text text-anchor=\"start\" x=\"1090\" y=\"-1067.8\" font-family=\"Times,serif\" font-size=\"14.00\">point_cloud</text>\n",
       "<polygon fill=\"none\" stroke=\"black\" points=\"971,-1061 971,-1082 1081,-1082 1081,-1061 971,-1061\"/>\n",
       "<text text-anchor=\"start\" x=\"983\" y=\"-1067.8\" font-family=\"Times,serif\" font-size=\"14.00\">color_image</text>\n",
       "<polygon fill=\"none\" stroke=\"black\" points=\"971,-1040 971,-1061 1081,-1061 1081,-1040 971,-1040\"/>\n",
       "<text text-anchor=\"start\" x=\"979.5\" y=\"-1046.8\" font-family=\"Times,serif\" font-size=\"14.00\">camera_pose</text>\n",
       "</g>\n",
       "<!-- s200&#45;&gt;s209 -->\n",
       "<g id=\"edge10\" class=\"edge\">\n",
       "<title>s200:e-&gt;s209:w</title>\n",
       "<path fill=\"none\" stroke=\"black\" d=\"M589,-1110C755.03,-1110 798.72,-1093.69 959.73,-1093.02\"/>\n",
       "<polygon fill=\"black\" stroke=\"black\" points=\"960.01,-1096.52 970,-1093 959.99,-1089.52 960.01,-1096.52\"/>\n",
       "</g>\n",
       "<!-- s200&#45;&gt;s209 -->\n",
       "<g id=\"edge11\" class=\"edge\">\n",
       "<title>s200:e-&gt;s209:w</title>\n",
       "<path fill=\"none\" stroke=\"black\" d=\"M589,-1131C739.63,-1131 787.03,-1161.66 927,-1106 946.14,-1098.39 946.11,-1079.04 959.98,-1072.9\"/>\n",
       "<polygon fill=\"black\" stroke=\"black\" points=\"960.83,-1076.3 970,-1071 959.52,-1069.43 960.83,-1076.3\"/>\n",
       "</g>\n",
       "<!-- s210 -->\n",
       "<g id=\"node6\" class=\"node\">\n",
       "<title>s210</title>\n",
       "<polygon fill=\"none\" stroke=\"black\" points=\"640.5,-930 640.5,-964 919.5,-964 919.5,-930 640.5,-930\"/>\n",
       "<text text-anchor=\"start\" x=\"643.5\" y=\"-950.8\" font-family=\"Times,serif\" font-weight=\"bold\" font-size=\"14.00\">manipulation.systems.ExtractPose</text>\n",
       "<text text-anchor=\"start\" x=\"704.5\" y=\"-936.8\" font-family=\"Times,serif\" font-size=\"14.00\">name=camera1.pose</text>\n",
       "<polygon fill=\"none\" stroke=\"black\" points=\"640.5,-909 640.5,-930 783.5,-930 783.5,-909 640.5,-909\"/>\n",
       "<text text-anchor=\"start\" x=\"691.5\" y=\"-915.8\" font-family=\"Times,serif\" font-size=\"14.00\">poses</text>\n",
       "<polygon fill=\"none\" stroke=\"black\" points=\"783.5,-909 783.5,-930 919.5,-930 919.5,-909 783.5,-909\"/>\n",
       "<text text-anchor=\"start\" x=\"834.5\" y=\"-915.8\" font-family=\"Times,serif\" font-size=\"14.00\">pose</text>\n",
       "</g>\n",
       "<!-- s200&#45;&gt;s210 -->\n",
       "<g id=\"edge9\" class=\"edge\">\n",
       "<title>s200:e-&gt;s210:w</title>\n",
       "<path fill=\"none\" stroke=\"black\" d=\"M589,-942C609.81,-942 613.9,-925.63 629.48,-920.51\"/>\n",
       "<polygon fill=\"black\" stroke=\"black\" points=\"630.13,-923.95 639.5,-919 629.09,-917.03 630.13,-923.95\"/>\n",
       "</g>\n",
       "<!-- s211 -->\n",
       "<g id=\"node7\" class=\"node\">\n",
       "<title>s211</title>\n",
       "<polygon fill=\"none\" stroke=\"black\" points=\"971,-980 971,-1014 1181,-1014 1181,-980 971,-980\"/>\n",
       "<text text-anchor=\"start\" x=\"974\" y=\"-1000.8\" font-family=\"Times,serif\" font-weight=\"bold\" font-size=\"14.00\">DepthImageToPointCloud</text>\n",
       "<text text-anchor=\"start\" x=\"976.5\" y=\"-986.8\" font-family=\"Times,serif\" font-size=\"14.00\">name=camera2.point_cloud</text>\n",
       "<polygon fill=\"none\" stroke=\"black\" points=\"971,-959 971,-980 1081,-980 1081,-959 971,-959\"/>\n",
       "<text text-anchor=\"start\" x=\"980\" y=\"-965.8\" font-family=\"Times,serif\" font-size=\"14.00\">depth_image</text>\n",
       "<polygon fill=\"none\" stroke=\"black\" points=\"1081,-917 1081,-980 1181,-980 1181,-917 1081,-917\"/>\n",
       "<text text-anchor=\"start\" x=\"1090\" y=\"-944.8\" font-family=\"Times,serif\" font-size=\"14.00\">point_cloud</text>\n",
       "<polygon fill=\"none\" stroke=\"black\" points=\"971,-938 971,-959 1081,-959 1081,-938 971,-938\"/>\n",
       "<text text-anchor=\"start\" x=\"983\" y=\"-944.8\" font-family=\"Times,serif\" font-size=\"14.00\">color_image</text>\n",
       "<polygon fill=\"none\" stroke=\"black\" points=\"971,-917 971,-938 1081,-938 1081,-917 971,-917\"/>\n",
       "<text text-anchor=\"start\" x=\"979.5\" y=\"-923.8\" font-family=\"Times,serif\" font-size=\"14.00\">camera_pose</text>\n",
       "</g>\n",
       "<!-- s200&#45;&gt;s211 -->\n",
       "<g id=\"edge3\" class=\"edge\">\n",
       "<title>s200:e-&gt;s211:w</title>\n",
       "<path fill=\"none\" stroke=\"black\" d=\"M589,-1047C611.57,-1047 610.31,-1067.76 632,-1074 695,-1092.14 872.5,-1110.44 927,-1074 965.33,-1048.37 927.03,-981.61 959.99,-971.34\"/>\n",
       "<polygon fill=\"black\" stroke=\"black\" points=\"960.55,-974.79 970,-970 959.62,-967.85 960.55,-974.79\"/>\n",
       "</g>\n",
       "<!-- s200&#45;&gt;s211 -->\n",
       "<g id=\"edge4\" class=\"edge\">\n",
       "<title>s200:e-&gt;s211:w</title>\n",
       "<path fill=\"none\" stroke=\"black\" d=\"M589,-1068C626.57,-1068 896.29,-1080.64 927,-1059 967.04,-1030.78 924.45,-959.68 959.89,-949.28\"/>\n",
       "<polygon fill=\"black\" stroke=\"black\" points=\"960.52,-952.73 970,-948 959.64,-945.78 960.52,-952.73\"/>\n",
       "</g>\n",
       "<!-- s212 -->\n",
       "<g id=\"node8\" class=\"node\">\n",
       "<title>s212</title>\n",
       "<polygon fill=\"none\" stroke=\"black\" points=\"640.5,-849 640.5,-883 919.5,-883 919.5,-849 640.5,-849\"/>\n",
       "<text text-anchor=\"start\" x=\"643.5\" y=\"-869.8\" font-family=\"Times,serif\" font-weight=\"bold\" font-size=\"14.00\">manipulation.systems.ExtractPose</text>\n",
       "<text text-anchor=\"start\" x=\"704.5\" y=\"-855.8\" font-family=\"Times,serif\" font-size=\"14.00\">name=camera2.pose</text>\n",
       "<polygon fill=\"none\" stroke=\"black\" points=\"640.5,-828 640.5,-849 783.5,-849 783.5,-828 640.5,-828\"/>\n",
       "<text text-anchor=\"start\" x=\"691.5\" y=\"-834.8\" font-family=\"Times,serif\" font-size=\"14.00\">poses</text>\n",
       "<polygon fill=\"none\" stroke=\"black\" points=\"783.5,-828 783.5,-849 919.5,-849 919.5,-828 783.5,-828\"/>\n",
       "<text text-anchor=\"start\" x=\"834.5\" y=\"-834.8\" font-family=\"Times,serif\" font-size=\"14.00\">pose</text>\n",
       "</g>\n",
       "<!-- s200&#45;&gt;s212 -->\n",
       "<g id=\"edge1\" class=\"edge\">\n",
       "<title>s200:e-&gt;s212:w</title>\n",
       "<path fill=\"none\" stroke=\"black\" d=\"M589,-942C636.37,-942 595.65,-853.62 629.26,-839.81\"/>\n",
       "<polygon fill=\"black\" stroke=\"black\" points=\"630.26,-843.18 639.5,-838 629.04,-836.29 630.26,-843.18\"/>\n",
       "</g>\n",
       "<!-- s207&#45;&gt;s219out -->\n",
       "<g id=\"edge13\" class=\"edge\">\n",
       "<title>s207:e-&gt;s219out:w</title>\n",
       "<path fill=\"none\" stroke=\"green\" d=\"M1182,-1194C1227.75,-1194 1192.44,-1110.71 1225.52,-1097.7\"/>\n",
       "<polygon fill=\"green\" stroke=\"green\" points=\"1226.23,-1101.13 1235.5,-1096 1225.05,-1094.23 1226.23,-1101.13\"/>\n",
       "</g>\n",
       "<!-- s208&#45;&gt;s207 -->\n",
       "<g id=\"edge8\" class=\"edge\">\n",
       "<title>s208:e-&gt;s207:w</title>\n",
       "<path fill=\"none\" stroke=\"black\" d=\"M920.5,-1000C996.73,-1000 899.96,-1157.16 959.97,-1171.9\"/>\n",
       "<polygon fill=\"black\" stroke=\"black\" points=\"959.68,-1175.38 970,-1173 960.44,-1168.43 959.68,-1175.38\"/>\n",
       "</g>\n",
       "<!-- s209&#45;&gt;s219out -->\n",
       "<g id=\"edge14\" class=\"edge\">\n",
       "<title>s209:e-&gt;s219out:w</title>\n",
       "<path fill=\"none\" stroke=\"green\" d=\"M1182,-1071C1201.88,-1071 1209.29,-1071 1225.08,-1071\"/>\n",
       "<polygon fill=\"green\" stroke=\"green\" points=\"1225.5,-1074.5 1235.5,-1071 1225.5,-1067.5 1225.5,-1074.5\"/>\n",
       "</g>\n",
       "<!-- s210&#45;&gt;s209 -->\n",
       "<g id=\"edge12\" class=\"edge\">\n",
       "<title>s210:e-&gt;s209:w</title>\n",
       "<path fill=\"none\" stroke=\"black\" d=\"M920.5,-919C978.85,-919 916.6,-1034.14 959.87,-1048.53\"/>\n",
       "<polygon fill=\"black\" stroke=\"black\" points=\"959.6,-1052.03 970,-1050 960.61,-1045.1 959.6,-1052.03\"/>\n",
       "</g>\n",
       "<!-- s211&#45;&gt;s219out -->\n",
       "<g id=\"edge15\" class=\"edge\">\n",
       "<title>s211:e-&gt;s219out:w</title>\n",
       "<path fill=\"none\" stroke=\"green\" d=\"M1182,-948C1228.11,-948 1192.17,-1032.14 1225.45,-1045.28\"/>\n",
       "<polygon fill=\"green\" stroke=\"green\" points=\"1225.05,-1048.76 1235.5,-1047 1226.23,-1041.86 1225.05,-1048.76\"/>\n",
       "</g>\n",
       "<!-- s212&#45;&gt;s211 -->\n",
       "<g id=\"edge5\" class=\"edge\">\n",
       "<title>s212:e-&gt;s211:w</title>\n",
       "<path fill=\"none\" stroke=\"black\" d=\"M920.5,-838C961.87,-838 931.15,-912.36 960.13,-925.14\"/>\n",
       "<polygon fill=\"black\" stroke=\"black\" points=\"959.52,-928.59 970,-927 960.82,-921.71 959.52,-928.59\"/>\n",
       "</g>\n",
       "</g>\n",
       "</svg>"
      ],
      "text/plain": [
       "<IPython.core.display.SVG object>"
      ]
     },
     "metadata": {},
     "output_type": "display_data"
    }
   ],
   "source": [
    "builder, station = (\n",
    "    create_bimanual_IIWA14_with_table_and_initials_and_assets_and_cameras()\n",
    ")\n",
    "\n",
    "# in order to debug, we will build the diagram once here.\n",
    "diagram = builder.Build()\n",
    "\n",
    "# visualize the diagram\n",
    "RenderDiagram(diagram, max_depth=1)\n",
    "\n",
    "# publish the diagram with some default context\n",
    "context = diagram.CreateDefaultContext()\n",
    "diagram.ForcedPublish(context)"
   ]
  },
  {
   "cell_type": "markdown",
   "metadata": {
    "cell_id": "858720cb27a84b69a20f35f8b52fa7fd",
    "deepnote_cell_type": "markdown"
   },
   "source": [
    "## Getting the Point Cloud of the Model\n",
    "\n",
    "Before running ICP, we need a point cloud of the *model* to compare against. To do this, we'll load into a `PointCloud` object the obj files corresponding to the letters. \n",
    "\n",
    "We'll make use of the [trimesh](https://trimesh.org/) library to do this. Because our obj file contains the full 3d geometry (rather than a set of points for a point cloud) we will need to load the obj file as a mesh and then sample points from it to get a point cloud. "
   ]
  },
  {
   "cell_type": "code",
   "execution_count": 11,
   "metadata": {
    "cell_id": "d692eb8305ab480bacbe3be5652474f1",
    "deepnote_cell_type": "code"
   },
   "outputs": [
    {
     "name": "stdout",
     "output_type": "stream",
     "text": [
      "(3, 1500)\n"
     ]
    }
   ],
   "source": [
    "N_SAMPLE_POINTS = 1500\n",
    "\n",
    "# TODO: load your intitials with trimesh.load(...) as a mesh.\n",
    "# To do this, you should make sure to use the kwargs force=\"mesh\".\n",
    "# See the docs for more info at https://trimesh.org\n",
    "initials_mesh = trimesh.load(\"assets/W_model/W.obj\", force=\"mesh\")\n",
    "\n",
    "# TODO: sample N_SAMPLE_POINTS from the mesh and then turn those points into a numpy array (you might need to transpose)\n",
    "# You should make use of the `sample` method of the mesh object.\n",
    "initials_points = initials_mesh.sample(N_SAMPLE_POINTS).T\n",
    "print(initials_points.shape)\n",
    "\n",
    "# TODO: create a `PointCloud` object from the numpy array\n",
    "initials_point_cloud = PointCloud(initials_points.shape[1])\n",
    "initials_point_cloud.mutable_xyzs()[:] = initials_points"
   ]
  },
  {
   "cell_type": "markdown",
   "metadata": {
    "cell_id": "36ebcf94d1eb4363b04f9e1a500be244",
    "deepnote_cell_type": "markdown"
   },
   "source": [
    "## Cropping Out the Point Clouds\n",
    "\n",
    "Next, we'll get the camera point clouds. We'll start by cropping out the objects of interest within each camera. \n",
    "\n",
    "Start by visualizing the rgb and depth outputs of each of the rgbd sensors to make sure your camera is in the right position. If it's not, edit the camera rotation and/or translation so they roughly align with your initials. It doesn't have to be perfect as we'll segment out the objects later: the objects just have to lie in the frame. "
   ]
  },
  {
   "cell_type": "code",
   "execution_count": 12,
   "metadata": {
    "cell_id": "664221f4bf004f76b94f947e95582203",
    "deepnote_cell_type": "code"
   },
   "outputs": [
    {
     "data": {
      "image/png": "[encoded data removed]",
      "text/plain": [
       "<Figure size 1500x400 with 3 Axes>"
      ]
     },
     "metadata": {},
     "output_type": "display_data"
    }
   ],
   "source": [
    "# run the following cell to visualize the rgb outputs of each of the cameras\n",
    "cameras = [\"camera0\", \"camera1\", \"camera2\"]\n",
    "station_context = diagram.GetSubsystemContext(station, context)\n",
    "\n",
    "fig, axes = plt.subplots(\n",
    "    1, len(cameras), figsize=(5 * len(cameras), 4), constrained_layout=True\n",
    ")\n",
    "for ax, cam in zip(axes, cameras):\n",
    "    img = station.GetOutputPort(f\"{cam}.rgb_image\").Eval(station_context)\n",
    "    arr = np.array(img.data, copy=False).reshape(img.height(), img.width(), -1)\n",
    "    im = ax.imshow(arr)\n",
    "    ax.set_title(f\"{cam} rgb image\")\n",
    "    ax.axis(\"off\")\n",
    "\n",
    "if running_as_notebook:\n",
    "    plt.show()"
   ]
  },
  {
   "cell_type": "code",
   "execution_count": 13,
   "metadata": {
    "cell_id": "711aa0274ec54699836ea97c53c7575d",
    "deepnote_cell_type": "code"
   },
   "outputs": [
    {
     "data": {
      "image/png": "[encoded data removed]",
      "text/plain": [
       "<Figure size 1500x400 with 3 Axes>"
      ]
     },
     "metadata": {},
     "output_type": "display_data"
    }
   ],
   "source": [
    "# run the following cell to visualize the depth outputs of each of the cameras\n",
    "fig, axes = plt.subplots(\n",
    "    1, len(cameras), figsize=(5 * len(cameras), 4), constrained_layout=True\n",
    ")\n",
    "for ax, cam in zip(axes, cameras):\n",
    "    img = station.GetOutputPort(f\"{cam}.depth_image\").Eval(station_context)\n",
    "    depth_img = np.array(img.data, copy=False).reshape(img.height(), img.width(), -1)\n",
    "    depth_img = np.ma.masked_invalid(depth_img)\n",
    "    img = ax.imshow(depth_img, cmap=\"magma\")\n",
    "    ax.set_title(f\"{cam} depth image\")\n",
    "    ax.axis(\"off\")\n",
    "\n",
    "if running_as_notebook:\n",
    "    plt.show()"
   ]
  },
  {
   "cell_type": "markdown",
   "metadata": {
    "cell_id": "bc2c3bdeff834bcd928d381d5a28d9a4",
    "deepnote_cell_type": "markdown"
   },
   "source": [
    "Next, we'll get the point clouds from each of the three cameras and simply crop out the desired regions (the regions that contain the letters) based on position. Here, we're going to cheat a little bit and use the reference positions of the letters based on the cheat ports in the system to save you some time, but in the real world you should either manually change the positions of the bounding boxes. We'll also remove the table point cloud as the point clouds from the table are not of interest. \n",
    "\n",
    "For more complicated scenarios, it might be helpful to use more interesting strategies for segmentation including color-based ones, outlier detection algorithms, end-to-end vision-based segmentation algorithms, and so forth. \n",
    "\n",
    "Use the [Mustard Bottle Point Cloud Processing](https://github.com/RussTedrake/manipulation/blob/c9f8d668de91241d170e3b6d692c4299e6f5e055/book/clutter/point_cloud_processing.ipynb#L75) and [Clutter Clearing](https://github.com/RussTedrake/manipulation/blob/c9f8d668de91241d170e3b6d692c4299e6f5e055/book/clutter/clutter_clearing.ipynb#L4) notebooks as an example."
   ]
  },
  {
   "cell_type": "code",
   "execution_count": 14,
   "metadata": {
    "cell_id": "7ba86e1ad664454aa49ce1dbf3ef1ae3",
    "deepnote_cell_type": "code"
   },
   "outputs": [],
   "source": [
    "# calculate the actual relative positions of each of the letters to use as a reference\n",
    "# for cropping the point clouds.\n",
    "plant = station.plant()\n",
    "plant_context = diagram.GetSubsystemContext(plant, context)\n",
    "\n",
    "world_frame = plant.world_frame()\n",
    "\n",
    "model_letter = plant.GetModelInstanceByName(f\"{your_initial}_letter\")\n",
    "frame_letter = plant.GetFrameByName(\n",
    "    f\"{your_initial}_body_link\", model_instance=model_letter\n",
    ")\n",
    "X_PC_letter = plant.CalcRelativeTransform(plant_context, world_frame, frame_letter)"
   ]
  },
  {
   "cell_type": "code",
   "execution_count": 15,
   "metadata": {
    "cell_id": "9bc5d8126c554071bba7e205b9d0361a",
    "deepnote_cell_type": "code"
   },
   "outputs": [],
   "source": [
    "# TODO: get the point clouds from each of the cameras. For now, don't worry too much about\n",
    "# removing the table points as we'll do that later.\n",
    "\n",
    "# Get point clouds from each camera by evaluating the exported output ports\n",
    "camera0_point_cloud_raw = diagram.GetOutputPort(\"camera0_point_cloud\").Eval(context)\n",
    "camera1_point_cloud_raw = diagram.GetOutputPort(\"camera1_point_cloud\").Eval(context)\n",
    "camera2_point_cloud_raw = diagram.GetOutputPort(\"camera2_point_cloud\").Eval(context)\n",
    "\n",
    "# TODO: crop out each of the letters from each of the cameras\n",
    "# HINT: A simple way to do this is to use a simple Crop based on the X_PC_{letter} transforms given above.\n",
    "#       Add a small offset based on the size of your letters to make the whole letter fit in the crop.\n",
    "#       We add a visualization below to help you visualize the cropped point clouds.\n",
    "\n",
    "# Define bounding box for cropping around the letter\n",
    "# You'll need to adjust these values based on your letter size and position\n",
    "letter_size_offset = 0.35  # Adjust this based on your letter size\n",
    "letter_position = X_PC_letter.translation()\n",
    "\n",
    "letter_lower = [\n",
    "    letter_position[0] - letter_size_offset,  # x_min\n",
    "    letter_position[1] - letter_size_offset,  # y_min\n",
    "    letter_position[2] - 0.05                # z_min (slightly below letter)\n",
    "]\n",
    "\n",
    "letter_upper = [\n",
    "    letter_position[0] + letter_size_offset,  # x_max\n",
    "    letter_position[1] + letter_size_offset,  # y_max\n",
    "    letter_position[2] + 0.1                  # z_max (above letter)\n",
    "]\n",
    "\n",
    "# Crop point clouds to extract only the letter regions\n",
    "def crop_point_cloud_to_box(point_cloud, lower_bounds, upper_bounds):\n",
    "    \"\"\"Crop a point cloud to fit within the specified bounding box.\"\"\"\n",
    "    if point_cloud.size() == 0:\n",
    "        return point_cloud\n",
    "    \n",
    "    # Get point cloud data\n",
    "    points = point_cloud.xyzs()\n",
    "    \n",
    "    # Create mask for points within bounds\n",
    "    mask = np.all([\n",
    "        points[0, :] >= lower_bounds[0],  # x >= x_min\n",
    "        points[0, :] <= upper_bounds[0],  # x <= x_max\n",
    "        points[1, :] >= lower_bounds[1],  # y >= y_min\n",
    "        points[1, :] <= upper_bounds[1],  # y <= y_max\n",
    "        points[2, :] >= lower_bounds[2],  # z >= z_min\n",
    "        points[2, :] <= upper_bounds[2],  # z <= z_max\n",
    "    ], axis=0)\n",
    "    \n",
    "    # Extract points within bounds\n",
    "    if np.any(mask):\n",
    "        cropped_points = points[:, mask]\n",
    "        # Create new point cloud with cropped points\n",
    "        cropped_cloud = PointCloud(cropped_points.shape[1])\n",
    "        cropped_cloud.mutable_xyzs()[:] = cropped_points\n",
    "        return cropped_cloud\n",
    "    else:\n",
    "        # Return empty point cloud if no points in bounds\n",
    "        return PointCloud(0)\n",
    "\n",
    "# Apply cropping to each camera's point cloud\n",
    "camera0_letter_point_cloud = crop_point_cloud_to_box(camera0_point_cloud_raw, letter_lower, letter_upper)\n",
    "camera1_letter_point_cloud = crop_point_cloud_to_box(camera1_point_cloud_raw, letter_lower, letter_upper)\n",
    "camera2_letter_point_cloud = crop_point_cloud_to_box(camera2_point_cloud_raw, letter_lower, letter_upper)\n",
    "\n",
    "# This will visualize the bounding boxes for each of the letters in the point clouds\n",
    "# Use it to adjust your bounding boxes to fit the letters.\n",
    "if letter_lower is not None and letter_upper is not None:\n",
    "    meshcat.SetLineSegments(\n",
    "        \"bounding_line\",\n",
    "        np.array(letter_lower).T,\n",
    "        np.array(letter_upper).T,\n",
    "        1.0,\n",
    "        Rgba(0, 0, 0),\n",
    "    )\n",
    "\n",
    "# Concatenate the point clouds\n",
    "point_clouds_numpy = np.concatenate([camera0_letter_point_cloud.xyzs(), camera1_letter_point_cloud.xyzs(), camera2_letter_point_cloud.xyzs()], axis=1)\n",
    "letter_point_cloud = PointCloud(point_clouds_numpy.shape[1])\n",
    "letter_point_cloud.mutable_xyzs()[:] = point_clouds_numpy\n",
    "\n",
    "# Downsample the point clouds\n",
    "# HINT: use the `VoxelizedDownSample` method for PointCloud\n",
    "letter_point_cloud = letter_point_cloud.VoxelizedDownSample(0.01)"
   ]
  },
  {
   "cell_type": "code",
   "execution_count": 16,
   "metadata": {
    "cell_id": "8bcfbecfe5fb44ccb91782f94cac5c07",
    "deepnote_cell_type": "code"
   },
   "outputs": [
    {
     "name": "stdout",
     "output_type": "stream",
     "text": [
      "(3, 5153)\n"
     ]
    }
   ],
   "source": [
    "# TODO: implement a function that removes all points in the point cloud that lie below z=0.01\n",
    "def cull_point_cloud_below_z(point_cloud: PointCloud, z: float = 0.01) -> PointCloud:\n",
    "    cloud_numpy = point_cloud.xyzs()\n",
    "    print(cloud_numpy.shape) # (3, n)\n",
    "    cloud_mask = cloud_numpy[2, :] >= z\n",
    "    \n",
    "    new_cloud = PointCloud(cloud_mask.sum())\n",
    "    new_cloud.mutable_xyzs()[:] = cloud_numpy[:, cloud_mask]\n",
    "    return new_cloud\n",
    "\n",
    "def remove_table_points(point_cloud: PointCloud) -> PointCloud:\n",
    "    return cull_point_cloud_below_z(point_cloud, z=0.01)\n",
    "\n",
    "# TODO: remove the table points from the concatenated point clouds\n",
    "letter_point_cloud = remove_table_points(letter_point_cloud)"
   ]
  },
  {
   "cell_type": "code",
   "execution_count": 17,
   "metadata": {
    "cell_id": "5aa98b1fc4134d6caa12ec81b3ec28eb",
    "deepnote_cell_type": "code"
   },
   "outputs": [],
   "source": [
    "# visualize the concatenated point clouds\n",
    "meshcat.SetObject(\n",
    "    \"letter_point_cloud\", letter_point_cloud, point_size=0.01, rgba=Rgba(1, 0, 0, 0.6)\n",
    ")"
   ]
  },
  {
   "cell_type": "markdown",
   "metadata": {
    "cell_id": "1a4dc94f3abf45339c56f5f7aedd2d77",
    "deepnote_cell_type": "markdown"
   },
   "source": [
    "If everything is done correctly, you should be able to see point clouds for your intials that are created from your camera like below:\n",
    "\n",
    "![ps3_p4](https://raw.githubusercontent.com/RussTedrake/manipulation/master/book/figures/exercises/geometry_pick_and_place_point_clouds.png)\n",
    "\n",
    "NOTE: the things you should be visualizing should be `{letter}_source_cloud` NOT the `{letter}_model_source_cloud`s we created for reference for ICP."
   ]
  },
  {
   "cell_type": "markdown",
   "metadata": {
    "cell_id": "c9a609cec0d7407ba099731b718caeb9",
    "deepnote_cell_type": "markdown"
   },
   "source": [
    "## Registering Point Cloud Geometry with ICP\n",
    "\n",
    "Now that we have the point clouds make use of the built in `IterativeClosestPoint` function to register the point cloud geometries. Use the [Pose Estimation ICP](https://github.com/RussTedrake/manipulation/blob/c9f8d668de91241d170e3b6d692c4299e6f5e055/book/pose/exercises/pose_estimation_icp.ipynb#L4) notebook as a reference. You should end up with a pose "
   ]
  },
  {
   "cell_type": "code",
   "execution_count": 18,
   "metadata": {
    "cell_id": "0a51aeba44cd4654a73be132f5e1783d",
    "deepnote_cell_type": "code"
   },
   "outputs": [],
   "source": [
    "MAX_ITERATIONS = 25 if running_as_notebook else 2\n",
    "\n",
    "# TODO: set initial guesses for each of the letters along with the maximum number of iterations\n",
    "# These can be rough guesses as ICP will do the bulk of the work of aligning the point clouds.\n",
    "\n",
    "# Use the current pose from the plant as initial guess\n",
    "initial_guess = X_PC_letter\n",
    "\n",
    "# TODO: convert both the model and generated point clouds to numpy arrays to pass into the ICP function\n",
    "\n",
    "# Convert model point cloud (from mesh) to numpy array\n",
    "model_points = initials_point_cloud.xyzs()  # Shape: (3, N)\n",
    "\n",
    "# Convert observed point cloud (from cameras) to numpy array  \n",
    "observed_points = letter_point_cloud.xyzs()  # Shape: (3, N)\n",
    "\n",
    "# TODO: register the point clouds with the model point clouds using ICP for each of the letters\n",
    "\n",
    "# Use ICP to register the observed points to the model points\n",
    "letter_X_Ohat, chat = IterativeClosestPoint(\n",
    "    model_points,                   # p_Om: Reference/target points (model)\n",
    "    observed_points,                # p_Ws: Source points (observed from cameras)\n",
    "    initial_guess,                  # X_Ohat: Initial transformation guess\n",
    "    max_iterations=MAX_ITERATIONS   # Maximum number of iterations\n",
    ")"
   ]
  },
  {
   "cell_type": "code",
   "execution_count": 19,
   "metadata": {
    "cell_id": "f327893ac5e14b79a592713d1ccd3deb",
    "deepnote_cell_type": "code"
   },
   "outputs": [
    {
     "name": "stdout",
     "output_type": "stream",
     "text": [
      "F_letter error: rpy: [-0.012  0.015  0.18 ], xyz: [ 0.023 -0.015 -0.   ]\n"
     ]
    }
   ],
   "source": [
    "# check the error in the registration for each of the letters below:\n",
    "# if it has converged, all errors should be close to zero\n",
    "np.set_printoptions(precision=3, suppress=True)\n",
    "error_letter = letter_X_Ohat.inverse().multiply(X_PC_letter)\n",
    "\n",
    "rpy = RollPitchYaw(error_letter.rotation()).vector()\n",
    "xyz = error_letter.translation()\n",
    "print(f\"{your_initial}_letter error: rpy: {rpy}, xyz: {xyz}\")"
   ]
  },
  {
   "cell_type": "markdown",
   "metadata": {
    "cell_id": "6d7f57e1f89c41c4a17b004e166772f0",
    "deepnote_cell_type": "markdown"
   },
   "source": [
    "# Part 3: Pick and Place with Registered Geometries\n",
    "\n",
    "Phew! Now that we finally have all the geometry figured out, we can start doing pick and place with the initials. For this part, we'll mainly just be reusing the code from the previous pset with some minor edits. We'll be using a pseudoinverse controller for the pick and place, but for practice feel free to use something more complicated like an optimization-based controller which might come useful for more complicated scenarios.\n",
    "\n",
    "We'll follow the same general pattern as [Exercise 3.14](https://manipulation.csail.mit.edu/pick.html#section11): this time, you will be tasked with getting at least one of your initials upright (so that the z axis of the object and the z axis of the world are parallel). This time we'll add a few more steps so the general trajectory will follow the pattern initial -> prepick -> pick -> preplace -> place -> postplace -> initial."
   ]
  },
  {
   "cell_type": "code",
   "execution_count": 49,
   "metadata": {
    "cell_id": "129918f26a8f42eca50f10fe51791e22",
    "deepnote_cell_type": "code"
   },
   "outputs": [],
   "source": [
    "# TODO: modify the functions below to work with your letters. This will require quite a bit of trial and error.\n",
    "\n",
    "def design_grasp_pose(X_WO: RigidTransform) -> tuple[RigidTransform, RigidTransform]:\n",
    "    R_OG = (\n",
    "        RotationMatrix.MakeZRotation(0.1) @\n",
    "        RollPitchYaw(0, 0, np.pi).ToRotationMatrix()\n",
    "        @ RollPitchYaw(-np.pi / 2, 0, 0).ToRotationMatrix()\n",
    "    )\n",
    "    p_OG = [0.07, 0.08, 0.12]\n",
    "    X_OG = RigidTransform(R_OG, p_OG)\n",
    "    X_WG = X_WO.multiply(X_OG)\n",
    "    return X_OG, X_WG\n",
    "\n",
    "def design_pregrasp_pose(\n",
    "    X_WG: RigidTransform,\n",
    ") -> tuple[RigidTransform, RigidTransform, RigidTransform]:\n",
    "    X_GGApproach = RigidTransform([0.0, -0.2, 0.0])\n",
    "    X_WGApproach = X_WG @ X_GGApproach\n",
    "    return X_WGApproach\n",
    "\n",
    "def design_pregoal_pose(\n",
    "    X_WG: RigidTransform,\n",
    ") -> tuple[RigidTransform, RigidTransform, RigidTransform]:\n",
    "    X_GGApproach = RigidTransform([0.0, 0.0, -0.2])\n",
    "    X_WGApproach = X_WG @ X_GGApproach\n",
    "    return X_WGApproach\n",
    "\n",
    "\n",
    "# The goal poses have been modified to include the third initial.\n",
    "def design_goal_poses(\n",
    "    X_WO: RigidTransform, X_OG: RigidTransform\n",
    ") -> tuple[RigidTransform, RigidTransform, RigidTransform]:\n",
    "    X_WOgoal = X_WO @ RigidTransform(\n",
    "        R=RotationMatrix.MakeXRotation(np.pi / 2), p=np.array([-0.1, 0.2, 0.03])\n",
    "    )\n",
    "    X_WGgoal = X_WOgoal @ X_OG\n",
    "    return X_WGgoal\n",
    "\n",
    "\n",
    "def design_postgoal_pose(\n",
    "    X_WG: RigidTransform,\n",
    ") -> tuple[RigidTransform, RigidTransform, RigidTransform]:\n",
    "    X_GGApproach = RigidTransform([0.0, 0.0, -0.2])\n",
    "    X_WGApproach = X_WG @ X_GGApproach\n",
    "    return X_WGApproach\n",
    "\n",
    "\n",
    "def make_trajectory(\n",
    "    X_Gs: list[RigidTransform], finger_values: np.ndarray, sample_times: list[float]\n",
    ") -> tuple[Trajectory, PiecewisePolynomial]:\n",
    "    robot_position_trajectory = PiecewisePose.MakeLinear(sample_times, X_Gs)\n",
    "    robot_velocity_trajectory = robot_position_trajectory.MakeDerivative()\n",
    "    traj_wsg_command = PiecewisePolynomial.FirstOrderHold(sample_times, finger_values)\n",
    "    return robot_velocity_trajectory, traj_wsg_command"
   ]
  },
  {
   "cell_type": "code",
   "execution_count": 50,
   "metadata": {
    "cell_id": "144c77499ae0453da72af0c40a87cf75",
    "deepnote_cell_type": "code"
   },
   "outputs": [],
   "source": [
    "class PseudoInverseController(LeafSystem):\n",
    "    def __init__(self, plant: MultibodyPlant):\n",
    "        LeafSystem.__init__(self)\n",
    "        self._plant = plant\n",
    "        self._plant_context = plant.CreateDefaultContext()\n",
    "        self._iiwa = plant.GetModelInstanceByName(\"iiwa\")\n",
    "        self._G = plant.GetBodyByName(\"body\").body_frame()\n",
    "        self._W = plant.world_frame()\n",
    "\n",
    "        self.V_G_port = self.DeclareVectorInputPort(\"V_WG\", 6)\n",
    "        self.q_port = self.DeclareVectorInputPort(\"iiwa.position\", 7)\n",
    "        self.DeclareVectorOutputPort(\"iiwa.velocity\", 7, self.CalcOutput)\n",
    "        self.iiwa_start = plant.GetJointByName(\"iiwa_joint_1\").velocity_start()\n",
    "        self.iiwa_end = plant.GetJointByName(\"iiwa_joint_7\").velocity_start()\n",
    "\n",
    "    def CalcOutput(self, context: Context, output: BasicVector):\n",
    "        \"\"\"\n",
    "        fill in our code below.\n",
    "        \"\"\"\n",
    "        # evaluate the V_G_port and q_port on the current context to get those values.\n",
    "        V_G = self.V_G_port.Eval(context)\n",
    "        q = self.q_port.Eval(context)\n",
    "\n",
    "        # update the positions of the internal _plant_context according to `q`.\n",
    "        # HINT: you can write to a plant context by calling `self._plant.SetPositions`\n",
    "        # self._plant.SetPositions(self._plant_context, q)\n",
    "        self._plant.SetPositions(self._plant_context, self._iiwa, q)\n",
    "\n",
    "        # Compute the gripper jacobian\n",
    "        # HINT: the jacobian is 6 x N, with N being the number of DOFs.\n",
    "        # We only want the 6 x 7 submatrix corresponding to the IIWA\n",
    "        J_G = self._plant.CalcJacobianSpatialVelocity(\n",
    "            self._plant_context,\n",
    "            JacobianWrtVariable.kQDot,\n",
    "            self._G,\n",
    "            [0, 0, 0],\n",
    "            self._W,\n",
    "            self._W  # or self._G? unclear\n",
    "        )\n",
    "        J_G = J_G[:, self.iiwa_start : self.iiwa_end + 1]\n",
    "\n",
    "        # compute `v` by mapping the gripper velocity (from the V_G_port) to the joint space\n",
    "        v = np.linalg.pinv(J_G) @ V_G\n",
    "        output.SetFromVector(v)"
   ]
  },
  {
   "cell_type": "markdown",
   "metadata": {
    "cell_id": "de09a5926fba46559dc2e105b75d234d",
    "deepnote_cell_type": "markdown"
   },
   "source": [
    "Now that we have our controller along with the poses of each of the objects, we can finally finish our pick and place. This section will also mainly be copying over code from the previous pset:"
   ]
  },
  {
   "cell_type": "code",
   "execution_count": 51,
   "metadata": {
    "cell_id": "9003ff939b6146e28fe72da5569e9b9a",
    "deepnote_cell_type": "code"
   },
   "outputs": [
    {
     "name": "stderr",
     "output_type": "stream",
     "text": [
      "WARNING:drake:Drake materials have been assigned to a glTF file. glTF defines its own materials, so post hoc materials will be ignored and should be removed from the model specification. glTF file: '/root/.cache/drake/package_map/719c542a6323d5a8cc74fe6da84f305aebc6d7810b84cb94023d80f78e06586b-6e8a5cbbb49ceed5e2ae3a392577ca12bd01fd5983dc56151cb5fa7d55d27ed8/wsg_50_description/meshes/wsg_body.gltf'\n",
      "WARNING:drake:Drake materials have been assigned to a glTF file. glTF defines its own materials, so post hoc materials will be ignored and should be removed from the model specification. glTF file: '/root/.cache/drake/package_map/719c542a6323d5a8cc74fe6da84f305aebc6d7810b84cb94023d80f78e06586b-6e8a5cbbb49ceed5e2ae3a392577ca12bd01fd5983dc56151cb5fa7d55d27ed8/wsg_50_description/meshes/finger_with_tip.gltf'\n",
      "WARNING:drake:Drake materials have been assigned to a glTF file. glTF defines its own materials, so post hoc materials will be ignored and should be removed from the model specification. glTF file: '/root/.cache/drake/package_map/719c542a6323d5a8cc74fe6da84f305aebc6d7810b84cb94023d80f78e06586b-6e8a5cbbb49ceed5e2ae3a392577ca12bd01fd5983dc56151cb5fa7d55d27ed8/wsg_50_description/meshes/finger_with_tip.gltf'\n"
     ]
    },
    {
     "name": "stdout",
     "output_type": "stream",
     "text": [
      "point_clouds={'camera0': <pydrake.perception.DepthImageToPointCloud object at 0x7efb7445fa70>, 'camera1': <pydrake.perception.DepthImageToPointCloud object at 0x7efb5017d610>, 'camera2': <pydrake.perception.DepthImageToPointCloud object at 0x7efb5017d8b0>}\n"
     ]
    }
   ],
   "source": [
    "# we will rebuild the diagram in order to add the controller and integrator systems we need.\n",
    "builder, station = (\n",
    "    create_bimanual_IIWA14_with_table_and_initials_and_assets_and_cameras()\n",
    ")\n",
    "plant = station.GetSubsystemByName(\"plant\")\n",
    "\n",
    "station_context = station.CreateDefaultContext()\n",
    "plant_context = plant.GetMyContextFromRoot(station_context)\n",
    "\n",
    "# get initial poses of gripper and objects\n",
    "X_WGinitial = plant.EvalBodyPoseInWorld(plant_context, plant.GetBodyByName(\"body\"))\n",
    "\n",
    "# TODO: copy over the poses registered from ICP above\n",
    "X_WOinitial = letter_X_Ohat\n",
    "\n",
    "# Build trajectory keyframes\n",
    "X_OG, X_WGpick = design_grasp_pose(X_WOinitial)\n",
    "X_WGprepick = design_pregrasp_pose(X_WGpick)\n",
    "X_WGgoal = design_goal_poses(X_WOinitial, X_OG)\n",
    "X_WGpregoal = design_pregoal_pose(X_WGgoal)\n",
    "X_WGpostgoal = design_postgoal_pose(X_WGgoal)\n",
    "\n",
    "# constants for finger distances when the gripper is opened or closed\n",
    "opened = 0.107\n",
    "closed = 0.0\n",
    "\n",
    "# list of keyframes, formatted as (gripper poses, finger states)\n",
    "# for each object the robot starts in its default pose with its gripper open\n",
    "# then it goes to the prepick pose, the pick pose, closes the gripper, and then goes\n",
    "# to the place pose\n",
    "keyframes = [\n",
    "    (\"X_WGinitial\", X_WGinitial, opened),\n",
    "    (\"X_WGprepick\", X_WGprepick, opened),\n",
    "    (\"X_WGpick\", X_WGpick, opened),\n",
    "    (\"X_WGpick\", X_WGpick, closed),\n",
    "    (\"X_WGpregoal\", X_WGpregoal, closed),\n",
    "    (\"X_WGgoal\", X_WGgoal, closed),\n",
    "    (\"X_WGgoal\", X_WGgoal, opened),\n",
    "    (\"X_WGpostgoal\", X_WGpostgoal, opened),\n",
    "    (\"X_WGinitial\", X_WGinitial, opened),\n",
    "]\n",
    "\n",
    "# TODO: copy over your work from the previous pset\n",
    "gripper_poses = [keyframe[1] for keyframe in keyframes]\n",
    "finger_states = np.asarray([keyframe[2] for keyframe in keyframes]).reshape(1, -1)\n",
    "sample_times = [3 * i for i in range(len(gripper_poses))]\n",
    "traj_V_G, traj_wsg_command = make_trajectory(gripper_poses, finger_states, sample_times)\n",
    "\n",
    "# V_G_source defines a trajectory over gripper velocities. Add it to the system.\n",
    "V_G_source = builder.AddSystem(TrajectorySource(traj_V_G))\n",
    "# Add the DiffIK controller we just defined to the system\n",
    "controller = builder.AddSystem(PseudoInverseController(plant))\n",
    "# The HardwareStation expects robot commands in terms of joint angles.\n",
    "# We define the `integrator` system to map from joint_velocities to joint_angles.\n",
    "integrator = builder.AddSystem(Integrator(7))\n",
    "# wsg_source defines a trajectory of finger positions. Add it to the system.\n",
    "wsg_source = builder.AddSystem(TrajectorySource(traj_wsg_command))\n",
    "\n",
    "# TODO: connect the joint velocity source to the pseudoinverse controller\n",
    "builder.Connect(V_G_source.get_output_port(), controller.V_G_port)\n",
    "\n",
    "# TODO: connect the controller to integrator to get joint angle commands\n",
    "builder.Connect(controller.get_output_port(), integrator.get_input_port())\n",
    "\n",
    "# TODO: connect the joint angles computed by the integrateor to the iiwa.position port on the manipulation station\n",
    "builder.Connect(integrator.get_output_port(), station.GetInputPort(\"iiwa.position\"))\n",
    "\n",
    "# TODO: connect the \"iiwa.position_measured\" port on the station back to the relevant input port on the controller\n",
    "builder.Connect(station.GetOutputPort(\"iiwa.position_measured\"), controller.GetInputPort(\"iiwa.position\"))\n",
    "\n",
    "# TODO: connect the wsg_source to the \"wsg.position\" input port of the station\n",
    "builder.Connect(wsg_source.get_output_port(), station.GetInputPort(\"wsg.position\"))\n",
    "\n",
    "# visualize axes (useful for debugging)\n",
    "scenegraph = station.GetSubsystemByName(\"scene_graph\")\n",
    "AddFrameTriadIllustration(\n",
    "    scene_graph=scenegraph,\n",
    "    body=plant.GetBodyByName(f\"{your_initial}_body_link\"),\n",
    "    length=0.1,\n",
    ")\n",
    "AddFrameTriadIllustration(\n",
    "    scene_graph=scenegraph, body=plant.GetBodyByName(\"body\"), length=0.1\n",
    ")\n",
    "\n",
    "diagram = builder.Build()"
   ]
  },
  {
   "cell_type": "code",
   "execution_count": 52,
   "metadata": {
    "cell_id": "b53bfac39cae49e0b39f1657ae2454d6",
    "deepnote_cell_type": "code"
   },
   "outputs": [
    {
     "name": "stdout",
     "output_type": "stream",
     "text": [
      "sanity check, simulation will run for 24.0 seconds\n",
      "True\n"
     ]
    }
   ],
   "source": [
    "# Define the simulator\n",
    "simulator = Simulator(diagram)\n",
    "context = simulator.get_mutable_context()\n",
    "station_context = station.GetMyContextFromRoot(context)\n",
    "integrator.set_integral_value(\n",
    "    integrator.GetMyContextFromRoot(context),\n",
    "    plant.GetPositions(\n",
    "        plant.GetMyContextFromRoot(context),\n",
    "        plant.GetModelInstanceByName(\"iiwa\"),\n",
    "    ),\n",
    ")\n",
    "diagram.ForcedPublish(context)\n",
    "print(f\"sanity check, simulation will run for {traj_V_G.end_time()} seconds\")\n",
    "\n",
    "# run simulation!\n",
    "meshcat.StartRecording()\n",
    "print(running_as_notebook)\n",
    "if running_as_notebook:\n",
    "    simulator.set_target_realtime_rate(1.0)\n",
    "simulator.AdvanceTo(traj_V_G.end_time() if running_as_notebook else 0.01)\n",
    "meshcat.StopRecording()\n",
    "meshcat.PublishRecording()"
   ]
  },
  {
   "cell_type": "markdown",
   "metadata": {
    "cell_id": "cb162ac4c77e40b3842bf9ea077b5c12",
    "deepnote_cell_type": "markdown"
   },
   "source": [
    "Congratulations! If you've done everything right you should now have a fully end to end system that finds the geometry of the objects, registers the geometries with ICP, and picks them and places them upright. The final result should look something like below: \n",
    "\n",
    "![pick-and-place-geometry-initials-upright](https://raw.githubusercontent.com/RussTedrake/manipulation/master/book/figures/exercises/pick-place-geometry-initials-upright.png)\n",
    "\n",
    "As in the previous pset, if the robot fails to grasp a letter, or if the letter seems to be slipping inside the robot's fingers, experiment with different grasp poses. Different letters may call for higher or lower grasps. \n"
   ]
  },
  {
   "cell_type": "markdown",
   "metadata": {
    "cell_id": "a31e14239ee642d9878f568b3289808d",
    "deepnote_cell_type": "markdown"
   },
   "source": [
    "As a challenge (for fun), try adding all of your initials to the scene and getting them upright without knocking the other letters over! We'll cover ways to do this (motion planning) in later chapters.\n",
    "\n",
    "**Once you have everything working, take a video and upload it to gradescope!**"
   ]
  }
 ],
 "metadata": {
  "deepnote_notebook_id": "e2164712e97e4dfdb47c3e5b00899640",
  "kernelspec": {
   "display_name": ".venv",
   "language": "python",
   "name": "python3"
  },
  "language_info": {
   "codemirror_mode": {
    "name": "ipython",
    "version": 3
   },
   "file_extension": ".py",
   "mimetype": "text/x-python",
   "name": "python",
   "nbconvert_exporter": "python",
   "pygments_lexer": "ipython3",
   "version": "3.12.3"
  }
 },
 "nbformat": "4",
 "nbformat_minor": "0"
}
