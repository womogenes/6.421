{
 "cells": [
  {
   "cell_type": "markdown",
   "metadata": {
    "cell_id": "b8a391ff905a44738966d25c5897f4b2",
    "deepnote_cell_type": "markdown"
   },
   "source": [
    "# **IK for a Mobile Manipulator**\n",
    "\n",
    "In this notebook, we will solve inverse kinematics for one arm on a PR2 robot. This robot model has been modified to have convex collision geometries, and to simplify this problem, we have welded (fixed) several joints that are irrelevant to the kinematics of the arms.\n",
    "\n",
    "**Learning Objectives**\n",
    "- Get more practice implementing constraints in the `InverseKinematics` class in Drake\n",
    "- Investigate how optimization for IK changes with a mobile base\n",
    "\n",
    "**What You'll Implement**\n",
    "- IK for a mobile manipulator using the InverseKinematics class in Drake\n",
    "- Constraints that place the left gripper of the PR2 at a desired pose"
   ]
  },
  {
   "cell_type": "markdown",
   "metadata": {
    "cell_id": "539a0a3fc3444a6ba3b3465ba68474ea",
    "deepnote_cell_type": "markdown"
   },
   "source": [
    "## Setup and Imports\n",
    "\n",
    "Let us first import our standard drake functionality"
   ]
  },
  {
   "cell_type": "code",
   "execution_count": 5,
   "metadata": {
    "cell_id": "7e16bc8097854ccfb3c12f5107e45470",
    "deepnote_cell_type": "code",
    "execution_context_id": "9eea4b3e-36d2-406a-a14b-edf7f10ef596",
    "execution_millis": 422,
    "execution_start": 1758912708885,
    "source_hash": "2d96b823"
   },
   "outputs": [],
   "source": [
    "import numpy as np\n",
    "from pydrake.all import (\n",
    "    AddMultibodyPlantSceneGraph,\n",
    "    Diagram,\n",
    "    DiagramBuilder,\n",
    "    DiscreteContactApproximation,\n",
    "    InverseKinematics,\n",
    "    Joint,\n",
    "    MeshcatVisualizer,\n",
    "    MeshcatVisualizerParams,\n",
    "    MultibodyPlant,\n",
    "    Parser,\n",
    "    RigidTransform,\n",
    "    RotationMatrix,\n",
    "    SceneGraph,\n",
    "    Solve,\n",
    "    StartMeshcat,\n",
    "    WeldJoint,\n",
    "    eq,\n",
    ")\n",
    "\n",
    "from manipulation import ConfigureParser, running_as_notebook"
   ]
  },
  {
   "cell_type": "code",
   "execution_count": 6,
   "metadata": {
    "cell_id": "a6e7b205f26e4bf6abb91de6a96ef5b9",
    "deepnote_cell_type": "code",
    "execution_context_id": "9eea4b3e-36d2-406a-a14b-edf7f10ef596",
    "execution_millis": 20,
    "execution_start": 1758912712704,
    "source_hash": "6d42057f"
   },
   "outputs": [
    {
     "name": "stderr",
     "output_type": "stream",
     "text": [
      "INFO:drake:Meshcat listening for connections at http://localhost:7001\n"
     ]
    }
   ],
   "source": [
    "# Start the visualizer.\n",
    "meshcat = StartMeshcat()"
   ]
  },
  {
   "cell_type": "code",
   "execution_count": 7,
   "metadata": {
    "cell_id": "f75eabbad69c48f5aa06d8edbba65c83",
    "deepnote_cell_type": "code",
    "execution_context_id": "9eea4b3e-36d2-406a-a14b-edf7f10ef596",
    "execution_millis": 1,
    "execution_start": 1758912718505,
    "source_hash": "3bb8a039"
   },
   "outputs": [],
   "source": [
    "def ReplaceJointWithWeld(plant: MultibodyPlant, joint: Joint) -> None:\n",
    "    for actuator in [\n",
    "        plant.get_joint_actuator(index) for index in plant.GetJointActuatorIndices()\n",
    "    ]:\n",
    "        if actuator.joint() == joint:\n",
    "            plant.RemoveJointActuator(actuator)\n",
    "\n",
    "    weld = WeldJoint(\n",
    "        joint.name(), joint.frame_on_parent(), joint.frame_on_child(), RigidTransform()\n",
    "    )\n",
    "    plant.RemoveJoint(joint)\n",
    "    plant.AddJoint(weld)\n",
    "\n",
    "\n",
    "def build_env() -> tuple[Diagram, MultibodyPlant, SceneGraph]:\n",
    "    \"\"\"Load in models and build the diagram.\"\"\"\n",
    "    builder = DiagramBuilder()\n",
    "    plant, scene_graph = AddMultibodyPlantSceneGraph(builder, time_step=0.01)\n",
    "    plant.set_discrete_contact_approximation(DiscreteContactApproximation.kSap)\n",
    "    parser = Parser(plant)\n",
    "    ConfigureParser(parser)\n",
    "    parser.AddModelsFromUrl(\"package://manipulation/pr2_shelves.dmd.yaml\")\n",
    "    # Remove mimic constraints:\n",
    "    for id in plant.GetConstraintIds():\n",
    "        plant.RemoveConstraint(id)\n",
    "    # Remove some superfluous joints\n",
    "    ReplaceJointWithWeld(plant, plant.GetJointByName(\"head_pan_joint\"))\n",
    "    ReplaceJointWithWeld(plant, plant.GetJointByName(\"head_tilt_joint\"))\n",
    "    ReplaceJointWithWeld(plant, plant.GetJointByName(\"r_gripper_l_finger_joint\"))\n",
    "    ReplaceJointWithWeld(plant, plant.GetJointByName(\"r_gripper_r_finger_joint\"))\n",
    "    ReplaceJointWithWeld(plant, plant.GetJointByName(\"r_gripper_l_finger_tip_joint\"))\n",
    "    ReplaceJointWithWeld(plant, plant.GetJointByName(\"r_gripper_r_finger_tip_joint\"))\n",
    "    ReplaceJointWithWeld(plant, plant.GetJointByName(\"l_gripper_l_finger_joint\"))\n",
    "    ReplaceJointWithWeld(plant, plant.GetJointByName(\"l_gripper_r_finger_joint\"))\n",
    "    ReplaceJointWithWeld(plant, plant.GetJointByName(\"l_gripper_l_finger_tip_joint\"))\n",
    "    ReplaceJointWithWeld(plant, plant.GetJointByName(\"l_gripper_r_finger_tip_joint\"))\n",
    "    plant.Finalize()\n",
    "\n",
    "    MeshcatVisualizer.AddToBuilder(\n",
    "        builder,\n",
    "        scene_graph.get_query_output_port(),\n",
    "        meshcat,\n",
    "        MeshcatVisualizerParams(delete_on_initialization_event=False),\n",
    "    )\n",
    "\n",
    "    diagram = builder.Build()\n",
    "    return diagram, plant, scene_graph"
   ]
  },
  {
   "cell_type": "markdown",
   "metadata": {
    "cell_id": "d9e51c881a2b43b982d2953d38268dfa",
    "deepnote_cell_type": "markdown"
   },
   "source": [
    "## Part 1: Implementing IK for the PR2\n",
    "\n",
    "**YOUR TASK:** Given a `RigidTransform` X_WG, compute a robot configuration placing the left gripper at that pose. We use optimization to solve the IK problem, and we repeatedly solve the program with random initializations until it succeeds. We have implemented a skeleton of the necessary code in the following function, but you must complete several pieces:\n",
    "\n",
    "- Add position and orientation constraints to the gripper frame.\n",
    "    - The end effector should match the desired pose to within 1mm translation along each axis\n",
    "    - The rotation should be off by no more than 1 degree.\n",
    "- If `fix_base` is True, constrain the base pose $(x,y,\\theta)$ to be equal to `base_pose`.\n",
    "- Add a collision free constraint with [AddMinimumDistanceLowerBoundConstraint](https://drake.mit.edu/doxygen_cxx/classdrake_1_1multibody_1_1_inverse_kinematics.html#a2ecd71efd675a7e1a4293adb05c9b9df). The minimum distance between any pair of collision geometries should be at least 1cm.\n",
    "- Compute a random initial guess for the joint angles within the robot's joint limits. You can access the joint limits from the multibody plant, but some of the joints are angle-valued and don't have limits. For these joints, use the range $[-\\pi,\\pi]$.\n",
    "\n",
    "In this exercise, we will be using the `InverseKinematics` class in Drake. Take a look at the documentation and types of constraints we can use here: [IK Drake Documentation](https://drake.mit.edu/doxygen_cxx/classdrake_1_1multibody_1_1_inverse_kinematics.html). It may be helpful to go through the the Door Opening Notebook (exercise 6.1 in the manipulation textbook) before completing the rest of this notebook."
   ]
  },
  {
   "cell_type": "code",
   "execution_count": 8,
   "metadata": {
    "cell_id": "5eeb1f3b9d0f4c3eb6562504c77d421a",
    "deepnote_cell_type": "code",
    "execution_context_id": "9eea4b3e-36d2-406a-a14b-edf7f10ef596",
    "execution_millis": 0,
    "execution_start": 1758912880945,
    "source_hash": "73b5d63"
   },
   "outputs": [],
   "source": [
    "goal_rotation = RotationMatrix(\n",
    "    [\n",
    "        [1, 0, 0],\n",
    "        [0, -1, 0],\n",
    "        [0, 0, -1],\n",
    "    ]\n",
    ")\n",
    "goal_position = np.array([-0.83, 0.18, 1.4])\n",
    "goal_pose = RigidTransform(goal_rotation, goal_position)"
   ]
  },
  {
   "cell_type": "code",
   "execution_count": null,
   "metadata": {
    "cell_id": "125c5da308a14d7aba65da1f46d66a6a",
    "deepnote_cell_type": "code",
    "execution_context_id": "9eea4b3e-36d2-406a-a14b-edf7f10ef596",
    "execution_millis": 1,
    "execution_start": 1758912906528,
    "source_hash": "a4e7ca2"
   },
   "outputs": [],
   "source": [
    "def solve_ik(\n",
    "    X_WG: RigidTransform,\n",
    "    max_tries: int = 10,\n",
    "    fix_base: bool = False,\n",
    "    base_pose: np.ndarray | None = None,\n",
    ") -> np.ndarray | None:\n",
    "    if base_pose is None:\n",
    "        base_pose = np.zeros(3)\n",
    "\n",
    "    np.random.seed(16)  # we use this for verification - do not modify it\n",
    "\n",
    "    diagram, plant, scene_graph = build_env()\n",
    "\n",
    "    gripper_frame = plant.GetFrameByName(\"l_gripper_palm_link\")\n",
    "    world_frame = plant.world_frame()\n",
    "\n",
    "    context = diagram.CreateDefaultContext()\n",
    "    plant_context = plant.GetMyContextFromRoot(context)\n",
    "    scene_graph.GetMyContextFromRoot(context)\n",
    "\n",
    "    # Note: passing in a plant_context is necessary for collision-free constraints!\n",
    "    ik = InverseKinematics(plant, plant_context)\n",
    "    q_variables = ik.q()  # Get variables for MathematicalProgram\n",
    "    prog = ik.prog()  # Get MathematicalProgram\n",
    "    q_nominal = np.zeros(len(q_variables))\n",
    "    q_nominal[0:3] = base_pose\n",
    "    prog.AddQuadraticErrorCost(np.eye(len(q_variables)), q_nominal, q_variables)\n",
    "\n",
    "    # TODO: Add your constraints here\n",
    "    # HINT: Use AddPositionConstraint and AddOrientationConstraint like in the door opening exercise\n",
    "\n",
    "    # Position constraint\n",
    "    position_tol = 0.001\n",
    "    lower_bound = X_WG.translation() - position_tol * np.ones(3)\n",
    "    upper_bound = X_WG.translation() + position_tol * np.ones(3)\n",
    "    ik.AddPositionConstraint(\n",
    "        gripper_frame,\n",
    "        np.array([0, 0, 0]),\n",
    "        world_frame,\n",
    "        lower_bound,\n",
    "        upper_bound,\n",
    "    )\n",
    "\n",
    "    # Orientation constraint\n",
    "    orientation_tol = np.pi / 180\n",
    "    ik.AddOrientationConstraint(\n",
    "        world_frame,\n",
    "        X_WG.rotation(),\n",
    "        gripper_frame,\n",
    "        RotationMatrix.Identity(),\n",
    "        orientation_tol,\n",
    "    )\n",
    "\n",
    "    # Add collision avoidance constraint\n",
    "    ik.AddMinimumDistanceLowerBoundConstraint(0.01)  # 1cm minimum distance\n",
    "\n",
    "    # Add base pose constraint if fix_base is True\n",
    "    if fix_base:\n",
    "        for i in range(3):\n",
    "            prog.AddLinearEqualityConstraint(q_variables[i] == base_pose[i])\n",
    "\n",
    "    for count in range(max_tries):\n",
    "        # Compute a random initial guess here, within the joint limits of the robot\n",
    "        q_guess = np.zeros(len(q_variables))\n",
    "        \n",
    "        joint_indices = plant.GetJointIndices()\n",
    "        for joint_index in joint_indices:\n",
    "            joint = plant.get_joint(joint_index)\n",
    "            \n",
    "            # Skip joints with no degrees of freedom\n",
    "            if joint.num_positions() == 0:\n",
    "                continue\n",
    "                \n",
    "            # Get the position start index for this joint in the q vector\n",
    "            pos_start = joint.position_start()\n",
    "            num_pos = joint.num_positions()\n",
    "            \n",
    "            # Set random values for each position of this joint\n",
    "            for j in range(num_pos):\n",
    "                q_idx = pos_start + j\n",
    "                if q_idx < len(q_variables):\n",
    "                    try:\n",
    "                        lower_limits = joint.position_lower_limits()\n",
    "                        upper_limits = joint.position_upper_limits()\n",
    "                        \n",
    "                        if np.isfinite(lower_limits[j]) and np.isfinite(upper_limits[j]):\n",
    "                            q_guess[q_idx] = np.random.uniform(lower_limits[j], upper_limits[j])\n",
    "                        else:\n",
    "                            q_guess[q_idx] = np.random.uniform(-np.pi, np.pi)\n",
    "                    except:\n",
    "                        q_guess[q_idx] = np.random.uniform(-np.pi, np.pi)\n",
    "        \n",
    "        # Set the initial guess\n",
    "        prog.SetInitialGuess(q_variables, q_guess)\n",
    "\n",
    "        result = Solve(prog)\n",
    "\n",
    "        if running_as_notebook:\n",
    "            render_context = diagram.CreateDefaultContext()\n",
    "            plant.SetPositions(\n",
    "                plant.GetMyContextFromRoot(render_context),\n",
    "                result.GetSolution(q_variables),\n",
    "            )\n",
    "            diagram.ForcedPublish(context)\n",
    "\n",
    "        if result.is_success():\n",
    "            print(\"Succeeded in %d tries!\" % (count + 1))\n",
    "            return result.GetSolution(q_variables)\n",
    "\n",
    "    print(\"Failed!\")\n",
    "    return None"
   ]
  },
  {
   "cell_type": "markdown",
   "metadata": {
    "cell_id": "0fa7a3f3b5794517969826da70d6d06a",
    "deepnote_cell_type": "markdown"
   },
   "source": [
    "First, we show an example where we have fixed the base. It may take many tries for it to solve, or not solve at all! At each iteration, we visualize where the optimizer stopped, so you can see what the failures look like."
   ]
  },
  {
   "cell_type": "code",
   "execution_count": 34,
   "metadata": {
    "cell_id": "7a33b329a0dd430291693f0bffa5a915",
    "deepnote_cell_type": "code",
    "execution_context_id": "9eea4b3e-36d2-406a-a14b-edf7f10ef596",
    "execution_millis": 4,
    "execution_start": 1758914005216,
    "source_hash": "6fafec58"
   },
   "outputs": [
    {
     "name": "stdout",
     "output_type": "stream",
     "text": [
      "Succeeded in 5 tries!\n"
     ]
    },
    {
     "data": {
      "text/plain": [
       "array([-1.23000000e+00,  5.00000000e-02,  0.00000000e+00,  1.43042992e-01,\n",
       "       -2.68006558e-01,  2.81374826e-01, -6.76782283e-02,  0.00000000e+00,\n",
       "        1.58493515e-06,  0.00000000e+00, -6.14571171e-06,  2.77816907e-01,\n",
       "       -5.23600000e-01,  6.31783736e-01, -1.22731636e+00,  2.59559086e+00,\n",
       "       -1.49466691e+00, -5.90297448e-01])"
      ]
     },
     "execution_count": 34,
     "metadata": {},
     "output_type": "execute_result"
    }
   ],
   "source": [
    "solve_ik(\n",
    "    goal_pose,\n",
    "    max_tries=20,\n",
    "    fix_base=True,\n",
    "    base_pose=np.array([-1.23, 0.05, 0]),\n",
    ")"
   ]
  },
  {
   "cell_type": "markdown",
   "metadata": {
    "cell_id": "21b9fefd7c014c35a3801e11d164785e",
    "deepnote_cell_type": "markdown"
   },
   "source": [
    "When we allow the base to move freely, the inverse kinematics can be solved much more easily!"
   ]
  },
  {
   "cell_type": "code",
   "execution_count": 40,
   "metadata": {
    "cell_id": "55008a40a88b4dd5b275b612d9f74baa",
    "deepnote_cell_type": "code",
    "execution_context_id": "9eea4b3e-36d2-406a-a14b-edf7f10ef596",
    "execution_millis": 71,
    "execution_start": 1758912964985,
    "source_hash": "72ee61d9"
   },
   "outputs": [
    {
     "name": "stdout",
     "output_type": "stream",
     "text": [
      "Succeeded in 1 tries!\n",
      "-1.5291956409979783\n",
      "0.3430922343648811\n",
      "-0.4290710370017461\n",
      "0.31\n"
     ]
    }
   ],
   "source": [
    "result = solve_ik(goal_pose, fix_base=False)\n",
    "for x in result[:4]:\n",
    "    print(float(x))"
   ]
  },
  {
   "cell_type": "markdown",
   "metadata": {
    "cell_id": "4362eaa30a934dc7ae36d34733176031",
    "deepnote_cell_type": "markdown"
   },
   "source": [
    "Below is an autograder where you can check the correctness of your implementation."
   ]
  },
  {
   "cell_type": "code",
   "execution_count": 36,
   "metadata": {
    "cell_id": "fde4f995f9894df390f7d1fc52c2744a",
    "deepnote_cell_type": "code",
    "execution_context_id": "9eea4b3e-36d2-406a-a14b-edf7f10ef596",
    "execution_millis": 12244,
    "execution_start": 1758912816812,
    "source_hash": "aed55338"
   },
   "outputs": [
    {
     "name": "stdout",
     "output_type": "stream",
     "text": [
      "Total score is 5/5.\n",
      "\n",
      "Score for Test solve_ik is 5/5.\n",
      "- Succeeded in 1 tries!\n",
      "Succeeded in 1 tries!\n",
      "Succeeded in 1 tries!\n",
      "Failed!\n",
      "\n"
     ]
    }
   ],
   "source": [
    "from manipulation.exercises.grader import Grader\n",
    "from manipulation.exercises.mobile.test_mobile_base_ik import TestMobileBaseIk\n",
    "\n",
    "Grader.grade_output([TestMobileBaseIk], [locals()], \"results.json\")\n",
    "Grader.print_test_results(\"results.json\")"
   ]
  },
  {
   "cell_type": "markdown",
   "metadata": {
    "cell_id": "1c32b22d412748faa1e541e1d1aeab67",
    "deepnote_cell_type": "markdown"
   },
   "source": [
    "## VERIFICATION IN GRADESCOPE\n",
    "\n",
    "**Instructions:** Complete the set of exercises below in Gradescope to verify your implementation"
   ]
  },
  {
   "cell_type": "markdown",
   "metadata": {
    "cell_id": "7f3c20ca9e4348e490567dac64384aa1",
    "deepnote_cell_type": "markdown"
   },
   "source": [
    "## Verification 1: Fixed Base Failures\n",
    "\n",
    "**Question:** If we vary the x and y coordinates of the base pose for the fixed base case, we notice that sometimes IK fails to find an optimal solution. Which of the following base poses leads to a certain IK failure?\n",
    "\n",
    "A. [-1.23, 0.05, 0] \n",
    "B. [-1.5, -0.2, 0] \n",
    "C. [-1.8, 0.2, 0] \n",
    "D. [-1.4, 0.3, 0] \n"
   ]
  },
  {
   "cell_type": "markdown",
   "metadata": {
    "cell_id": "d421b2c324d746588c17695fb163003a",
    "deepnote_cell_type": "markdown"
   },
   "source": [
    "## Verification 2: Optimal Position of the Mobile Base\n",
    "\n",
    "**Question:** When we set `fix_base=False`, what is the optimal position of the base of the PR2? The first three elements from the optimal solution returned by `solve_ik` represent the xyz coordinates of the base of the PR2. Give your answer to four decimal places. \n",
    "\n",
    "**Note:** Be sure you are using the proper tolerances for the orientation and position constraints. The constraints must be precise for the verification."
   ]
  }
 ],
 "metadata": {
  "deepnote_notebook_id": "f6c05c387a314333961ca60aeed3c84a",
  "kernelspec": {
   "display_name": ".venv",
   "language": "python",
   "name": "python3"
  },
  "language_info": {
   "codemirror_mode": {
    "name": "ipython",
    "version": 3
   },
   "file_extension": ".py",
   "mimetype": "text/x-python",
   "name": "python",
   "nbconvert_exporter": "python",
   "pygments_lexer": "ipython3",
   "version": "3.12.3"
  }
 },
 "nbformat": "4",
 "nbformat_minor": "0"
}
