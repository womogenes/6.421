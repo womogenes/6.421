{
 "cells": [
  {
   "cell_type": "markdown",
   "metadata": {
    "cell_id": "3add1bb761b9479b8c2674c51340a6f2",
    "deepnote_app_block_group_id": null,
    "deepnote_app_block_order": 0,
    "deepnote_app_block_visible": true,
    "deepnote_cell_type": "markdown"
   },
   "source": [
    "# Pick and Place with Motion Planning\n",
    "\n",
    "In exercises 6.1 (door opening) and 7.2 (mobile IK), we used optimization-based motion planning to solve for the inverse kinematics of our robot arm. In exercise 6.2 (RRT), we implemented the famous sampling-based motion planning algorithms RRT and RRT-Connect. Here, we will put everything together to create a trajectory for picking up our initial and placing it on a shelf.\n",
    "\n",
    "\n",
    "**Learning Objectives:**\n",
    "1. Gain more practice definine keyframes for a trajectory\n",
    "2. Implement IK as optimization \n",
    "2. Set up utility functions for RRT-Connect\n",
    "2. Run Multi-Stage RRT-Connect\n",
    "3. Implement Shortcutting to fine tune RRT path\n",
    "\n",
    "**What you'll build:** \n",
    "- A simulation of the IIWA placing your inital on a shelf.\n",
    "- A shortcutting algorithm to smooth and optimize your simulation\n",
    "\n",
    "Let's start by importing our standard Drake functionality and getting meshcat running"
   ]
  },
  {
   "cell_type": "code",
   "execution_count": 1,
   "metadata": {
    "cell_id": "c3ad34da448b457a975096dc7b45c5d1",
    "deepnote_app_block_group_id": null,
    "deepnote_app_block_order": 1,
    "deepnote_app_block_visible": true,
    "deepnote_app_is_code_hidden": false,
    "deepnote_app_is_output_hidden": false,
    "deepnote_cell_type": "code",
    "execution_context_id": "b2e01dd1-8fc2-4c8c-a15e-20bd9e943141",
    "execution_millis": 2,
    "execution_start": 1759266454018,
    "source_hash": "4360392a"
   },
   "outputs": [],
   "source": [
    "import os\n",
    "import time\n",
    "from pathlib import Path\n",
    "from textwrap import dedent\n",
    "\n",
    "import numpy as np\n",
    "from pydrake.all import (\n",
    "    Context,\n",
    "    DiagramBuilder,\n",
    "    InverseKinematics,\n",
    "    MultibodyPlant,\n",
    "    PiecewisePolynomial,\n",
    "    RigidTransform,\n",
    "    RotationMatrix,\n",
    "    Simulator,\n",
    "    Solve,\n",
    "    StartMeshcat,\n",
    "    TrajectorySource,\n",
    ")\n",
    "\n",
    "from manipulation import running_as_notebook\n",
    "from manipulation.exercises.trajectories.rrt_planner.robot import (\n",
    "    ConfigurationSpace,\n",
    "    Range,\n",
    ")\n",
    "from manipulation.exercises.trajectories.rrt_planner.rrt_planning import (\n",
    "    RRT,\n",
    "    TreeNode,\n",
    ")\n",
    "from manipulation.letter_generation import create_sdf_asset_from_letter\n",
    "from manipulation.meshcat_utils import AddMeshcatTriad\n",
    "from manipulation.station import LoadScenario, MakeHardwareStation"
   ]
  },
  {
   "cell_type": "code",
   "execution_count": 2,
   "metadata": {
    "cell_id": "36168798151e4b20acc6b073973deca1",
    "deepnote_app_block_group_id": null,
    "deepnote_app_block_order": 2,
    "deepnote_app_block_visible": true,
    "deepnote_app_is_code_hidden": false,
    "deepnote_app_is_output_hidden": false,
    "deepnote_cell_type": "code",
    "execution_context_id": "b2e01dd1-8fc2-4c8c-a15e-20bd9e943141",
    "execution_millis": 107,
    "execution_start": 1759266456107,
    "source_hash": "67118576"
   },
   "outputs": [
    {
     "name": "stderr",
     "output_type": "stream",
     "text": [
      "INFO:drake:Meshcat listening for connections at http://localhost:7000\n"
     ]
    }
   ],
   "source": [
    "meshcat = StartMeshcat()"
   ]
  },
  {
   "cell_type": "markdown",
   "metadata": {
    "cell_id": "96ef55c67dce452c9b82ccd19abe06c8",
    "deepnote_cell_type": "markdown"
   },
   "source": [
    "## Part 1: Scene Setup\n",
    "\n",
    "Our first step will be to set up our scene. We have provided most of the scene setup for you, but you must complete the following task to load your initial into the scene.\n",
    "\n",
    "**YOUR TASK:** First, create your letter asset by filling in your initial in the cell below. We create two letters, one normal and one \"big\". The normal letter is the one that we will manipulate in simulation. We use the \"big\" letter while planning our path to give us a larger margin for error. "
   ]
  },
  {
   "cell_type": "code",
   "execution_count": 3,
   "metadata": {
    "cell_id": "a7f5ade48a4a46368d84a183ccb73e9b",
    "deepnote_cell_type": "code",
    "execution_context_id": "b2e01dd1-8fc2-4c8c-a15e-20bd9e943141",
    "execution_millis": 0,
    "execution_start": 1759266462970,
    "source_hash": "6332ac59"
   },
   "outputs": [],
   "source": [
    "outdir = \"scenarios\"\n",
    "assets_dir = \"assets\"\n",
    "os.makedirs(outdir, exist_ok=True)\n",
    "os.makedirs(assets_dir, exist_ok=True)"
   ]
  },
  {
   "cell_type": "code",
   "execution_count": 4,
   "metadata": {
    "cell_id": "46116cc0fed847438d118f0647e77a95",
    "deepnote_cell_type": "code",
    "execution_context_id": "b2e01dd1-8fc2-4c8c-a15e-20bd9e943141",
    "execution_millis": 4263,
    "execution_start": 1759266464413,
    "source_hash": "1ad672cc"
   },
   "outputs": [
    {
     "data": {
      "text/plain": [
       "PosixPath('assets/W_big_model/W.sdf')"
      ]
     },
     "execution_count": 4,
     "metadata": {},
     "output_type": "execute_result"
    }
   ],
   "source": [
    "# TODO: Put your initial here\n",
    "your_initial = \"W\"\n",
    "\n",
    "create_sdf_asset_from_letter(\n",
    "    text=your_initial,\n",
    "    font_name=\"DejaVu Sans\",\n",
    "    letter_height_meters=0.12,\n",
    "    extrusion_depth_meters=0.05,\n",
    "    mass=0.01,\n",
    "    output_dir=Path(assets_dir) / f\"{your_initial}_model\",\n",
    "    mu_static=1,\n",
    "    use_bbox_collision_geometry=True,\n",
    ")\n",
    "\n",
    "create_sdf_asset_from_letter(\n",
    "    text=your_initial,\n",
    "    font_name=\"DejaVu Sans\",\n",
    "    letter_height_meters=0.15,\n",
    "    extrusion_depth_meters=0.08,\n",
    "    mass=0.01,\n",
    "    output_dir=Path(assets_dir) / f\"{your_initial}_big_model\",\n",
    "    mu_static=1,\n",
    "    use_bbox_collision_geometry=True,\n",
    ")"
   ]
  },
  {
   "cell_type": "markdown",
   "metadata": {
    "cell_id": "c8fa83ba054240db9b682364875ee3d2",
    "deepnote_cell_type": "markdown"
   },
   "source": [
    "The next cell creates two yaml files that we will use throughout this exercise. They are written to `scenarios/shelves_scenario.yaml` and `scenarios/shelves_scenario_grasp.yaml`. `shelves_scenario.yaml` contains our normal letter model, and we use it for simulation, planning from the initial pose to the approach pose, and planning from the goal pose to the initial pose. `shelves_scenario_grasp.yaml` contains our \"big\" letter model, and we use it to plan from the approach pose to the goal pose.\n",
    "\n",
    "**Note:** Later in this exercise, you may need to edit the pose of your letter defined in `tail_normal` and/or `tail_grasp` below."
   ]
  },
  {
   "cell_type": "code",
   "execution_count": 5,
   "metadata": {
    "cell_id": "21893ace93a84a368dd291d43b61755a",
    "deepnote_cell_type": "code",
    "execution_context_id": "b2e01dd1-8fc2-4c8c-a15e-20bd9e943141",
    "execution_millis": 470,
    "execution_start": 1759266468729,
    "source_hash": "3ccb3126"
   },
   "outputs": [],
   "source": [
    "def file_uri(path: str) -> str:\n",
    "    \"\"\"Return a file:// URI for an absolute or relative path.\"\"\"\n",
    "    abs_path = path if os.path.isabs(path) else os.path.abspath(path)\n",
    "    return f\"file://{abs_path}\"\n",
    "\n",
    "\n",
    "letter_small_uri = file_uri(\n",
    "    os.path.join(assets_dir, f\"{your_initial}_model\", f\"{your_initial}.sdf\")\n",
    ")\n",
    "letter_big_uri = file_uri(\n",
    "    os.path.join(assets_dir, f\"{your_initial}_big_model\", f\"{your_initial}.sdf\")\n",
    ")\n",
    "\n",
    "base = \"\"\"\n",
    "directives:\n",
    "- add_model:\n",
    "    name: iiwa\n",
    "    file: package://drake_models/iiwa_description/sdf/iiwa7_no_collision.sdf\n",
    "    default_joint_positions:\n",
    "        iiwa_joint_1: [0]\n",
    "        iiwa_joint_2: [0.1]\n",
    "        iiwa_joint_3: [0]\n",
    "        iiwa_joint_4: [-1.2]\n",
    "        iiwa_joint_5: [0]\n",
    "        iiwa_joint_6: [ 1.6]\n",
    "        iiwa_joint_7: [0]\n",
    "- add_weld:\n",
    "    parent: world\n",
    "    child: iiwa::iiwa_link_0\n",
    "\n",
    "- add_model:\n",
    "    name: wsg\n",
    "    file: package://manipulation/hydro/schunk_wsg_50_with_tip.sdf\n",
    "- add_weld:\n",
    "    parent: iiwa::iiwa_link_7\n",
    "    child: wsg::body\n",
    "    X_PC:\n",
    "        translation: [0, 0, 0.09]\n",
    "        rotation: !Rpy { deg: [90, 0, 90]}\n",
    "\n",
    "- add_model:\n",
    "    name: table\n",
    "    file: package://manipulation/table.sdf\n",
    "- add_weld:\n",
    "    parent: world\n",
    "    child: table::table_link\n",
    "    X_PC:\n",
    "        translation: [0.0, 0.0, -0.05]\n",
    "        rotation: !Rpy { deg: [0, 0, -90] }\n",
    "\n",
    "- add_model:\n",
    "    name: stand\n",
    "    file: package://manipulation/stand.sdf\n",
    "- add_weld:\n",
    "    parent: world\n",
    "    child: stand::stand_body\n",
    "    X_PC:\n",
    "        translation: [0.5, 0.0, 0.0]   # 50 cm in front of iiwa base\n",
    "        rotation: !Rpy { deg: [0, 0, 0] }\n",
    "\n",
    "# Shelves\n",
    "- add_model:\n",
    "    name: shelves\n",
    "    file: package://manipulation/shelves.sdf\n",
    "- add_weld:\n",
    "    parent: world\n",
    "    child: shelves::shelves_body\n",
    "    X_PC:\n",
    "        translation: [0.9, 0, 0.3995]   # was 0.9057, now ~25cm further in +x\n",
    "        rotation: !Rpy { deg: [0, 0, 180]}\n",
    "\n",
    "- add_model:\n",
    "    name: cheez_it\n",
    "    file: package://manipulation/hydro/003_cracker_box.sdf\n",
    "- add_weld:\n",
    "    parent: shelves::shelves_body\n",
    "    child: cheez_it::base_link_cracker\n",
    "    X_PC:\n",
    "        translation: [0.05, -0.18, 0.245]\n",
    "        rotation: !Rpy { deg: [-90, 0, 0] }\n",
    "\n",
    "- add_model:\n",
    "    name: sugar_box\n",
    "    file: package://manipulation/hydro/004_sugar_box.sdf\n",
    "- add_weld:\n",
    "    parent: shelves::shelves_body\n",
    "    child: sugar_box::base_link_sugar\n",
    "    X_PC:\n",
    "        translation: [0.1, 0.15, -0.035]\n",
    "        rotation: !Rpy { deg: [-90, 0, -90] }\n",
    "\n",
    "- add_model:\n",
    "    name: soup_can\n",
    "    file: package://manipulation/hydro/005_tomato_soup_can.sdf\n",
    "- add_weld:\n",
    "    parent: shelves::shelves_body\n",
    "    child: soup_can::base_link_soup\n",
    "    X_PC:\n",
    "        translation: [0.1, -0.17, -0.072]\n",
    "        rotation: !Rpy { deg: [-90, 0, -90] }\n",
    "\n",
    "- add_model:\n",
    "    name: soup_can2\n",
    "    file: package://manipulation/hydro/005_tomato_soup_can.sdf\n",
    "- add_weld:\n",
    "    parent: shelves::shelves_body\n",
    "    child: soup_can2::base_link_soup\n",
    "    X_PC:\n",
    "        translation: [0.1, -0.17, 0.03]\n",
    "        rotation: !Rpy { deg: [-90, 0, -90] }\n",
    "\n",
    "- add_model:\n",
    "    name: gelatin_box\n",
    "    file: package://manipulation/hydro/009_gelatin_box.sdf\n",
    "- add_weld:\n",
    "    parent: shelves::shelves_body\n",
    "    child: gelatin_box::base_link_gelatin\n",
    "    X_PC:\n",
    "        translation: [0.1, 0.02, -0.087]\n",
    "        rotation: !Rpy { deg: [-90, 0, -90] }\n",
    "\n",
    "- add_model:\n",
    "    name: gelatin_box2\n",
    "    file: package://manipulation/hydro/009_gelatin_box.sdf\n",
    "- add_weld:\n",
    "    parent: shelves::shelves_body\n",
    "    child: gelatin_box2::base_link_gelatin\n",
    "    X_PC:\n",
    "        translation: [0.03, -0.01, -0.087]\n",
    "        rotation: !Rpy { deg: [-90, 0, -90] }\n",
    "\n",
    "- add_model:\n",
    "    name: mustard\n",
    "    file: package://manipulation/hydro/006_mustard_bottle.sdf\n",
    "- add_weld:\n",
    "    parent: stand::stand_body\n",
    "    child: mustard::base_link_mustard\n",
    "    X_PC:\n",
    "        translation: [-0.068, 0.1, 0.263]\n",
    "        rotation: !Rpy { deg: [0, 0, 0] }\n",
    "\"\"\"\n",
    "\n",
    "tail_normal = f\"\"\"\n",
    "# Letter placed in the scene (free body pose)\n",
    "- add_model:\n",
    "    name: {your_initial}_letter\n",
    "    file: {letter_small_uri}\n",
    "    default_free_body_pose:\n",
    "        {your_initial}_body_link:\n",
    "            translation: [0.52, -0.07, 0.26]\n",
    "            rotation: !Rpy {{ deg: [0, 0, 180] }}\n",
    "\n",
    "model_drivers:\n",
    "    iiwa: !IiwaDriver\n",
    "      control_mode: position_only\n",
    "      hand_model_name: wsg\n",
    "    wsg: !SchunkWsgDriver {{}}\n",
    "\"\"\"\n",
    "\n",
    "tail_grasp = f\"\"\"\n",
    "# Letter attached to the gripper\n",
    "- add_model:\n",
    "    name: {your_initial}_letter\n",
    "    file: {letter_big_uri}\n",
    "- add_weld:\n",
    "    parent: wsg::body\n",
    "    child: {your_initial}_letter::{your_initial}_body_link\n",
    "    X_PC:\n",
    "        translation: [0.03, 0.2, 0.09]\n",
    "        rotation: !Rpy {{ deg: [0, 90, 180]}}\n",
    "\n",
    "model_drivers:\n",
    "    iiwa: !IiwaDriver\n",
    "      control_mode: position_only\n",
    "      hand_model_name: wsg\n",
    "    wsg: !SchunkWsgDriver {{}}\n",
    "\"\"\"\n",
    "\n",
    "\n",
    "shelves_scenario_yaml = dedent(base + tail_normal).lstrip()\n",
    "shelves_scenario_grasp_yaml = dedent(base + tail_grasp).lstrip()\n",
    "\n",
    "# Write files if they don't already exist\n",
    "path_place = os.path.join(outdir, \"shelves_scenario.yaml\")\n",
    "path_grasp = os.path.join(outdir, \"shelves_scenario_grasp.yaml\")\n",
    "\n",
    "\n",
    "with open(path_place, \"w\") as f:\n",
    "    f.write(shelves_scenario_yaml)\n",
    "\n",
    "with open(path_grasp, \"w\") as f:\n",
    "    f.write(shelves_scenario_grasp_yaml)"
   ]
  },
  {
   "cell_type": "markdown",
   "metadata": {
    "cell_id": "f65ee0fb3da442f3b6de9cc1dbfbc4fe",
    "deepnote_cell_type": "markdown"
   },
   "source": [
    "In this problem, we will be constructing a path planning algorithm for our robot. TODO so, we need the ability to simulate possible paths and detect wheter or not they create a collision with the environment. This becomes more complicated when we want our robot arm to be grasping an object for a portion of the path. \n",
    "\n",
    "The complexity arises from the fact that manipulating our object involves introducing desired collisions. Even initially, there are collisions we desire such as those between objects in the environment and the surfaces they are resting on. When we manipulate an object, we want only a specific set of collisions between the gripper to be allowed. Before moving the object, we are okay with it colliding the table, but after we lift it up, we are not.\n",
    "\n",
    "To address these complexities, we have defined the class below for you. This provides us with the ability to run our path planning algorithm in two different environments: one when we do not have the letter grasped, and one for when we do. This class also contains some useful methods for our planning algorithm, such as `ExistsCollision` which checks if a given robot configuration results in unwanted contact with the environment."
   ]
  },
  {
   "cell_type": "code",
   "execution_count": 6,
   "metadata": {
    "cell_id": "6cda1e90f4a44d5180ad13f83bfaf13d",
    "deepnote_app_block_group_id": null,
    "deepnote_app_block_order": 10,
    "deepnote_app_block_visible": true,
    "deepnote_app_is_code_hidden": true,
    "deepnote_app_is_output_hidden": false,
    "deepnote_cell_type": "code",
    "execution_context_id": "b2e01dd1-8fc2-4c8c-a15e-20bd9e943141",
    "execution_millis": 2,
    "execution_start": 1759266481388,
    "source_hash": "f251e7e2"
   },
   "outputs": [],
   "source": [
    "class ManipulationStationSim:\n",
    "    def __init__(\n",
    "        self,\n",
    "        scenario_file: str | None = None,\n",
    "        q_iiwa: tuple | None = None,\n",
    "        gripper_setpoint: float = 0.1,\n",
    "    ) -> None:\n",
    "\n",
    "        self.scenario = None\n",
    "        self.station = None\n",
    "        self.plant = None\n",
    "        self.scene_graph = None\n",
    "        self.query_output_port = None\n",
    "        self.diagram = None\n",
    "\n",
    "        # contexts\n",
    "        self.context_diagram = None\n",
    "        self.context_station = None\n",
    "        self.context_scene_graph = None\n",
    "        self.context_plant = None\n",
    "\n",
    "        # mark initial configuration\n",
    "        self.q0 = None\n",
    "\n",
    "        self.okay_collisions = None\n",
    "        self.gripper_setpoint = gripper_setpoint\n",
    "\n",
    "        if scenario_file is not None:\n",
    "            self.choose_sim(scenario_file, q_iiwa, gripper_setpoint)\n",
    "\n",
    "    def choose_sim(\n",
    "        self,\n",
    "        scenario_file: str,\n",
    "        q_iiwa: tuple | None = None,\n",
    "        gripper_setpoint: float = 0.1,\n",
    "    ) -> None:\n",
    "\n",
    "        self.clear_meshcat()\n",
    "\n",
    "        self.scenario = LoadScenario(filename=scenario_file)\n",
    "        builder = DiagramBuilder()\n",
    "        self.station = builder.AddSystem(\n",
    "            MakeHardwareStation(self.scenario, meshcat=meshcat)\n",
    "        )\n",
    "\n",
    "        self.plant = self.station.GetSubsystemByName(\"plant\")\n",
    "\n",
    "        self.scene_graph = self.station.GetSubsystemByName(\"scene_graph\")\n",
    "\n",
    "        # scene graph query output port.\n",
    "        self.query_output_port = self.scene_graph.GetOutputPort(\"query\")\n",
    "\n",
    "        self.diagram = builder.Build()\n",
    "\n",
    "        # contexts\n",
    "        self.context_diagram = self.diagram.CreateDefaultContext()\n",
    "        self.context_station = self.diagram.GetSubsystemContext(\n",
    "            self.station, self.context_diagram\n",
    "        )\n",
    "        self.station.GetInputPort(\"iiwa.position\").FixValue(\n",
    "            self.context_station, np.zeros(7)\n",
    "        )\n",
    "        self.station.GetInputPort(\"wsg.position\").FixValue(self.context_station, [0.1])\n",
    "        self.context_scene_graph = self.station.GetSubsystemContext(\n",
    "            self.scene_graph, self.context_station\n",
    "        )\n",
    "        self.context_plant = self.station.GetMutableSubsystemContext(\n",
    "            self.plant, self.context_station\n",
    "        )\n",
    "\n",
    "        # mark initial configuration\n",
    "        self.gripper_setpoint = gripper_setpoint\n",
    "        if q_iiwa is None:\n",
    "            self.q0 = self.plant.GetPositions(\n",
    "                self.context_plant, self.plant.GetModelInstanceByName(\"iiwa\")\n",
    "            )\n",
    "        else:\n",
    "            self.q0 = q_iiwa\n",
    "            self.SetStationConfiguration(q_iiwa, gripper_setpoint)\n",
    "\n",
    "        self.DrawStation(self.q0, 0.1)\n",
    "        query_object = self.query_output_port.Eval(self.context_scene_graph)\n",
    "        self.okay_collisions = len(query_object.ComputePointPairPenetration())\n",
    "\n",
    "    def clear_meshcat(self) -> None:\n",
    "        meshcat.Delete()\n",
    "\n",
    "    def SetStationConfiguration(self, q_iiwa: tuple, gripper_setpoint: float) -> None:\n",
    "        \"\"\"\n",
    "        :param q_iiwa: (7,) tuple, joint angle of robots in radian.\n",
    "        :param gripper_setpoint: float, gripper opening distance in meters.\n",
    "        :return:\n",
    "        \"\"\"\n",
    "        self.plant.SetPositions(\n",
    "            self.context_plant,\n",
    "            self.plant.GetModelInstanceByName(\"iiwa\"),\n",
    "            q_iiwa,\n",
    "        )\n",
    "        self.plant.SetPositions(\n",
    "            self.context_plant,\n",
    "            self.plant.GetModelInstanceByName(\"wsg\"),\n",
    "            [-gripper_setpoint / 2, gripper_setpoint / 2],\n",
    "        )\n",
    "\n",
    "    def DrawStation(self, q_iiwa: tuple, gripper_setpoint: float = 0.1) -> None:\n",
    "        self.SetStationConfiguration(q_iiwa, gripper_setpoint)\n",
    "        self.diagram.ForcedPublish(self.context_diagram)\n",
    "\n",
    "    def ExistsCollision(self, q_iiwa: tuple, gripper_setpoint: float) -> bool:\n",
    "        \"\"\"\n",
    "        Checks for an unwanted collision for a given robot configuration\n",
    "        (q_iiwa) and gripper setpoint (gripper_setpoint)\n",
    "\n",
    "        Args:\n",
    "            q_iiwa: given robot configuration\n",
    "            gripper_setpoint: gripper width\n",
    "        Returns:\n",
    "            bool: True if an unwnted collision exists, False otherwise\n",
    "        \"\"\"\n",
    "\n",
    "        self.SetStationConfiguration(q_iiwa, gripper_setpoint)\n",
    "        query_object = self.query_output_port.Eval(self.context_scene_graph)\n",
    "        collision_pairs = query_object.ComputePointPairPenetration()\n",
    "\n",
    "        return len(collision_pairs) > self.okay_collisions"
   ]
  },
  {
   "cell_type": "markdown",
   "metadata": {
    "cell_id": "5f49d000dcf44bccba83acc54a9dd500",
    "deepnote_cell_type": "markdown"
   },
   "source": [
    "Run the following block to load your scene and view it in meshcat!"
   ]
  },
  {
   "cell_type": "code",
   "execution_count": 7,
   "metadata": {
    "cell_id": "ef235e9027744f3c908eaa253bfc2366",
    "deepnote_cell_type": "code",
    "execution_context_id": "b2e01dd1-8fc2-4c8c-a15e-20bd9e943141",
    "execution_millis": 2364,
    "execution_start": 1759266484604,
    "source_hash": "f2346a22"
   },
   "outputs": [],
   "source": [
    "# Don't change these variable names!\n",
    "scenario_base_file = os.path.join(outdir, \"shelves_scenario.yaml\")\n",
    "scenario_grasp_file = os.path.join(outdir, \"shelves_scenario_grasp.yaml\")\n",
    "\n",
    "sim = ManipulationStationSim(scenario_base_file)"
   ]
  },
  {
   "cell_type": "markdown",
   "metadata": {
    "cell_id": "98e3e2c41bb2422398a291b27bd58ed7",
    "deepnote_cell_type": "markdown"
   },
   "source": [
    "Once you have everything set up, the scene should look like this (with your initial in place of the \"M\"):\n",
    "\n",
    "**Note:** You may need to adjust the pose of your letter in `tail_normal` (3 cells above) so that it rests on the stand as shown in the image below.\n",
    "\n",
    "![plan_letters_scenario.png](https://raw.githubusercontent.com/RussTedrake/manipulation/master/book/figures/exercises/plan_letters_scenario.png)"
   ]
  },
  {
   "cell_type": "markdown",
   "metadata": {
    "cell_id": "7cdd8a8cfa274f16bf535717595a59d9",
    "deepnote_app_block_group_id": null,
    "deepnote_app_block_order": 12,
    "deepnote_app_block_visible": true,
    "deepnote_cell_type": "markdown"
   },
   "source": [
    "## Part 2: Defining the Keyframes\n",
    "\n",
    "Now that we have our scene all set up, we need to define they keyframes we will use to construct the trajectory. Our goal trajectory is to first grasp the letter and then place it on the top shelf, to the right of the cheez-it box.\n",
    "\n",
    "**YOUR TASK:** Complete the functions below to define:\n",
    "- The pregrasp pose\n",
    "- The grasp pose\n",
    "- The goal pose\n",
    "\n",
    "You may recognize that we have a smaller set of poses we must define here compared to previous pick and place exercises. This is because we are using motion planning now! We now just need start and end frames for our motion planning algorithms instead of needing to define more keyframes along the way.\n",
    "\n",
    "The image below shows what our final keyframes should look like. When defining the keyframes, pay attention to the pose of the gripper relative to the object and relative to the world.\n",
    "\n",
    "**Note:** The pregrasp pose should result in a gripper pose such that, while holding your letter, neither your gripper or your letter are in contact with other objects in the environment (including the stand). This is *critical* for successfully planning our path. For now, you can just guess what this pose should be. Further below, we provide you with a way to check that your pregrasp configuration is okay.\n",
    "\n",
    "![plan_letters_keyframes.png](https://raw.githubusercontent.com/RussTedrake/manipulation/master/book/figures/exercises/plan_letters_keyframes.png)"
   ]
  },
  {
   "cell_type": "code",
   "execution_count": null,
   "metadata": {
    "cell_id": "d857ffe42e24465f9d9e2a60f4c34e0b",
    "deepnote_cell_type": "code",
    "execution_context_id": "b2e01dd1-8fc2-4c8c-a15e-20bd9e943141",
    "execution_millis": 2,
    "execution_start": 1759266489044,
    "source_hash": "544a3bad"
   },
   "outputs": [],
   "source": [
    "def design_grasp_pose(X_WO: RigidTransform) -> RigidTransform:\n",
    "    # Define your grasp pose here\n",
    "    # You should return the gripper position relative to the world\n",
    "\n",
    "    R_OG = RotationMatrix.MakeYRotation(-np.pi/2) @ RotationMatrix.MakeZRotation(np.pi)\n",
    "    p_OG = np.array([0, 0.16, 0])\n",
    "    return X_WO @ RigidTransform(R_OG, p_OG)\n",
    "\n",
    "def design_pregrasp_pose(\n",
    "    X_WG: RigidTransform,\n",
    ") -> RigidTransform:\n",
    "    # Define your pregrasp pose here\n",
    "    # You should return the gripper position relative to the world\n",
    "\n",
    "    return X_WG @ RigidTransform(p=[0, -0.1, 0])\n",
    "\n",
    "def design_goal_poses() -> RigidTransform:\n",
    "    # TODO: define your goal pose here, this is where we want to release the object to place it on the shelf\n",
    "    # You should return the gripper position relative to the world\n",
    "\n",
    "    R_WG = RotationMatrix.MakeZRotation(-np.pi/2) @ RotationMatrix.MakeYRotation(-np.pi/2)\n",
    "    return RigidTransform(R=R_WG, p=[0.55, -0.10, 0.65])"
   ]
  },
  {
   "cell_type": "markdown",
   "metadata": {
    "cell_id": "b5db778245f84157ae0d7b7a23de0b43",
    "deepnote_cell_type": "markdown"
   },
   "source": [
    "Once you have defined the keyframes, run this cell to visualize them in the scene.\n",
    "\n",
    "**NOTE:** Since our keyframes are defining the start and end of our trajectories, they have a major impact on how the path finding algorithm works. You may find that your initial definition of the keyframes does not perform well, even if they look okay in the scene. Expect to iterate on these keyframe definitions!"
   ]
  },
  {
   "cell_type": "code",
   "execution_count": 9,
   "metadata": {
    "cell_id": "1140eea743e740799c0a3ef9fdc9bcbe",
    "deepnote_app_block_group_id": null,
    "deepnote_app_block_order": 14,
    "deepnote_app_block_visible": true,
    "deepnote_app_is_code_hidden": true,
    "deepnote_app_is_output_hidden": false,
    "deepnote_cell_type": "code",
    "execution_context_id": "b2e01dd1-8fc2-4c8c-a15e-20bd9e943141",
    "execution_millis": 2,
    "execution_start": 1759266492446,
    "source_hash": "72030b71"
   },
   "outputs": [],
   "source": [
    "# Helper function to express mesh poses in terms of COM rather than geometric center for the letter\n",
    "\n",
    "\n",
    "def get_initial_pose(\n",
    "    plant: MultibodyPlant, body_name: str, plant_context: Context\n",
    ") -> RigidTransform:\n",
    "    body = plant.GetBodyByName(body_name)\n",
    "    X_WS = plant.EvalBodyPoseInWorld(plant_context, body)\n",
    "    X_SO = RigidTransform(body.default_spatial_inertia().get_com())\n",
    "    return X_WS @ X_SO\n",
    "\n",
    "\n",
    "# Get initial poses of gripper and objects\n",
    "X_WGinitial = sim.plant.EvalBodyPoseInWorld(\n",
    "    sim.context_plant, sim.plant.GetBodyByName(\"body\")\n",
    ")\n",
    "X_WOinitial = get_initial_pose(\n",
    "    sim.plant, f\"{your_initial}_body_link\", sim.context_plant\n",
    ")\n",
    "\n",
    "# Get keyframes\n",
    "X_WGgrasp = design_grasp_pose(X_WOinitial)\n",
    "X_WGapproach = design_pregrasp_pose(X_WGgrasp)\n",
    "X_WGgoal = design_goal_poses()\n",
    "\n",
    "# Add Triads\n",
    "AddMeshcatTriad(meshcat, \"Initial Pose\", X_PT=X_WGinitial, opacity=0.5)\n",
    "AddMeshcatTriad(meshcat, \"Pre-Grasp Pose\", X_PT=X_WGapproach, opacity=0.5)\n",
    "AddMeshcatTriad(meshcat, \"Pick Pose\", X_PT=X_WGgrasp, opacity=0.5)\n",
    "AddMeshcatTriad(meshcat, \"Place Pose\", X_PT=X_WGgoal, opacity=0.5)"
   ]
  },
  {
   "cell_type": "markdown",
   "metadata": {
    "cell_id": "77e621cf31dd4b059832e285e3b17754",
    "deepnote_app_block_group_id": null,
    "deepnote_app_block_order": 15,
    "deepnote_app_block_visible": true,
    "deepnote_cell_type": "markdown"
   },
   "source": [
    "## Part 3: IK for Joint Configuration at Keyframes\n",
    "\n",
    "Now that we have the keyframes we will need to construct our trajectory, we need to find the optimal joint configurations at those keyframes. We can do this using Inverse Kinematics, just like we saw in the door opening and mobile IK notebooks!\n",
    "\n",
    "**YOUR TASK:** Implement the `solve_ik_for_pose` function below, which takes in a target end effector pose `X_WG_target` and solves IK for the optimal joint configuration to achieve the desired pose. You must implement three components:\n",
    "- A position constraint such that the end effector should match the desired pose to within `pos_tol` translation along each axis\n",
    "- A rotation constraint such that the rotation is off by no more than `theta_bound`\n",
    "- A joint centering cost based on the baseline `q_nominal` passed in. Note that our default `q_nominal` values are the initial joint positions of the iiwa.\n",
    "\n",
    "**Note:** Do not change the default values for `theta_bound` and `pos_tol`. If you do, your implementation will likely fail the tests below."
   ]
  },
  {
   "cell_type": "code",
   "execution_count": 10,
   "metadata": {
    "cell_id": "f3997d3b29a8465292c83c1a261d7036",
    "deepnote_app_block_group_id": null,
    "deepnote_app_block_order": 16,
    "deepnote_app_block_visible": true,
    "deepnote_app_is_code_hidden": true,
    "deepnote_app_is_output_hidden": false,
    "deepnote_cell_type": "code",
    "execution_context_id": "b2e01dd1-8fc2-4c8c-a15e-20bd9e943141",
    "execution_millis": 0,
    "execution_start": 1759266502409,
    "source_hash": "c26ae6e4"
   },
   "outputs": [],
   "source": [
    "def solve_ik_for_pose(\n",
    "    plant: MultibodyPlant,\n",
    "    X_WG_target: RigidTransform,\n",
    "    q_nominal: tuple = tuple(\n",
    "        np.array([0.0, 0.1, 0.0, -1.2, 0.0, 1.6, 0.0])  # the inital joint poisitions\n",
    "    ),\n",
    "    theta_bound: float = 0.01 * np.pi,\n",
    "    pos_tol: float = 0.015,\n",
    ") -> tuple:\n",
    "    \"\"\"\n",
    "    Solve IK for a single end-effector pose.\n",
    "\n",
    "    Args:\n",
    "        plant: A MultibodyPlant with the iiwa + gripper model.\n",
    "        X_WG_target: Desired gripper pose in world frame.\n",
    "        q_nominal: Nominal joint angles for joint-centering.\n",
    "        theta_bound: Orientation tolerance (radians).\n",
    "        pos_tol: Position tolerance (meters).\n",
    "\n",
    "    Returns:\n",
    "        q_solution: 7 element tuple representing the Optimal\n",
    "        joint configuration. Each element of the tuple is a float.\n",
    "    \"\"\"\n",
    "    world_frame = plant.world_frame()\n",
    "    gripper_frame = plant.GetFrameByName(\"body\")\n",
    "\n",
    "    ik = InverseKinematics(plant)\n",
    "    q_vars = ik.q()[:7]\n",
    "    prog = ik.prog()\n",
    "\n",
    "    # TODO: Add Orientation constraint\n",
    "    ik.AddOrientationConstraint(\n",
    "        world_frame, X_WG_target.rotation(),\n",
    "        gripper_frame, RotationMatrix.Identity(),\n",
    "        theta_bound,\n",
    "    )\n",
    "\n",
    "    # TODO: Add Position constraint\n",
    "    lower_bound = X_WG_target.translation() - pos_tol\n",
    "    upper_bound = X_WG_target.translation() + pos_tol\n",
    "    ik.AddPositionConstraint(\n",
    "        gripper_frame,\n",
    "        np.array([0, 0, 0]),\n",
    "        world_frame,\n",
    "        lower_bound,\n",
    "        upper_bound,\n",
    "    )\n",
    "\n",
    "    # TODO: Add Joint centering cost\n",
    "    prog.AddQuadraticErrorCost(\n",
    "        np.eye(7), q_nominal, q_vars\n",
    "    )\n",
    "\n",
    "    # Initial guess\n",
    "    prog.SetInitialGuess(q_vars, q_nominal)\n",
    "\n",
    "    result = Solve(prog)\n",
    "    if not result.is_success():\n",
    "        raise RuntimeError(\"IK did not succeed\")\n",
    "\n",
    "    return tuple(result.GetSolution(q_vars))"
   ]
  },
  {
   "cell_type": "markdown",
   "metadata": {
    "cell_id": "1ac2d30ee576499691bebd2a954cb861",
    "deepnote_cell_type": "markdown"
   },
   "source": [
    "### Check your Implementation\n",
    "Run the cell below to test your `solve_ik_for_pose` function. Note that this just checks that IK works as expected, not that your poses are correct."
   ]
  },
  {
   "cell_type": "code",
   "execution_count": 11,
   "metadata": {
    "cell_id": "a3dfdc3afc434db183747437eb4086a5",
    "deepnote_cell_type": "code",
    "execution_context_id": "b2e01dd1-8fc2-4c8c-a15e-20bd9e943141",
    "execution_millis": 2,
    "execution_start": 1759266507654,
    "source_hash": "7c6aaf83"
   },
   "outputs": [
    {
     "name": "stdout",
     "output_type": "stream",
     "text": [
      "Total score is 5/5.\n",
      "\n",
      "Score for Test solve_ik_for_pose is 5/5.\n"
     ]
    }
   ],
   "source": [
    "from manipulation.exercises.grader import Grader\n",
    "from manipulation.exercises.trajectories.test_plan_place_initials import TestIK_initials\n",
    "\n",
    "Grader.grade_output([TestIK_initials], [locals()], \"results.json\")\n",
    "Grader.print_test_results(\"results.json\")"
   ]
  },
  {
   "cell_type": "markdown",
   "metadata": {
    "cell_id": "1c6f3eed9d7a45e1ab574836a14d35dd",
    "deepnote_cell_type": "markdown"
   },
   "source": [
    "Now that we have our IK setup, we want to get the optimal joint configurations at our pick and goal poses. \n",
    "\n",
    "**YOUR TASK:** Call the `solve_ik_for_pose` function in order to get the joint configurations for the initial, grasp and goal poses. Pay close attention to the nominal joint configurations you are passing in. Think about which nominal configurations we want to use for each goal pose. "
   ]
  },
  {
   "cell_type": "code",
   "execution_count": 20,
   "metadata": {
    "cell_id": "62f1e31576294bd38f18cd95536fcd05",
    "deepnote_cell_type": "code",
    "execution_context_id": "b2e01dd1-8fc2-4c8c-a15e-20bd9e943141",
    "execution_millis": 2,
    "execution_start": 1759266510205,
    "source_hash": "2c15c6a8"
   },
   "outputs": [],
   "source": [
    "# TODO: solve for the optimal joint configurations for the initial, grasp and goal poses\n",
    "q_initial = solve_ik_for_pose(sim.plant, X_WGinitial)\n",
    "q_approach = solve_ik_for_pose(sim.plant, X_WGapproach)\n",
    "q_grasp = solve_ik_for_pose(sim.plant, X_WGgrasp)\n",
    "q_goal = solve_ik_for_pose(sim.plant, X_WGgoal)"
   ]
  },
  {
   "cell_type": "markdown",
   "metadata": {
    "cell_id": "dfc9f559e8d743a5a60da9648cca9aef",
    "deepnote_cell_type": "markdown"
   },
   "source": [
    "Run the cell below to visualize the iiwa at the optimal grasp configuration. Feel free to change out `q_grasp` for whichever pose you want to visualize for when the letter is not being grasped.\n",
    "\n",
    "**Note:** If you need to change the initial pose of your letter on the stand, edit the pose defined in `tail_normal` above and recreate the .yaml files."
   ]
  },
  {
   "cell_type": "code",
   "execution_count": 14,
   "metadata": {
    "cell_id": "e94b9901e9964464b167f00fba2dbd4a",
    "deepnote_cell_type": "code",
    "execution_context_id": "b2e01dd1-8fc2-4c8c-a15e-20bd9e943141",
    "execution_millis": 2564,
    "execution_start": 1759266521122,
    "source_hash": "f0848062"
   },
   "outputs": [],
   "source": [
    "sim.choose_sim(scenario_base_file, q_iiwa=q_initial)\n",
    "sim.DrawStation(q_initial, 0.1)"
   ]
  },
  {
   "cell_type": "markdown",
   "metadata": {
    "cell_id": "06ce03df0f0a4aeb92fd12380ca07c2c",
    "deepnote_cell_type": "markdown"
   },
   "source": [
    "Run the cell below to visualize the iiwa in the pre-grasp configuration while the letter is being grasped (technically, here the letter is welded to the gripper). An image of what it should look like in the `q_approach` configuration is shown below\n",
    "\n",
    "**YOUR TASK:** \n",
    "- Ensure that neither the gripper nor the letter is in contact with any other object in the environment for the `q_approach` configuration. If the gripper or letter is in contact with the environment, you will need to change your `X_WGapproach`\n",
    "- Ensure that the letter is concentric with the gripper and is barely touching or has a minimal offset from the gripper base. Essentially, how it might look when being grasped. If not, edit the letter pose defined in `tail_grasp` above and recreate the .yaml files.\n",
    "\n",
    "**Note:** Here, we use a slightly larger model for the letter. This is to account for small variations of the letter pose relative to the gripper frame.\n",
    "\n",
    "![plan_letters_grasp.png](https://raw.githubusercontent.com/RussTedrake/manipulation/master/book/figures/exercises/plan_letters_grasp.png)"
   ]
  },
  {
   "cell_type": "code",
   "execution_count": 15,
   "metadata": {
    "cell_id": "d6d5bc5f392342f598c4ab4fa9afceab",
    "deepnote_cell_type": "code",
    "execution_context_id": "b2e01dd1-8fc2-4c8c-a15e-20bd9e943141",
    "execution_millis": 3473,
    "execution_start": 1759266529075,
    "source_hash": "c0ded09b"
   },
   "outputs": [],
   "source": [
    "sim.choose_sim(scenario_grasp_file, q_iiwa=q_approach)\n",
    "sim.DrawStation(q_approach, 0.1)"
   ]
  },
  {
   "cell_type": "markdown",
   "metadata": {
    "cell_id": "edf09fe4fed443fc88f968aac55a543f",
    "deepnote_app_block_group_id": null,
    "deepnote_app_block_order": 18,
    "deepnote_app_block_visible": true,
    "deepnote_cell_type": "markdown"
   },
   "source": [
    "## Part 4: Implementing RRT-Connect\n",
    "At this point, we have created our initial model, setup our planning environments, defined our keyframe poses, and found the robot configurations corresponding to those poses. Now, we can finally solve for our collision-free path!\n",
    "\n",
    "\n",
    "### 4.1 RRT Utilities\n",
    "\n",
    "Implementing RRT from scratch can be very time-consuming. Below, we have provided you the important features you will need to implement the RRT algorithm."
   ]
  },
  {
   "cell_type": "code",
   "execution_count": 16,
   "metadata": {
    "cell_id": "25f7d6882e3f47fdaaa09a2ac41bb4fe",
    "deepnote_app_block_group_id": null,
    "deepnote_app_block_order": 19,
    "deepnote_app_block_visible": true,
    "deepnote_app_is_code_hidden": true,
    "deepnote_app_is_output_hidden": false,
    "deepnote_cell_type": "code",
    "execution_context_id": "b2e01dd1-8fc2-4c8c-a15e-20bd9e943141",
    "execution_millis": 1,
    "execution_start": 1759266537183,
    "source_hash": "4e82c1a0"
   },
   "outputs": [],
   "source": [
    "class RRT_Connect_tools:\n",
    "    def __init__(\n",
    "        self,\n",
    "        sim: ManipulationStationSim,\n",
    "        start: tuple,\n",
    "        goal: tuple,\n",
    "    ) -> None:\n",
    "\n",
    "        self.sim = sim\n",
    "        self.start = start\n",
    "        self.goal = goal\n",
    "\n",
    "        nq = 7\n",
    "        joint_limits = np.zeros((nq, 2))\n",
    "        for i in range(nq):\n",
    "            joint = sim.plant.GetJointByName(\"iiwa_joint_%i\" % (i + 1))\n",
    "            joint_limits[i, 0] = joint.position_lower_limits()[0]\n",
    "            joint_limits[i, 1] = joint.position_upper_limits()[0]\n",
    "\n",
    "        range_list = []\n",
    "        for joint_limit in joint_limits:\n",
    "            range_list.append(Range(joint_limit[0], joint_limit[1]))\n",
    "\n",
    "        def l2_distance(q: tuple):\n",
    "            sum = 0\n",
    "            for q_i in q:\n",
    "                sum += q_i**2\n",
    "            return np.sqrt(sum)\n",
    "\n",
    "        max_steps = nq * [np.pi / 180 * 1.5]  # two degrees\n",
    "        self.cspace = ConfigurationSpace(range_list, l2_distance, max_steps)\n",
    "        self.rrt_tree_start = RRT(TreeNode(start), self.cspace)\n",
    "        self.rrt_tree_goal = RRT(TreeNode(goal), self.cspace)\n",
    "\n",
    "    def find_nearest_node_in_RRT_graph(self, q_sample: tuple) -> TreeNode:\n",
    "        \"\"\"Return nearest node to q_sample in a single-tree context (expects self.rrt_tree).\"\"\"\n",
    "        nearest_node = self.rrt_tree.nearest(q_sample)\n",
    "        return nearest_node\n",
    "\n",
    "    def sample_node_in_configuration_space(self) -> tuple:\n",
    "        \"\"\"Sample a random valid configuration from the c-space.\"\"\"\n",
    "        q_sample = self.cspace.sample()\n",
    "        return q_sample\n",
    "\n",
    "    def calc_intermediate_qs_wo_collision(\n",
    "        self, start: tuple, end: tuple\n",
    "    ) -> list[tuple]:\n",
    "        \"\"\"\n",
    "        Checks if the path from start to end collides with any obstacles.\n",
    "\n",
    "        Args:\n",
    "            start: tuple of floats - tuple describing robot's start\n",
    "                configuration\n",
    "            end: tuple of floats - tuple describing robot's end configuration\n",
    "\n",
    "        Returns:\n",
    "            list of tuples along the path that are not in collision.\n",
    "        \"\"\"\n",
    "        path = self.cspace.path(start, end)\n",
    "        safe_path = []\n",
    "        for configuration in path:\n",
    "            if self.sim.ExistsCollision(np.array(configuration), 0.1):\n",
    "                return safe_path\n",
    "            safe_path.append(configuration)\n",
    "        return safe_path\n",
    "\n",
    "    def node_reaches_goal(self, q_step: tuple, tol: float = 1e-2) -> bool:\n",
    "        \"\"\"Check if q_step is within tol of the goal in c-space distance.\"\"\"\n",
    "        return self.cspace.distance(q_step, self.goal) <= tol\n",
    "\n",
    "    def backup_path_from_node(self, node: TreeNode) -> list[tuple]:\n",
    "        \"\"\"Reconstruct path from tree root to the given node (inclusive).\"\"\"\n",
    "        path = [node.value]\n",
    "        while node.parent is not None:\n",
    "            node = node.parent\n",
    "            path.append(node.value)\n",
    "        path.reverse()\n",
    "        return path\n",
    "\n",
    "    def extend_once(self, tree: RRT, q_target: tuple) -> TreeNode | None:\n",
    "        \"\"\"Extend tree by one step toward q_target (returns new node or None if blocked).\"\"\"\n",
    "        q_near_node = tree.nearest(q_target)\n",
    "        edge = self.calc_intermediate_qs_wo_collision(q_near_node.value, q_target)\n",
    "        if len(edge) <= 1:\n",
    "            return None\n",
    "        q_step = edge[1]\n",
    "        new_node = tree.add_configuration(q_near_node, q_step)\n",
    "\n",
    "        return new_node\n",
    "\n",
    "    def connect_greedy(\n",
    "        self, tree: RRT, q_target: tuple, eps: float = 1e-2\n",
    "    ) -> tuple[TreeNode | None, bool]:\n",
    "        \"\"\"\n",
    "        Greedily add as many collision-free segments as possible toward q_target.\n",
    "\n",
    "        Returns:\n",
    "            (last_node, complete): last_node reached; complete=True if within eps.\n",
    "        \"\"\"\n",
    "        status = True\n",
    "        near_node = tree.nearest(q_target)\n",
    "        q_near_node = near_node.value\n",
    "        path = self.calc_intermediate_qs_wo_collision(q_near_node, q_target)\n",
    "        if len(path) > 1:\n",
    "            last_node = near_node\n",
    "            for j in range(1, len(path)):\n",
    "                last_node = tree.add_configuration(last_node, path[j])\n",
    "\n",
    "            return last_node, (self.cspace.distance(last_node.value, q_target) < eps)\n",
    "\n",
    "        return (None, False)\n",
    "\n",
    "    @staticmethod\n",
    "    def concat_paths(path_a: list[tuple], path_b: list[tuple]) -> list[tuple]:\n",
    "        \"\"\"Concatenate two paths, de-duplicating the shared joint at the seam.\"\"\"\n",
    "        if path_a and path_b and path_a[-1] == path_b[0]:\n",
    "            return path_a + path_b[1:]\n",
    "        return path_a + path_b"
   ]
  },
  {
   "cell_type": "markdown",
   "metadata": {
    "cell_id": "13afa7d715224917971ad36533d8c36e",
    "deepnote_app_block_group_id": null,
    "deepnote_app_block_order": 20,
    "deepnote_app_block_visible": true,
    "deepnote_cell_type": "markdown"
   },
   "source": [
    "### 4.2 RRT Connect\n",
    "\n",
    "With the utilities defined, we can finally plan our robot's trajectory.\n",
    "\n",
    "**YOUR TASK**: Complete the function `rrt_connect_planning`. You may find it helpful to reference the methods implemented above and review the RRT-Connect psuedocode in the `rrt_planning` notebook. Note that the utilities provided here are slightly different. As such, the code will need to be slightly different as well."
   ]
  },
  {
   "cell_type": "code",
   "execution_count": 17,
   "metadata": {
    "cell_id": "48e88cadc59844f6bd5c0a08322dd255",
    "deepnote_cell_type": "code",
    "execution_context_id": "b2e01dd1-8fc2-4c8c-a15e-20bd9e943141",
    "execution_millis": 1,
    "execution_start": 1759266540880,
    "source_hash": "cf8fc647"
   },
   "outputs": [],
   "source": [
    "def rrt_connect_planning(\n",
    "    sim: \"ManipulationStationSim\",\n",
    "    q_start: tuple,\n",
    "    q_goal: tuple,\n",
    "    max_iterations: int = 2000,\n",
    "    eps: float = 1e-2,\n",
    ") -> tuple[list[tuple] | None, int]:\n",
    "    \"\"\"\n",
    "    Plan a path from q_start to q_goal using RRT-Connect.\n",
    "\n",
    "    Args:\n",
    "        sim: a ManipulationStationSim object\n",
    "        q_start: Start configuration for iiw (tuple of 7 floats)\n",
    "        q_goal: Goal configuration for iiwa (tuple of 7 floats)\n",
    "        max_iterations: Maximum RRT expansion attempts.\n",
    "        eps: Step/connection tolerance\n",
    "\n",
    "    Returns:\n",
    "        (path, iterations):\n",
    "            path: List of configurations from q_start to q_goal if found; otherwise None.\n",
    "                Each configuration is represented as a tuple of 7 floats\n",
    "            iterations: Number of iterations performed (<= max_iterations).\n",
    "    \"\"\"\n",
    "\n",
    "    tools = RRT_Connect_tools(sim, start=q_start, goal=q_goal)\n",
    "    T_start = tools.rrt_tree_start\n",
    "    T_goal = tools.rrt_tree_goal\n",
    "\n",
    "    for it in range(max_iterations):\n",
    "        ## TODO: Sample a location in the configuration space\n",
    "        q_rand = tools.sample_node_in_configuration_space()\n",
    "\n",
    "        ## TODO: Select which tree to grow and extend it\n",
    "        if it % 2 == 0:\n",
    "            T_active = T_start\n",
    "            T_other = T_goal\n",
    "            active_is_goal = False\n",
    "        else:\n",
    "            T_active = T_goal\n",
    "            T_other = T_start\n",
    "            active_is_goal = True\n",
    "        node_a = tools.extend_once(T_active, q_rand)\n",
    "        ## TODO: Attempt a greedy connection between the trees\n",
    "        if node_a is not None:\n",
    "            q_new = node_a.value\n",
    "            node_b, connected = tools.connect_greedy(T_other, q_new, eps)\n",
    "            ## TODO: If the trees connect, construct the complete path from q_start to q_goal and return it\n",
    "            if connected:\n",
    "                path_a = tools.backup_path_from_node(node_a)\n",
    "                path_b = tools.backup_path_from_node(node_b)\n",
    "                if active_is_goal:\n",
    "                    path_a, path_b = path_b, path_a\n",
    "                path = tools.concat_paths(path_a, list(reversed(path_b)))\n",
    "                return path, it+1\n",
    "\n",
    "    return None, max_iterations"
   ]
  },
  {
   "cell_type": "markdown",
   "metadata": {
    "cell_id": "fcb4fae8c58c4922a63249d5c8250397",
    "deepnote_app_block_group_id": null,
    "deepnote_app_block_order": 22,
    "deepnote_app_block_visible": true,
    "deepnote_cell_type": "markdown"
   },
   "source": [
    "### 4.3 Plan the Paths\n",
    "Run the cell below to construct your paths! Note that you may need to run this multiple times to find valid paths. Feel free to try out different numbers for `max_iterations`. This can take ~1 minute to run"
   ]
  },
  {
   "cell_type": "code",
   "execution_count": null,
   "metadata": {
    "cell_id": "6e349d564cd54b9ebae46ffc7d7b63b9",
    "deepnote_app_block_group_id": null,
    "deepnote_app_block_order": 23,
    "deepnote_app_block_visible": true,
    "deepnote_app_is_code_hidden": true,
    "deepnote_app_is_output_hidden": false,
    "deepnote_cell_type": "code",
    "execution_context_id": "b2e01dd1-8fc2-4c8c-a15e-20bd9e943141",
    "execution_millis": 68185,
    "execution_start": 1759266548643,
    "source_hash": "6455dfaf"
   },
   "outputs": [
    {
     "name": "stdout",
     "output_type": "stream",
     "text": [
      "Pick Iter: 873\n",
      "Place Iter: 2408\n",
      "Reset Iter: 1\n"
     ]
    }
   ],
   "source": [
    "sim.choose_sim(scenario_base_file, q_iiwa=q_initial)\n",
    "path_pick, num_iter = rrt_connect_planning(\n",
    "    sim, q_initial, q_approach, max_iterations=3000\n",
    ")\n",
    "print(f\"Pick Iter: {num_iter}\")\n",
    "\n",
    "sim.choose_sim(scenario_grasp_file, q_iiwa=q_approach)\n",
    "path_place, num_iter = rrt_connect_planning(\n",
    "    sim, q_approach, q_goal, max_iterations=8000,\n",
    ")\n",
    "print(f\"Place Iter: {num_iter}\")\n",
    "\n",
    "sim.choose_sim(scenario_base_file, q_iiwa=q_goal)\n",
    "path_reset, num_iter = rrt_connect_planning(\n",
    "    sim, q_goal, q_initial, max_iterations=16000,\n",
    ")\n",
    "print(f\"Reset Iter: {num_iter}\")"
   ]
  },
  {
   "cell_type": "markdown",
   "metadata": {
    "cell_id": "66aef1b405534a05b08c902d0af05d31",
    "deepnote_cell_type": "markdown"
   },
   "source": [
    "Run the cells below to see your paths in action! Do you notice any jittery behavior from your robot? If so, this is completely normal and famously referred to as the \"RRT Dance\". Don't worry about it for now, we'll deal with it later."
   ]
  },
  {
   "cell_type": "code",
   "execution_count": 22,
   "metadata": {
    "cell_id": "e99b464f3650452c84ed9ea419a02779",
    "deepnote_app_block_group_id": null,
    "deepnote_app_block_order": 24,
    "deepnote_app_block_visible": true,
    "deepnote_app_is_code_hidden": true,
    "deepnote_app_is_output_hidden": false,
    "deepnote_cell_type": "code",
    "execution_context_id": "b2e01dd1-8fc2-4c8c-a15e-20bd9e943141",
    "execution_millis": 2,
    "execution_start": 1759265788544,
    "source_hash": "7ac47356"
   },
   "outputs": [],
   "source": [
    "def vis_path(scenario_file: str, path: list[tuple]) -> None:\n",
    "    if path is not None:\n",
    "        # show path in meshcat\n",
    "        sim.choose_sim(scenario_file)\n",
    "        for q in path:\n",
    "            q = np.array(q) \n",
    "            sim.DrawStation(\n",
    "                q,\n",
    "                0.1,\n",
    "            )\n",
    "            if running_as_notebook:\n",
    "                time.sleep(0.016)"
   ]
  },
  {
   "cell_type": "code",
   "execution_count": 23,
   "metadata": {
    "cell_id": "a488401261054b55aff76f150a45bd13",
    "deepnote_app_block_group_id": null,
    "deepnote_app_block_order": 25,
    "deepnote_app_block_visible": true,
    "deepnote_app_is_code_hidden": true,
    "deepnote_app_is_output_hidden": false,
    "deepnote_cell_type": "code",
    "execution_context_id": "b2e01dd1-8fc2-4c8c-a15e-20bd9e943141",
    "execution_millis": 9258,
    "execution_start": 1759265791569,
    "source_hash": "43052a8a"
   },
   "outputs": [],
   "source": [
    "vis_path(scenario_base_file, path_pick)"
   ]
  },
  {
   "cell_type": "code",
   "execution_count": 24,
   "metadata": {
    "cell_id": "c13a37983ecc4344a538c55e55e9dc13",
    "deepnote_app_block_group_id": null,
    "deepnote_app_block_order": 26,
    "deepnote_app_block_visible": true,
    "deepnote_app_is_code_hidden": true,
    "deepnote_app_is_output_hidden": false,
    "deepnote_cell_type": "code",
    "execution_context_id": "b2e01dd1-8fc2-4c8c-a15e-20bd9e943141",
    "execution_millis": 52871,
    "execution_start": 1759265816498,
    "source_hash": "eab15786"
   },
   "outputs": [],
   "source": [
    "vis_path(scenario_grasp_file, path_place)"
   ]
  },
  {
   "cell_type": "code",
   "execution_count": 25,
   "metadata": {
    "cell_id": "5555c5e378954b06901b8dbe054b3915",
    "deepnote_app_block_group_id": null,
    "deepnote_app_block_order": 27,
    "deepnote_app_block_visible": true,
    "deepnote_app_is_code_hidden": true,
    "deepnote_app_is_output_hidden": false,
    "deepnote_cell_type": "code",
    "execution_context_id": "b2e01dd1-8fc2-4c8c-a15e-20bd9e943141",
    "execution_millis": 31134,
    "execution_start": 1759265869438,
    "source_hash": "8b959e9c"
   },
   "outputs": [],
   "source": [
    "# Note: you may notice the letter \"teleport\" back to the table when you visualize this path, that is OK and expected\n",
    "vis_path(scenario_base_file, path_reset)"
   ]
  },
  {
   "cell_type": "markdown",
   "metadata": {
    "cell_id": "a2a8a1afd9e24362b1576323102d1662",
    "deepnote_cell_type": "markdown"
   },
   "source": [
    "### Check your Implementation\n",
    "Run the cell below to test your RRT-Connect function for all 3 paths. Variable names must be unaltered from the original file for the tests to pass. This cell may take ~1 minute to run."
   ]
  },
  {
   "cell_type": "code",
   "execution_count": 35,
   "metadata": {
    "cell_id": "26f9fdd7fe304802b6f875b4fd019863",
    "deepnote_cell_type": "code",
    "execution_context_id": "b2e01dd1-8fc2-4c8c-a15e-20bd9e943141",
    "execution_millis": 8771,
    "execution_start": 1759266965890,
    "source_hash": "fc13c6a8"
   },
   "outputs": [
    {
     "name": "stdout",
     "output_type": "stream",
     "text": [
      "Total score is 12/12.\n",
      "\n",
      "Score for test_path_pick (manipulation.exercises.trajectories.test_plan_place_initials.TestRRT_Connect_initials.test_path_pick) is 3/3.\n",
      "- run 0 fails to find a solution\n",
      "run 1 fails to find a solution\n",
      "run 2 found a solution!\n",
      "\n",
      "\n",
      "Score for test_path_place (manipulation.exercises.trajectories.test_plan_place_initials.TestRRT_Connect_initials.test_path_place) is 6/6.\n",
      "- run 0 found a solution!\n",
      "\n",
      "\n",
      "Score for test_path_reset (manipulation.exercises.trajectories.test_plan_place_initials.TestRRT_Connect_initials.test_path_reset) is 3/3.\n",
      "- run 0 found a solution!\n",
      "\n"
     ]
    }
   ],
   "source": [
    "from manipulation.exercises.grader import Grader\n",
    "from manipulation.exercises.trajectories.test_plan_place_initials import (\n",
    "    TestRRT_Connect_initials,\n",
    ")\n",
    "\n",
    "Grader.grade_output([TestRRT_Connect_initials], [locals()], \"results.json\")\n",
    "Grader.print_test_results(\"results.json\")"
   ]
  },
  {
   "cell_type": "markdown",
   "metadata": {
    "cell_id": "156bc66e56ba401db9edcfd9ab7ef986",
    "deepnote_app_block_group_id": null,
    "deepnote_app_block_order": 30,
    "deepnote_app_block_visible": true,
    "deepnote_cell_type": "markdown"
   },
   "source": [
    "## Part 5: Putting it all together  \n",
    "Now it's time to put our plan in action on the robot!"
   ]
  },
  {
   "cell_type": "markdown",
   "metadata": {
    "cell_id": "626b7c2dbcab4a02bc6b54edc53a335e",
    "deepnote_cell_type": "markdown"
   },
   "source": [
    "### 5.1: Construct Trajectory\n",
    "\n",
    "We planned our path for the robot earlier, but in its current form, it won't run on the robot. Run the cell below to take our paths above and create the corresponding trajectory."
   ]
  },
  {
   "cell_type": "code",
   "execution_count": 27,
   "metadata": {
    "cell_id": "72fb61319f154f85a872b33a5a66abb0",
    "deepnote_cell_type": "code",
    "execution_context_id": "b2e01dd1-8fc2-4c8c-a15e-20bd9e943141",
    "execution_millis": 0,
    "execution_start": 1759266628659,
    "source_hash": "bbb8ba20"
   },
   "outputs": [
    {
     "name": "stdout",
     "output_type": "stream",
     "text": [
      "T=28.200s\n"
     ]
    }
   ],
   "source": [
    "# Assumes: np, PiecewisePolynomial, and these variables exist:\n",
    "# path_pick, q_grasp, q_approach, path_place, path_reset\n",
    "\n",
    "dt = 0.05\n",
    "pause_before_action = 0.5  # pause BEFORE close/open\n",
    "pause_after_action = 0.5  # pause AFTER  close/open\n",
    "opened, closed = 0.107, 0.0\n",
    "\n",
    "\n",
    "def _q7(q: tuple) -> np.ndarray:\n",
    "    \"\"\"Ensure a 7-DoF joint vector shaped (7,).\"\"\"\n",
    "    return np.asarray(q, float).reshape(\n",
    "        7,\n",
    "    )\n",
    "\n",
    "def _append_path(\n",
    "    times: list[float], Q: list[np.ndarray], t: float, path: list[np.ndarray]\n",
    ") -> float:\n",
    "    \"\"\"Append a polyline with uniform dt; returns updated time.\"\"\"\n",
    "    for q in path:\n",
    "        if times:\n",
    "            t += dt\n",
    "        times.append(t)\n",
    "        Q.append(_q7(q))\n",
    "    return t\n",
    "\n",
    "\n",
    "def _hold(\n",
    "    times: list[float],\n",
    "    Q: list[np.ndarray],\n",
    "    t: float,\n",
    "    q_hold: np.ndarray,\n",
    "    duration: float,\n",
    ") -> float:\n",
    "    \"\"\"Hold current pose for 'duration' seconds; returns updated time.\"\"\"\n",
    "    if duration <= 0:\n",
    "        return t\n",
    "    t += duration\n",
    "    times.append(t)\n",
    "    Q.append(_q7(q_hold))\n",
    "    return t\n",
    "\n",
    "\n",
    "def build_trajs(\n",
    "    path_pick: list[np.ndarray],\n",
    "    q_grasp: np.ndarray,\n",
    "    q_approach: np.ndarray,\n",
    "    path_place: list[np.ndarray],\n",
    "    path_reset: list[np.ndarray],\n",
    ") -> tuple[\"PiecewisePolynomial\", \"PiecewisePolynomial\"]:\n",
    "    \"\"\"Sequence:\n",
    "    pick → q_grasp (OPEN) → pause 0.5 → CLOSE (no motion) → pause 0.5 → q_approach →\n",
    "    place → pause 0.5 → OPEN (no motion) → pause 0.5 → reset\n",
    "    \"\"\"\n",
    "    times: list[float] = []\n",
    "    Q: list[np.ndarray] = []\n",
    "    t = 0.0\n",
    "\n",
    "    # 1) path_pick  (ends at q_approach typically)\n",
    "    t = _append_path(times, Q, t, path_pick)\n",
    "\n",
    "    # 2) move to q_grasp (WSG stays OPEN)\n",
    "    if not np.allclose(Q[-1], q_grasp):\n",
    "        t += 10 * dt\n",
    "        times.append(t)\n",
    "        Q.append(_q7(q_grasp))\n",
    "\n",
    "    # 3) pause BEFORE CLOSE (no motion)\n",
    "    t = _hold(times, Q, t, q_grasp, pause_before_action)\n",
    "\n",
    "    # 4) CLOSE (command change at this instant), then pause AFTER CLOSE (no motion)\n",
    "    t_close = t\n",
    "    t = _hold(times, Q, t, q_grasp, pause_after_action)\n",
    "\n",
    "    # 5) return to q_approach\n",
    "    if not np.allclose(Q[-1], q_approach):\n",
    "        t += 10 * dt\n",
    "        times.append(t)\n",
    "        Q.append(_q7(q_approach))\n",
    "\n",
    "    # 6) path_place\n",
    "    t = _append_path(times, Q, t, path_place)\n",
    "\n",
    "    # 7) pause BEFORE OPEN (no motion)\n",
    "    t = _hold(times, Q, t, Q[-1], pause_before_action)\n",
    "\n",
    "    # 8) OPEN (command change at this instant), then pause AFTER OPEN (no motion)\n",
    "    t_open = t\n",
    "    t = _hold(times, Q, t, Q[-1], pause_after_action)\n",
    "\n",
    "    # 9) path_reset\n",
    "    t = _append_path(times, Q, t, path_reset)\n",
    "\n",
    "    # Build Drake trajectories (7×N for iiwa, 1×K for WSG)\n",
    "    q_samples = np.stack(Q, axis=1)\n",
    "    traj_q = PiecewisePolynomial.FirstOrderHold(times, q_samples)\n",
    "\n",
    "    wsg_knots = [times[0], t_close, t_open, times[-1]]\n",
    "    wsg_vals = [opened, closed, opened, opened]\n",
    "    traj_wsg = PiecewisePolynomial.ZeroOrderHold(\n",
    "        wsg_knots, np.asarray(wsg_vals).reshape(1, -1)\n",
    "    )\n",
    "\n",
    "    print(f\"T={times[-1]:.3f}s\")\n",
    "    return traj_q, traj_wsg\n",
    "\n",
    "\n",
    "traj_q, traj_wsg = build_trajs(path_pick, q_grasp, q_approach, path_place, path_reset)"
   ]
  },
  {
   "cell_type": "markdown",
   "metadata": {
    "cell_id": "72dd9fda1a834fa880cfa89e013f5c7c",
    "deepnote_app_block_group_id": null,
    "deepnote_app_block_order": 34,
    "deepnote_app_block_visible": true,
    "deepnote_cell_type": "markdown"
   },
   "source": [
    "### 5.2 Setup and Run the Simulation\n",
    "**YOUR TASK**: Add the trajectories to the diagram, connect them to the robot arm and gripper, and run the simulation!\n",
    "\n",
    "**Note:** Some trajectories will move very close to objects. As such, small errors in execution can lead to small collisions, which you may see as a flashing contact force in the simulation. This is acceptable. However, your robot should avoid any major collisions with the environment."
   ]
  },
  {
   "cell_type": "code",
   "execution_count": 28,
   "metadata": {
    "cell_id": "cb678342d2354af7bd293e40e7b7c2e0",
    "deepnote_cell_type": "code",
    "deepnote_to_be_reexecuted": true,
    "execution_context_id": "b2e01dd1-8fc2-4c8c-a15e-20bd9e943141",
    "execution_millis": 12844,
    "execution_start": 1759266091538,
    "source_hash": "643b885e"
   },
   "outputs": [],
   "source": [
    "# Load the scenario_base_file scenario\n",
    "scenario = LoadScenario(filename=scenario_base_file)\n",
    "\n",
    "# Create a diagram builder\n",
    "builder = DiagramBuilder()\n",
    "\n",
    "# Make a hardware station with the scenario and our meshcat\n",
    "station = builder.AddSystem(MakeHardwareStation(scenario, meshcat=meshcat))\n",
    "\n",
    "# Add the trajectories to the diagram as TrajectorySources\n",
    "traj_source_q = builder.AddSystem(TrajectorySource(traj_q))\n",
    "traj_source_wsg = builder.AddSystem(TrajectorySource(traj_wsg))\n",
    "\n",
    "# Connect the trajectory source output ports to the arm and gripper position input ports\n",
    "builder.Connect(traj_source_q.get_output_port(), station.GetInputPort(\"iiwa.position\"))\n",
    "builder.Connect(traj_source_wsg.get_output_port(), station.GetInputPort(\"wsg.position\"))\n",
    "\n",
    "# Build and run the simulation\n",
    "diagram = builder.Build()\n",
    "simulation = Simulator(diagram)\n",
    "\n",
    "if running_as_notebook:\n",
    "    simulation.set_target_realtime_rate(1.0)\n",
    "\n",
    "ctx = simulation.get_mutable_context()\n",
    "diagram.ForcedPublish(ctx)\n",
    "\n",
    "meshcat.StartRecording()\n",
    "simulation.Initialize()\n",
    "simulation.AdvanceTo(\n",
    "    max(traj_q.end_time(), traj_wsg.end_time()) if running_as_notebook else 0.1\n",
    ")\n",
    "meshcat.StopRecording()\n",
    "meshcat.PublishRecording()"
   ]
  },
  {
   "cell_type": "markdown",
   "metadata": {
    "cell_id": "2ab81453cdb74bc9ad967d944038fe88",
    "deepnote_cell_type": "markdown"
   },
   "source": [
    "## Part 6: Shortcutting\n",
    "\n",
    "In the last problem, you may have noticed the famous \"RRT Dance\". This is a natural byproduct of the random process used for constructing nodes. There are a lot of algorithms used to improve the path generated by RRT. Here, we explore \"shortcutting\". \n",
    "\n",
    "The pseudocode for shortcutting is shown below."
   ]
  },
  {
   "cell_type": "markdown",
   "metadata": {
    "cell_id": "6fc0b806ea9747cf9e3142b805b9d300",
    "deepnote_cell_type": "markdown"
   },
   "source": [
    "**Shortcutting**\n",
    "    \n",
    "    if path is too short:\n",
    "        return path\n",
    "\n",
    "    for t = 1 to passes:\n",
    "        choose indices i < j with j ≥ i + min_separation // if not possible, break\n",
    "        q_a ← path[i]\n",
    "        q_b ← path[j]\n",
    "\n",
    "        edge ← direct_path_wo_collision(q_a, q_b)   // try a direct, collision-free connection\n",
    "\n",
    "        if edge successfully reaches q_b:\n",
    "            path ← ReplaceSubpath(path, i, j, edge)   // splice shortcut in\n",
    "\n",
    "    path ← Clean(path)   // e.g., drop immediate duplicates, minor tidying\n",
    "    return path\n"
   ]
  },
  {
   "cell_type": "markdown",
   "metadata": {
    "cell_id": "bf304b242be54f6e8b803de65fb86ddd",
    "deepnote_cell_type": "markdown"
   },
   "source": [
    "Here we define some helper functions that you may find useful."
   ]
  },
  {
   "cell_type": "code",
   "execution_count": null,
   "metadata": {
    "cell_id": "dcc9f1713d874cd99505bd8704ba6167",
    "deepnote_cell_type": "code",
    "execution_context_id": "b2e01dd1-8fc2-4c8c-a15e-20bd9e943141",
    "execution_millis": 1,
    "execution_start": 1759266716608,
    "source_hash": "653ad863"
   },
   "outputs": [],
   "source": [
    "def splice_with_shortcut(\n",
    "    path: list[tuple], i: int, j: int, edge: list[tuple]\n",
    ") -> list[tuple]:\n",
    "    \"\"\"\n",
    "    Replace the inclusive subpath path[i:j+1] with 'edge' (which connects\n",
    "    path[i] -> path[j]). Returns a new path list.\n",
    "    Assumes edge[0] == path[i] and edge[-1] == path[j].\n",
    "    \"\"\"\n",
    "    prefix = path[:i]\n",
    "    suffix = path[j + 1 :]\n",
    "    return prefix + edge + suffix\n",
    "\n",
    "\n",
    "def check_equal(a: tuple, b: tuple, atol: float = 1e-9) -> bool:\n",
    "    \"\"\"Robust waypoint equality for tuples/ndarrays.\"\"\"\n",
    "    return np.allclose(np.asarray(a), np.asarray(b), atol=atol, rtol=0.0)"
   ]
  },
  {
   "cell_type": "markdown",
   "metadata": {
    "cell_id": "7a1c898743704c5b91499bfb8edc4114",
    "deepnote_cell_type": "markdown"
   },
   "source": [
    "**YOUR TASK**: Implement the `shortcut_path` function below."
   ]
  },
  {
   "cell_type": "code",
   "execution_count": 39,
   "metadata": {
    "cell_id": "90565adbd77c485cbbfd116064dbe36d",
    "deepnote_cell_type": "code",
    "execution_context_id": "b2e01dd1-8fc2-4c8c-a15e-20bd9e943141",
    "execution_millis": 1,
    "execution_start": 1759266736286,
    "source_hash": "bb4952e5"
   },
   "outputs": [],
   "source": [
    "def shortcut_path(\n",
    "    sim: ManipulationStationSim,\n",
    "    path: list[tuple],\n",
    "    passes: int = 200,\n",
    "    min_separation: int = 2,\n",
    ") -> list[tuple]:\n",
    "    \"\"\"\n",
    "    Randomized shortcutting / smoothing.\n",
    "\n",
    "    Each pass:\n",
    "      1) Randomly select indices i < j with j >= i + min_separation.\n",
    "      2) Try a direct connection using calc_intermediate_qs_wo_collision.\n",
    "      3) If the connection fully reaches path[j], splice it in.\n",
    "\n",
    "    Args:\n",
    "        path: list of configurations (tuples), e.g., [q0, q1, ..., qN].\n",
    "            each configuration is a tuple of 7 floats\n",
    "        passes: number of random attempts (upper bound).\n",
    "        min_separation: require j >= i + min_separation to consider a shortcut.\n",
    "\n",
    "    Returns:\n",
    "        smoothed_path\n",
    "    \"\"\"\n",
    "    if not path or len(path) < 3:\n",
    "        return path  # return just the path to match call sites\n",
    "\n",
    "    tools = RRT_Connect_tools(sim, path[0], path[-1])\n",
    "    rng = np.random.default_rng()\n",
    "\n",
    "    current = path\n",
    "\n",
    "    for _ in range(passes):\n",
    "        # Recompute length in case prior passes shortened the path.\n",
    "        n = len(current)\n",
    "        if n < 3:\n",
    "            break\n",
    "\n",
    "        # Choose i and j with the required separation.\n",
    "        max_i = n - min_separation - 1\n",
    "        if max_i < 0:\n",
    "            break\n",
    "        i = int(rng.integers(0, max_i + 1))\n",
    "        j_low = i + min_separation\n",
    "        j = int(rng.integers(j_low, n))\n",
    "\n",
    "        q_i = current[i]\n",
    "        q_j = current[j]\n",
    "\n",
    "        # Try to directly connect q_i -> q_j without collision.\n",
    "        edge = tools.calc_intermediate_qs_wo_collision(q_i, q_j)\n",
    "        if not edge:\n",
    "            continue\n",
    "\n",
    "        # Ensure edge starts at q_i (defensive) and reaches q_j.\n",
    "        if not check_equal(edge[0], q_i):\n",
    "            edge = [q_i] + edge\n",
    "\n",
    "        if check_equal(edge[-1], q_j):\n",
    "            # Valid shortcut: splice it into the current path.\n",
    "            current = splice_with_shortcut(current, i, j, edge)\n",
    "\n",
    "    # Final dedup (defensive)\n",
    "    cleaned = []\n",
    "    prev = None\n",
    "    for q in current:\n",
    "        if (prev is None) or not check_equal(q, prev):\n",
    "            cleaned.append(q)\n",
    "        prev = q\n",
    "\n",
    "    return cleaned"
   ]
  },
  {
   "cell_type": "markdown",
   "metadata": {
    "cell_id": "8f8037213456444b96ceb0ad0e21282e",
    "deepnote_cell_type": "markdown"
   },
   "source": [
    "Finally, let's run the shortcutting algorithm on the paths constructed earlier and see them in action! Can you see the difference that shortcutting makes?"
   ]
  },
  {
   "cell_type": "code",
   "execution_count": 40,
   "metadata": {
    "cell_id": "cb71293f6e074b67a52c6892bce7bae4",
    "deepnote_cell_type": "code",
    "execution_context_id": "b2e01dd1-8fc2-4c8c-a15e-20bd9e943141",
    "execution_millis": 9228,
    "execution_start": 1759266755279,
    "source_hash": "cf50d015"
   },
   "outputs": [],
   "source": [
    "sim.choose_sim(scenario_base_file, q_iiwa=q_initial)\n",
    "short_path_pick = shortcut_path(sim, path_pick, passes=200, min_separation=2)\n",
    "\n",
    "sim.choose_sim(scenario_grasp_file, q_iiwa=q_approach)\n",
    "short_path_place = shortcut_path(sim, path_place, passes=200, min_separation=2)\n",
    "\n",
    "sim.choose_sim(scenario_base_file, q_iiwa=q_goal)\n",
    "short_path_reset = shortcut_path(sim, path_reset, passes=200, min_separation=2)"
   ]
  },
  {
   "cell_type": "markdown",
   "metadata": {
    "cell_id": "24ad99abf4854a20bff231051b53952f",
    "deepnote_cell_type": "markdown"
   },
   "source": [
    "### Check your Implementation\n",
    "Run the cell below to test your Shortcutting function. For the test cases to work, you should be passing all RRT-Connect tests above, and all variable names in this file should be unaltered. This cell may take ~1 minute to run."
   ]
  },
  {
   "cell_type": "code",
   "execution_count": 41,
   "metadata": {
    "cell_id": "77b20dc6a95342f78cc6ae5c4fd5cd48",
    "deepnote_cell_type": "code",
    "execution_context_id": "b2e01dd1-8fc2-4c8c-a15e-20bd9e943141",
    "execution_millis": 3296,
    "execution_start": 1759266950739,
    "source_hash": "f3e15ad9"
   },
   "outputs": [
    {
     "name": "stdout",
     "output_type": "stream",
     "text": [
      "Total score is 10/10.\n",
      "\n",
      "Score for test_shortcut (manipulation.exercises.trajectories.test_plan_place_initials.TestShortcut.test_shortcut) is 10/10.\n",
      "- Note: this test does not explicitly verify a shorter path length\n",
      "run 0 found a solution in RRT-Connect!\n",
      "\n",
      " All Shortcut tests passed!!\n",
      "\n"
     ]
    }
   ],
   "source": [
    "from manipulation.exercises.grader import Grader\n",
    "from manipulation.exercises.trajectories.test_plan_place_initials import TestShortcut\n",
    "\n",
    "Grader.grade_output([TestShortcut], [locals()], \"results.json\")\n",
    "Grader.print_test_results(\"results.json\")"
   ]
  },
  {
   "cell_type": "markdown",
   "metadata": {
    "cell_id": "571666dfce2a4e59836266c463c6d5c7",
    "deepnote_cell_type": "markdown"
   },
   "source": [
    "## Setup and Run the Simulation\n",
    "**YOUR TASK**: Copy your code from above and paste it in the cell below. Then, run the simulation! Is there a noticeable difference from before?"
   ]
  },
  {
   "cell_type": "code",
   "execution_count": 43,
   "metadata": {},
   "outputs": [
    {
     "name": "stdout",
     "output_type": "stream",
     "text": [
      "T=23.650s\n"
     ]
    }
   ],
   "source": [
    "traj_q, traj_wsg = build_trajs(short_path_pick, q_grasp, q_approach, short_path_place, short_path_reset)"
   ]
  },
  {
   "cell_type": "code",
   "execution_count": null,
   "metadata": {
    "cell_id": "ffe63e7be60941d08da2fdb2496a95f9",
    "deepnote_cell_type": "code",
    "execution_context_id": "b2e01dd1-8fc2-4c8c-a15e-20bd9e943141",
    "execution_millis": 8,
    "execution_start": 1759266883048,
    "source_hash": "6411876b"
   },
   "outputs": [],
   "source": [
    "# Load the scenario_base_file scenario\n",
    "scenario = LoadScenario(filename=scenario_base_file)\n",
    "\n",
    "# Create a diagram builder\n",
    "builder = DiagramBuilder()\n",
    "\n",
    "# Make a hardware station with the scenario and our meshcat\n",
    "station = builder.AddSystem(MakeHardwareStation(scenario, meshcat=meshcat))\n",
    "\n",
    "# Add the trajectories to the diagram as TrajectorySources\n",
    "traj_source_q = builder.AddSystem(TrajectorySource(traj_q))\n",
    "traj_source_wsg = builder.AddSystem(TrajectorySource(traj_wsg))\n",
    "\n",
    "# Connect the trajectory source output ports to the arm and gripper position input ports\n",
    "builder.Connect(traj_source_q.get_output_port(), station.GetInputPort(\"iiwa.position\"))\n",
    "builder.Connect(traj_source_wsg.get_output_port(), station.GetInputPort(\"wsg.position\"))\n",
    "\n",
    "# Build and run the simulation\n",
    "diagram = builder.Build()\n",
    "simulation = Simulator(diagram)\n",
    "\n",
    "if running_as_notebook:\n",
    "    simulation.set_target_realtime_rate(1.0)\n",
    "\n",
    "ctx = simulation.get_mutable_context()\n",
    "diagram.ForcedPublish(ctx)\n",
    "\n",
    "meshcat.StartRecording()\n",
    "simulation.Initialize()\n",
    "simulation.AdvanceTo(\n",
    "    max(traj_q.end_time(), traj_wsg.end_time()) if running_as_notebook else 0.1\n",
    ")\n",
    "meshcat.StopRecording()\n",
    "meshcat.PublishRecording()"
   ]
  },
  {
   "cell_type": "markdown",
   "metadata": {
    "cell_id": "a19f111adae94f849c397671cd3b360b",
    "deepnote_cell_type": "markdown"
   },
   "source": [
    "# Gradescope Verification\n",
    "\n",
    "Take a screen recording of the shortcutted trajectory and upload it to gradescope **as an mp4**. The file should be (much) smaller than 500MB. In the video, the should smoothly move to the pre-grasp pose, grasp your initial, place it on the shelf, and return to its starting configuration without colliding with other objects in the environment. Upload the robot following the shortcutted path, so there shouldn't be too much jitter as the robot follows the trajectory.\n",
    "\n",
    "**Note:** Because some trajectories move very close to objects, small execution errors can lead to slight collisions, visible as flashes of a contact force. This is okay. However, there should not be major collisions with very large forces present."
   ]
  }
 ],
 "metadata": {
  "deepnote_app_hide_all_code_blocks_enabled": false,
  "deepnote_notebook_id": "980aeb83c1004f5d9e5e6d3d21a0b1e4",
  "kernelspec": {
   "display_name": ".venv",
   "language": "python",
   "name": "python3"
  },
  "language_info": {
   "codemirror_mode": {
    "name": "ipython",
    "version": 3
   },
   "file_extension": ".py",
   "mimetype": "text/x-python",
   "name": "python",
   "nbconvert_exporter": "python",
   "pygments_lexer": "ipython3",
   "version": "3.12.3"
  }
 },
 "nbformat": "4",
 "nbformat_minor": "0"
}
