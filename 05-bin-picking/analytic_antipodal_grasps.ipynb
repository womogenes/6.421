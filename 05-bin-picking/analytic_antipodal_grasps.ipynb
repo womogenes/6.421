{
 "cells": [
  {
   "cell_type": "markdown",
   "metadata": {
    "cell_id": "b2d3e1b1e8ad4ffc8f7b4aba639d534c",
    "deepnote_cell_type": "markdown",
    "id": "l8Rm5122dy2R"
   },
   "source": [
    "## **Analytic Antipodal Grasps**"
   ]
  },
  {
   "cell_type": "code",
   "execution_count": 1,
   "metadata": {
    "cell_id": "e6a15d0164eb4342836c69edb9cb0ba5",
    "deepnote_cell_type": "code",
    "id": "opM0QN-CPwry"
   },
   "outputs": [
    {
     "name": "stderr",
     "output_type": "stream",
     "text": [
      "/usr/local/lib/python3.12/dist-packages/matplotlib/projections/__init__.py:63: UserWarning: Unable to import Axes3D. This may be due to multiple versions of Matplotlib being installed (e.g. as a system package and as a pip package). As a result, the 3D projection is not available.\n",
      "  warnings.warn(\"Unable to import Axes3D. This may be due to multiple versions of \"\n"
     ]
    }
   ],
   "source": [
    "from typing import Callable\n",
    "\n",
    "import matplotlib.pyplot as plt\n",
    "import mpld3\n",
    "import numpy as np\n",
    "from pydrake.all import (\n",
    "    Evaluate,\n",
    "    Jacobian,\n",
    "    MathematicalProgram,\n",
    "    Solve,\n",
    "    Variable,\n",
    "    atan,\n",
    "    cos,\n",
    "    eq,\n",
    "    sin,\n",
    ")\n",
    "\n",
    "from manipulation import running_as_notebook\n",
    "\n",
    "if running_as_notebook:\n",
    "    mpld3.enable_notebook()"
   ]
  },
  {
   "cell_type": "markdown",
   "metadata": {
    "cell_id": "21d0efe1abdd4647a629ae5894decbad",
    "deepnote_cell_type": "markdown",
    "id": "_4KTk534ex9e"
   },
   "source": [
    "## Introduction to Symbolic Differentiation \n",
    "\n",
    "For this assignment, you will need [symbolic differentiation](https://en.wikipedia.org/wiki/Computer_algebra), supported by Drake's symbolic library. We will demonstrate how to use it with a simple function: \n",
    "$$T=\\cos^2(x) + y^5$$\n",
    "\n",
    "and its Jacobian (first-order derivative), \n",
    "$$J = \\begin{pmatrix} \\frac{\\partial T}{\\partial x} & \\frac{\\partial T}{\\partial y} \\end{pmatrix}=\\begin{pmatrix} -2\\cos(x)\\sin(x) & 5y^4 \\end{pmatrix}$$\n",
    "\n",
    "as well as the Hessian (second-order derivative), \n",
    "$$H = \\begin{pmatrix} \\frac{\\partial^2 T}{\\partial x^2} & \\frac{\\partial^2 T}{\\partial x \\partial y} \\\\ \\frac{\\partial^2 T}{\\partial y \\partial x} & \\frac{\\partial^2 T}{\\partial y^2} \\end{pmatrix}=\\begin{pmatrix} 2 \\sin^2(x) - 2\\cos^2(x) & 0 \\\\ 0 & 20y^3 \\end{pmatrix}$$\n",
    "\n",
    "Below are some snippets of how to define symbolic variables, differentiate expressions, and evaluate them using numerical values. "
   ]
  },
  {
   "cell_type": "code",
   "execution_count": 2,
   "metadata": {
    "cell_id": "7d45db1271a74b16b3617ccb947ec455",
    "deepnote_cell_type": "code",
    "id": "FbI9kuNKe9fb"
   },
   "outputs": [
    {
     "name": "stdout",
     "output_type": "stream",
     "text": [
      "(pow(y, 5) + pow(cos(x), 2))\n",
      "[[3125.98008514]]\n",
      "3125.980085143325\n",
      "[<Expression \"(-2 * sin(x) * cos(x))\"> <Expression \"(5 * pow(y, 4))\">]\n",
      "[<Expression \"(-2 * sin(x) * cos(x))\"> <Expression \"(5 * pow(y, 4))\">]\n",
      "[[2.79415498e-01]\n",
      " [3.12500000e+03]]\n",
      "[[<Expression \"(2 * pow(sin(x), 2) - 2 * pow(cos(x), 2))\">\n",
      "  <Expression \"0\">]\n",
      " [<Expression \"0\"> <Expression \"(20 * pow(y, 3))\">]]\n",
      "[[-1.92034057e+00  0.00000000e+00]\n",
      " [ 0.00000000e+00  2.50000000e+03]]\n"
     ]
    }
   ],
   "source": [
    "# 1. Symbolic variables are defined\n",
    "x = Variable(\"x\")\n",
    "y = Variable(\"y\")\n",
    "\n",
    "# 2. Expressions can be written by composing operations on Variables.\n",
    "T = cos(x) ** 2.0 + y**5.0\n",
    "print(T)\n",
    "\n",
    "# 3. Use Evaluate to query the numerical value of the expression given the variable values.\n",
    "# Use function for multi-dimensional quantities\n",
    "print(Evaluate(np.array([T]), {x: 3.0, y: 5.0}))\n",
    "# Use method for scalar quantities\n",
    "print(T.Evaluate({x: 3.0, y: 5.0}))\n",
    "\n",
    "# 4. Differentiate a quantity using Jacobian, or Differentiate.\n",
    "J = np.array([T.Differentiate(x), T.Differentiate(y)])\n",
    "print(J)\n",
    "# Use method for scalar quantities\n",
    "J = T.Jacobian([x, y])\n",
    "print(J)\n",
    "print(Evaluate(J, {x: 3.0, y: 5.0}))\n",
    "\n",
    "# Use function for taking Jacobian of multi-dimensional quantities.\n",
    "H = Jacobian(J, [x, y])\n",
    "print(H)\n",
    "print(Evaluate(H, {x: 3.0, y: 5.0}))"
   ]
  },
  {
   "cell_type": "markdown",
   "metadata": {
    "cell_id": "3bda1e20f06d48eabf02a1ca5b90cf10",
    "deepnote_cell_type": "markdown",
    "id": "A7Xm7hVkhbF0"
   },
   "source": [
    "Are the symbolic values of the Jacobian and Hessian what you expect? "
   ]
  },
  {
   "cell_type": "markdown",
   "metadata": {
    "cell_id": "a26ada7d1e3d4272aff90b3e5a186a35",
    "deepnote_cell_type": "markdown",
    "id": "KncJ9HEed94E"
   },
   "source": [
    "## The Cycloidal Gear\n",
    "\n",
    "Now we enter the main part of the problem. \n",
    "\n",
    "After graduating from MIT, you decide to work at a company producing cutting-edge [hypercycloidal gears](https://youtu.be/MBWkibie_5I?t=74). You are in charge of designing a robotic pick-and-place system for these parts. In order to reliably grasp the gears, you decide to use your knowledge of antipodal points. \n",
    "\n",
    "The mechanical design department gave you a pretty ugly parametric equation for what the shape looks like, which we won't even bother writing in latex! Instead, we provided it via the function `shape`. \n",
    "\n",
    "Given a angle in polar coordinates (parameter $t$), it returns $p(t)=[x(t),y(t)]$, a position in 2D.  \n",
    "\n",
    "The below cell implements the function and shows you what the gear part looks like. "
   ]
  },
  {
   "cell_type": "code",
   "execution_count": 3,
   "metadata": {
    "cell_id": "80d361ef10844880a6d4e44d16c34232",
    "deepnote_cell_type": "code",
    "id": "K9tnarjr8FnB"
   },
   "outputs": [
    {
     "data": {
      "image/png": "[encoded data removed]",
      "text/plain": [
       "<Figure size 640x480 with 1 Axes>"
      ]
     },
     "metadata": {},
     "output_type": "display_data"
    }
   ],
   "source": [
    "def shape(t: float) -> np.ndarray:\n",
    "    x = (\n",
    "        (10 * cos(t))\n",
    "        - (1.5 * cos(t + atan(sin(-9 * t) / ((4 / 3) - cos(-9 * t)))))\n",
    "        - (0.75 * cos(10 * t))\n",
    "    )\n",
    "    y = (\n",
    "        (-10 * sin(t))\n",
    "        + (1.5 * sin(t + atan(sin(-9 * t) / ((4 / 3) - cos(-9 * t)))))\n",
    "        + (0.75 * sin(10 * t))\n",
    "    )\n",
    "    return np.array([x, y])\n",
    "\n",
    "\n",
    "def plot_gear() -> None:\n",
    "    theta = np.linspace(0, 2 * np.pi, 500)\n",
    "    gear_shape = []\n",
    "    for i in range(500):\n",
    "        gear_shape.append(Evaluate(shape(theta[i])).squeeze())\n",
    "    gear_shape = np.array(gear_shape)\n",
    "    plt.axis(\"equal\")\n",
    "    plt.plot(gear_shape[:, 0], gear_shape[:, 1], \"k-\")\n",
    "\n",
    "\n",
    "plot_gear()"
   ]
  },
  {
   "cell_type": "markdown",
   "metadata": {
    "cell_id": "fad5e299d0ee42caa759de9c7579a7a7",
    "deepnote_cell_type": "markdown",
    "id": "m-W34GnXCG_N"
   },
   "source": [
    "## Grasp Energy Function\n",
    "\n",
    "How can we analytically find a pair of antipodal points given the parametric equation of a shape? We make the following claim: \n",
    "\n",
    "**Claim**: Let $p(t_1)$ and $p(t_2)$ be a pair of antipodal points given in parametric space. Then $t_1$ and $t_2$ are critical points of the following energy function:\n",
    "$$E=\\frac{1}{2}\\kappa\\|p(t_1)-p(t_2)\\|^2$$\n",
    "\n",
    "that is, they satisfy $\\frac{\\partial E}{\\partial \\mathbf{t}}=[0, 0]$ where $\\mathbf{t}=[t_1,t_2]$. \n",
    "\n",
    "For the subsequent problems, you may assume $\\kappa=2$. \n",
    "\n",
    "Claim: If $p(t_1)$ and $p(t_2)$ are antipodal points, then\n",
    "\n",
    "$\\frac{\\partial E}{\\partial \\mathbf{t}} = [0,0]$.\n",
    "\n",
    "**Please answer the following questions in Gradescope.**\n",
    "\n",
    "⸻\n",
    "\n",
    "## Verification 1\n",
    "\n",
    "Why does $\\frac{\\partial E}{\\partial \\mathbf{t}} = [0,0]$ hold when $p(t_1)$ and $p(t_2)$ are antipodal?\n",
    "\n",
    "A. Because $(p(t_1)-p(t_2))$ lies along the tangent vector at both points.\n",
    "\n",
    "B. Because $(p(t_1)-p(t_2))$ is orthogonal to the tangent vectors $p’(t_1)$ and $p’(t_2)$.\n",
    "\n",
    "C. Because $p(t_1) = p(t_2)$, so the difference vector vanishes.\n",
    "\n",
    "D. Because the derivative of $E$ with respect to $\\mathbf{t}$ is always zero, regardless of $(t_1,t_2)$.\n",
    "\n",
    "⸻\n",
    "\n",
    "## Verification 2\n",
    "\n",
    "Why does the converse (i.e., $\\frac{\\partial E}{\\partial \\mathbf{t}} = [0,0]$ implies antipodal points) not necessarily hold?\n",
    "\n",
    "A. Because the condition also holds if $p(t_1) = p(t_2)$, which does not represent distinct antipodal points.\n",
    "\n",
    "B. Because tangent vectors cannot be computed when $\\kappa = 2$.\n",
    "\n",
    "C. Because the gradient is never defined for parametric shapes.\n",
    "\n",
    "D. Because the condition only applies to convex shapes."
   ]
  },
  {
   "cell_type": "markdown",
   "metadata": {
    "cell_id": "7ea8b7335d404dfb8d614d5a0cd477fb",
    "deepnote_cell_type": "markdown",
    "id": "iNo0LiKyq0CO"
   },
   "source": [
    "## Implementation\n",
    "\n",
    "**Problem 5.1.c** [4pts]\n",
    "Using this knowledge, we will write a Mathematical Program to find the antipodal points. Since we are looking for $t_1$ and $t_2$ such that the Jacobians is a zero vector, we are solving a root finding problem. Problems of this nature can still be transcribed as an instance of a Mathematical program;  it simply doesn't have a cost. \n",
    "\n",
    "We will write down our problem as follows: \n",
    "\n",
    "$$\\begin{aligned} \\text{find} \\quad & \\mathbf{t}  \\\\ \\text{s.t.} \\quad &  \\frac{\\partial E}{\\partial \\mathbf{t}}(\\mathbf{t}) = \\mathbf{0} \\\\ \\quad & 0 \\leq \\mathbf{t} \\leq 2\\pi - \\varepsilon  \\\\ \\quad & t_1 - t_2 \\geq \\varepsilon \\end{aligned}$$\n",
    "\n",
    "The first constraint makes sure that they are critical points of the energy function, while the last two makes sure the points are not overlapping. You will write the following outer loop to check for the validity of solutions.\n",
    "\n",
    "1. Pick a random guess for $\\mathbf{t}$ using [SetInitialGuess](https://drake.mit.edu/doxygen_cxx/classdrake_1_1solvers_1_1_mathematical_program.html#ae48cb6d2263ccf09e38932dcd27f769f) by uniform sampling over $[0, 2\\pi - \\varepsilon]$ (use `np.random.rand(2)`). \n",
    "2. Using `MathematicalProgram`, solve the above problem. Remember there is no cost in this problem, so we simply only add the constraints. \n",
    "3. If the solution is not valid (i.e. problem doesn't return success), repeat 1-2 with random guesses until a valid solution is found. \n",
    "4. If a valid solution $\\mathbf{t}^*$ is found, return the Eigenvalues of the Hessian of $E$ at $\\mathbf{t}^*$. (Use `np.linalg.eigvals`)\n"
   ]
  },
  {
   "cell_type": "code",
   "execution_count": 54,
   "metadata": {
    "cell_id": "6111b2ba9f6b4b6284680bc1ce8c99d7",
    "deepnote_cell_type": "code",
    "id": "WYPS22sY80WD"
   },
   "outputs": [],
   "source": [
    "from pydrake.all import InitializeAutoDiff\n",
    "\n",
    "def find_antipodal_pts(shape: Callable) -> tuple[np.ndarray, np.ndarray]:\n",
    "    \"\"\"\n",
    "    Finds antipodal points given the parametric function that describes the shape of the object.\n",
    "    Args:\n",
    "      - shape: function from parametric space t to position R2.\n",
    "    Returns:\n",
    "      - result: 2-dim np array that contains antipodal grasp locations parametrized by [t1, t2]\n",
    "      - H_eig: 2-dim np array that contains eigenvalues of the Hessian.\n",
    "    \"\"\"\n",
    "    eps = 1e-3  # do not modify, but use it for epsilon variable above.\n",
    "\n",
    "    max_attempts = 100  # Prevent infinite loop\n",
    "    \n",
    "    for attempt in range(max_attempts):\n",
    "        # Step 1: Create new program and pick random guess\n",
    "        prog = MathematicalProgram()\n",
    "        t = prog.NewContinuousVariables(2, \"t\")\n",
    "        \n",
    "        # Pick random initial guess\n",
    "        prog.SetInitialGuess(t, np.random.rand(2) * (2*np.pi - eps))\n",
    "        \n",
    "        # Step 2: Add constraints (no cost function)\n",
    "        prog.AddBoundingBoxConstraint(0, 2*np.pi - eps, t)\n",
    "        prog.AddLinearConstraint(t[0] - t[1] >= eps)\n",
    "\n",
    "        # Create symbolic expression for E\n",
    "        point_0 = shape(t[0])\n",
    "        point_1 = shape(t[1])\n",
    "        diff = point_0 - point_1\n",
    "        E = diff[0]**2 + diff[1]**2\n",
    "        \n",
    "        # Take gradient symbolically and add gradient = 0 constraints\n",
    "        grad_E = E.Jacobian([t[0], t[1]])\n",
    "        prog.AddConstraint(grad_E[0] == 0)\n",
    "        prog.AddConstraint(grad_E[1] == 0)\n",
    "\n",
    "        # Solve the program\n",
    "        result = Solve(prog)\n",
    "        print(f\"Attempt {attempt + 1}: Result is success: {result.is_success()}\")\n",
    "        \n",
    "        # Step 3: Check if solution is valid\n",
    "        if result.is_success():\n",
    "            # Step 4: Valid solution found - compute Hessian eigenvalues\n",
    "            t_sol = result.GetSolution(t)\n",
    "\n",
    "            # Use symbolic differentiation to compute Hessian, then evaluate\n",
    "            # This avoids the autodiff issue\n",
    "            grad_E_full = E.Jacobian([t[0], t[1]])\n",
    "            H_symbolic = Jacobian(grad_E_full, [t[0], t[1]])\n",
    "            \n",
    "            # Evaluate the Hessian at the solution\n",
    "            H = Evaluate(H_symbolic, {t[0]: t_sol[0], t[1]: t_sol[1]})\n",
    "            H_eig = np.linalg.eigvals(H)\n",
    "            \n",
    "            return t_sol, H_eig\n",
    "        \n",
    "        # If not successful, continue to next attempt (Step 3)\n",
    "\n",
    "    # If no solution found after max attempts\n",
    "    print(f\"Failed to find solution after {max_attempts} attempts\")\n",
    "    return None, None"
   ]
  },
  {
   "cell_type": "markdown",
   "metadata": {
    "cell_id": "dc52a1f646a148b6b7a5ef42130a6784",
    "deepnote_cell_type": "markdown",
    "id": "LuOUVR5Vys3p"
   },
   "source": [
    "You can run the cell below to check the correctnes of your implementation. As the constraint is nonlinear, it might take some time to compute. (Typically, the solve time will still be less than 2~3 seconds)."
   ]
  },
  {
   "cell_type": "code",
   "execution_count": 57,
   "metadata": {
    "cell_id": "03d8d2f0c35b4363949f1efa46561487",
    "deepnote_cell_type": "code",
    "id": "Hzm6QrdGT88d"
   },
   "outputs": [
    {
     "name": "stdout",
     "output_type": "stream",
     "text": [
      "Attempt 1: Result is success: True\n",
      "[-613.09690082 -485.27876915]\n"
     ]
    },
    {
     "data": {
      "image/png": "[encoded data removed]",
      "text/plain": [
       "<Figure size 640x480 with 1 Axes>"
      ]
     },
     "metadata": {},
     "output_type": "display_data"
    }
   ],
   "source": [
    "def get_antipodal_pts_on_shape(pts, shape):\n",
    "    antipodal_pts = []\n",
    "    for i in range(2):\n",
    "        val = Evaluate(shape(pts[i])).squeeze()\n",
    "        antipodal_pts.append(val)\n",
    "    antipodal_pts = np.array(antipodal_pts)\n",
    "    return antipodal_pts\n",
    "\n",
    "\n",
    "def plot_antipodal_pts(pts, shape):\n",
    "    antipodal_pts = get_antipodal_pts_on_shape(pts, shape)\n",
    "    plt.scatter(antipodal_pts[:, 0], antipodal_pts[:, 1], color=\"red\")\n",
    "\n",
    "\n",
    "plot_gear()\n",
    "result, H_eig = find_antipodal_pts(shape)\n",
    "plot_antipodal_pts(result, shape)\n",
    "print(H_eig)"
   ]
  },
  {
   "cell_type": "code",
   "execution_count": 58,
   "metadata": {
    "cell_id": "93523851173e4cdc923b930b450a5a8c",
    "deepnote_cell_type": "code"
   },
   "outputs": [
    {
     "name": "stdout",
     "output_type": "stream",
     "text": [
      "Total score is 4/4.\n",
      "\n",
      "Score for Test find_antipodal_pts is 4/4.\n",
      "- Attempt 1: Result is success: False\n",
      "Attempt 2: Result is success: False\n",
      "Attempt 3: Result is success: False\n",
      "Attempt 4: Result is success: False\n",
      "Attempt 5: Result is success: False\n",
      "Attempt 6: Result is success: False\n",
      "Attempt 7: Result is success: False\n",
      "Attempt 8: Result is success: False\n",
      "Attempt 9: Result is success: False\n",
      "Attempt 10: Result is success: False\n",
      "Attempt 11: Result is success: False\n",
      "Attempt 12: Result is success: True\n",
      "Attempt 1: Result is success: False\n",
      "Attempt 2: Result is success: False\n",
      "Attempt 3: Result is success: False\n",
      "Attempt 4: Result is success: False\n",
      "Attempt 5: Result is success: False\n",
      "Attempt 6: Result is success: False\n",
      "Attempt 7: Result is success: False\n",
      "Attempt 8: Result is success: False\n",
      "Attempt 9: Result is success: True\n",
      "Attempt 1: Result is success: False\n",
      "Attempt 2: Result is success: False\n",
      "Attempt 3: Result is success: False\n",
      "Attempt 4: Result is success: True\n",
      "Attempt 1: Result is success: False\n",
      "Attempt 2: Result is success: False\n",
      "Attempt 3: Result is success: False\n",
      "Attempt 4: Result is success: False\n",
      "Attempt 5: Result is success: False\n",
      "Attempt 6: Result is success: False\n",
      "Attempt 7: Result is success: True\n",
      "Attempt 1: Result is success: False\n",
      "Attempt 2: Result is success: False\n",
      "Attempt 3: Result is success: False\n",
      "Attempt 4: Result is success: True\n",
      "Attempt 1: Result is success: True\n",
      "Attempt 1: Result is success: False\n",
      "Attempt 2: Result is success: False\n",
      "Attempt 3: Result is success: False\n",
      "Attempt 4: Result is success: False\n",
      "Attempt 5: Result is success: False\n",
      "Attempt 6: Result is success: False\n",
      "Attempt 7: Result is success: False\n",
      "Attempt 8: Result is success: False\n",
      "Attempt 9: Result is success: False\n",
      "Attempt 10: Result is success: False\n",
      "Attempt 11: Result is success: False\n",
      "Attempt 12: Result is success: False\n",
      "Attempt 13: Result is success: False\n",
      "Attempt 14: Result is success: False\n",
      "Attempt 15: Result is success: False\n",
      "Attempt 16: Result is success: False\n",
      "Attempt 17: Result is success: False\n",
      "Attempt 18: Result is success: False\n",
      "Attempt 19: Result is success: True\n",
      "Attempt 1: Result is success: False\n",
      "Attempt 2: Result is success: False\n",
      "Attempt 3: Result is success: False\n",
      "Attempt 4: Result is success: False\n",
      "Attempt 5: Result is success: False\n",
      "Attempt 6: Result is success: False\n",
      "Attempt 7: Result is success: False\n",
      "Attempt 8: Result is success: False\n",
      "Attempt 9: Result is success: False\n",
      "Attempt 10: Result is success: False\n",
      "Attempt 11: Result is success: False\n",
      "Attempt 12: Result is success: False\n",
      "Attempt 13: Result is success: False\n",
      "Attempt 14: Result is success: False\n",
      "Attempt 15: Result is success: False\n",
      "Attempt 16: Result is success: False\n",
      "Attempt 17: Result is success: False\n",
      "Attempt 18: Result is success: True\n",
      "Attempt 1: Result is success: True\n",
      "Attempt 1: Result is success: False\n",
      "Attempt 2: Result is success: False\n",
      "Attempt 3: Result is success: False\n",
      "Attempt 4: Result is success: True\n",
      "Attempt 1: Result is success: False\n",
      "Attempt 2: Result is success: False\n",
      "Attempt 3: Result is success: False\n",
      "Attempt 4: Result is success: False\n",
      "Attempt 5: Result is success: False\n",
      "Attempt 6: Result is success: False\n",
      "Attempt 7: Result is success: False\n",
      "Attempt 8: Result is success: False\n",
      "Attempt 9: Result is success: False\n",
      "Attempt 10: Result is success: False\n",
      "Attempt 11: Result is success: True\n",
      "Attempt 1: Result is success: True\n",
      "Attempt 1: Result is success: False\n",
      "Attempt 2: Result is success: False\n",
      "Attempt 3: Result is success: False\n",
      "Attempt 4: Result is success: False\n",
      "Attempt 5: Result is success: False\n",
      "Attempt 6: Result is success: False\n",
      "Attempt 7: Result is success: False\n",
      "Attempt 8: Result is success: False\n",
      "Attempt 9: Result is success: True\n",
      "Attempt 1: Result is success: True\n",
      "Attempt 1: Result is success: False\n",
      "Attempt 2: Result is success: True\n",
      "Attempt 1: Result is success: True\n",
      "Attempt 1: Result is success: True\n",
      "Attempt 1: Result is success: False\n",
      "Attempt 2: Result is success: True\n",
      "Attempt 1: Result is success: False\n",
      "Attempt 2: Result is success: False\n",
      "Attempt 3: Result is success: False\n",
      "Attempt 4: Result is success: False\n",
      "Attempt 5: Result is success: False\n",
      "Attempt 6: Result is success: False\n",
      "Attempt 7: Result is success: False\n",
      "Attempt 8: Result is success: False\n",
      "Attempt 9: Result is success: False\n",
      "Attempt 10: Result is success: False\n",
      "Attempt 11: Result is success: True\n",
      "Attempt 1: Result is success: False\n",
      "Attempt 2: Result is success: False\n",
      "Attempt 3: Result is success: False\n",
      "Attempt 4: Result is success: False\n",
      "Attempt 5: Result is success: False\n",
      "Attempt 6: Result is success: True\n",
      "\n"
     ]
    }
   ],
   "source": [
    "# Use this to test your implementation if you want!\n",
    "from manipulation.exercises.clutter.test_analytic_grasp import TestAnalyticGrasp\n",
    "from manipulation.exercises.grader import Grader\n",
    "\n",
    "Grader.grade_output([TestAnalyticGrasp], [locals()], \"results.json\")\n",
    "Grader.print_test_results(\"results.json\")"
   ]
  },
  {
   "cell_type": "markdown",
   "metadata": {
    "cell_id": "8af4dbc39bb74356ab2e25ef7397bc5b",
    "deepnote_cell_type": "markdown"
   },
   "source": [
    "## Verification 3: Finding antipodal points\n",
    "\n",
    "Implement the exercises below. Copy the exact numerical values (to 4 decimal places) for your verification keys, which you can copy/paste to Gradescope.\n",
    "\n",
    "Set a random seed with `np.random.seed(42)` and find anti-podal point in the shape under this random seed. (It's important to set the random seed first so that the result is reproducible)\n",
    "\n",
    "\n",
    "**Question:** What are the antipodal grasp locations $[t1, t2]$ and the eigenvalues of the Hessian?"
   ]
  },
  {
   "cell_type": "code",
   "execution_count": 59,
   "metadata": {
    "cell_id": "3cc2a2d949a242e387864c92ae829e07",
    "deepnote_cell_type": "code"
   },
   "outputs": [
    {
     "name": "stdout",
     "output_type": "stream",
     "text": [
      "Attempt 1: Result is success: False\n",
      "Attempt 2: Result is success: False\n",
      "Attempt 3: Result is success: False\n",
      "Attempt 4: Result is success: False\n",
      "Attempt 5: Result is success: False\n",
      "Attempt 6: Result is success: False\n",
      "Attempt 7: Result is success: True\n"
     ]
    },
    {
     "data": {
      "text/plain": [
       "(array([5.12693617, 1.15624914]), array([-1025.655899  , -1312.08498357]))"
      ]
     },
     "execution_count": 59,
     "metadata": {},
     "output_type": "execute_result"
    }
   ],
   "source": [
    "np.random.seed(42)\n",
    "find_antipodal_pts(shape)"
   ]
  },
  {
   "cell_type": "markdown",
   "metadata": {
    "cell_id": "550dabfe58db4229b5d5c777d591872b",
    "deepnote_cell_type": "markdown",
    "id": "tvstL9DDHIk3"
   },
   "source": [
    "## Hessian Analysis\n",
    "\n",
    "Why did we implement the Hessian? You may remember that the Hessian is used for the second-derivative test. For a function $f(x)$ with a critical point $x^*$, this critical point is:\n",
    "- A local minima if the Hessian is positive-definite (i.e. all positive eigenvalues)\n",
    "- A local maxima if the Hessian is negative-definite (i.e. all negative eigenvalues)\n",
    "- A saddle point if the Hessian has mixed positive / negative eigenvalues. \n",
    "\n",
    "**Please answer the following questions in Gradescope.**\n",
    "\n",
    "## Verification 4\n",
    "\n",
    "What do local minima, maxima, and saddle points correspond to in terms of the geometry of the object?\n",
    "\n",
    "A. Local minima $\\to$ convex points, local maxima $\\to$ concave points, saddle points $\\to$ flat regions.\n",
    "\n",
    "B. Local minima $\\to$ concave points, local maxima $\\to$ convex points, saddle points $\\to$ one concave and one convex.\n",
    "\n",
    "C. Local minima $\\to$ flat regions, local maxima $\\to$ edges, saddle points $\\to$ corners.\n",
    "\n",
    "D. Local minima $\\to$ random points, local maxima $\\to$ sharp corners, saddle points $\\to$ curved edges.\n",
    "\n",
    "## Verification 5\n",
    "\n",
    "Why might one configuration be preferred over the others for grasping?\n",
    "\n",
    "A. Local maxima are most desirable because convex regions prevent penetration into the object.\n",
    "\n",
    "B. Saddle points are most desirable because mixing concave and convex directions prevents slipping.\n",
    "\n",
    "C. All three are equally good because stability does not depend on geometry.\n",
    "\n",
    "D. Local minima are most desirable because concave regions provide stability against disturbances.\n",
    "\n",
    "**HINT: The cell below will visualize each of the cases.**"
   ]
  },
  {
   "cell_type": "code",
   "execution_count": null,
   "metadata": {
    "cell_id": "6bba07ddfac1448286cad19bf5ff00a1",
    "deepnote_cell_type": "code",
    "id": "MF16oJya8-WM"
   },
   "outputs": [],
   "source": [
    "if running_as_notebook:\n",
    "    plt.subplot(1, 3, 1)\n",
    "    plot_gear()\n",
    "    plt.title(\"Local Minima\")\n",
    "    np.random.seed(45)\n",
    "    while True:\n",
    "        result, H_eig = find_antipodal_pts(shape)\n",
    "        if (H_eig > 0).all():\n",
    "            break\n",
    "    plot_antipodal_pts(result, shape)\n",
    "\n",
    "    plt.subplot(1, 3, 2)\n",
    "    plot_gear()\n",
    "    plt.title(\"Local Maxima\")\n",
    "    np.random.seed(4)\n",
    "    while True:\n",
    "        result, H_eig = find_antipodal_pts(shape)\n",
    "        if (H_eig < 0).all():\n",
    "            break\n",
    "    plot_antipodal_pts(result, shape)\n",
    "\n",
    "    plt.subplot(1, 3, 3)\n",
    "    plot_gear()\n",
    "    plt.title(\"Saddle Point\")\n",
    "    np.random.seed(13)\n",
    "    while True:\n",
    "        result, H_eig = find_antipodal_pts(shape)\n",
    "        if (H_eig[0] > 0) and (H_eig[1] < 0):\n",
    "            break\n",
    "    plot_antipodal_pts(result, shape)"
   ]
  }
 ],
 "metadata": {
  "deepnote_notebook_id": "3e152519244c42789dc27d29a14e3a36",
  "kernelspec": {
   "display_name": ".venv",
   "language": "python",
   "name": "python3"
  },
  "language_info": {
   "codemirror_mode": {
    "name": "ipython",
    "version": 3
   },
   "file_extension": ".py",
   "mimetype": "text/x-python",
   "name": "python",
   "nbconvert_exporter": "python",
   "pygments_lexer": "ipython3",
   "version": "3.12.3"
  }
 },
 "nbformat": "4",
 "nbformat_minor": "0"
}
